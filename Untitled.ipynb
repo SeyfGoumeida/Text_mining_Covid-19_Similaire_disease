{
 "cells": [
  {
   "cell_type": "code",
   "execution_count": 24,
   "id": "dirty-enzyme",
   "metadata": {},
   "outputs": [
    {
     "name": "stdout",
     "output_type": "stream",
     "text": [
      "{'PMID': '33752217', 'OWN': 'NLM', 'STAT': 'Publisher', 'LR': '20210322', 'IS': '1423-0062 (Electronic) 0001-5652 (Linking)', 'DP': '2021 Mar 22', 'TI': 'Variants in ACE2 and TMPRSS2 Genes Are Not Major Determinants of COVID-19 Severity in UK Biobank Subjects.', 'PG': '1-3', 'LID': '10.1159/000515200 [doi]', 'AB': 'It is plausible that variants in the ACE2 and TMPRSS2 genes might contribute to variation in COVID-19 severity and that these could explain why some people become very unwell whereas most do not. Exome sequence data was obtained for 49,953 UK Biobank subjects, of whom 82 had tested positive for SARS-CoV-2 and could be presumed to have severe disease. A weighted burden analysis was carried out using SCOREASSOC to determine whether there were differences between these cases and the other sequenced subjects in the overall burden of rare, damaging variants in ACE2 or TMPRSS2. There were no statistically significant differences in weighted burden scores between cases and controls for either gene. There were no individual DNA sequence variants with a markedly different frequency between cases and controls. Whether there are small effects on severity, or whether there might be rare variants with major effect sizes, would require studies in much larger samples. Genetic variants affecting the structure and function of the ACE2 and TMPRSS2 proteins are not the main explanation for why some people develop severe symptoms in response to infection with SARS-CoV-2. This research was conducted using the UK Biobank Resource.', 'CI': ['(c) 2021 The Author(s) Published by S. Karger AG, Basel.'], 'FAU': ['Curtis, David'], 'AU': ['Curtis D'], 'AD': ['UCL Genetics Institute, University College London, London, United Kingdom, d.curtis@ucl.ac.uk.', 'Centre for Psychiatry, Queen Mary University of London, London, United Kingdom, d.curtis@ucl.ac.uk.'], 'LA': ['eng'], 'PT': ['News'], 'DEP': '20210322', 'PL': 'Switzerland', 'TA': 'Hum Hered', 'JT': 'Human heredity', 'JID': '0200525', 'SB': 'IM', 'OTO': ['NOTNLM'], 'OT': ['ACE2', 'COVID-19', 'SARS-CoV-2', 'TMPRSS2'], 'EDAT': '2021/03/23 06:00', 'MHDA': '2021/03/23 06:00', 'CRDT': ['2021/03/22 20:28'], 'PHST': ['2020/10/26 00:00 [received]', '2021/02/09 00:00 [accepted]', '2021/03/22 20:28 [entrez]', '2021/03/23 06:00 [pubmed]', '2021/03/23 06:00 [medline]'], 'AID': ['000515200 [pii]', '10.1159/000515200 [doi]'], 'PST': 'aheadofprint', 'SO': 'Hum Hered. 2021 Mar 22:1-3. doi: 10.1159/000515200.'}\n"
     ]
    }
   ],
   "source": [
    "from Bio import Entrez\n",
    "from Bio import Medline\n",
    "import json\n",
    "\n",
    "\n",
    "MAX_COUNT = 3\n",
    "TERM = 'covid'\n",
    "h = Entrez.esearch(db='pubmed', retmax=MAX_COUNT, term=TERM)\n",
    "result = Entrez.read(h)\n",
    "ids = result['IdList']\n",
    "h = Entrez.efetch(db='pubmed', id=ids, rettype='medline', retmode='json')\n",
    "records = Medline.parse(h)\n",
    "i=0\n",
    "for record in records:\n",
    "    filename=\"fichier_\"+TERM+str(i)+\".json\"\n",
    "    json.dump(record, open(\".\\\\new_corpus\\\\\"+filename, 'w'))\n",
    "    data = json.load(open(\".\\\\new_corpus\\\\\"+filename))\n",
    "    i=i+1\n",
    "print(data)\n",
    "\n"
   ]
  },
  {
   "cell_type": "code",
   "execution_count": null,
   "id": "promising-armor",
   "metadata": {},
   "outputs": [],
   "source": []
  }
 ],
 "metadata": {
  "kernelspec": {
   "display_name": "Python 3",
   "language": "python",
   "name": "python3"
  },
  "language_info": {
   "codemirror_mode": {
    "name": "ipython",
    "version": 3
   },
   "file_extension": ".py",
   "mimetype": "text/x-python",
   "name": "python",
   "nbconvert_exporter": "python",
   "pygments_lexer": "ipython3",
   "version": "3.8.5"
  }
 },
 "nbformat": 4,
 "nbformat_minor": 5
}

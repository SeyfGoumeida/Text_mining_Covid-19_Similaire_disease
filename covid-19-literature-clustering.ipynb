{
 "cells": [
  {
   "cell_type": "markdown",
   "metadata": {
    "id": "wJ5Rg27yGdWd"
   },
   "source": [
    "# COVID-19 Literature Clustering"
   ]
  },
  {
   "cell_type": "markdown",
   "metadata": {
    "id": "QjcVT_ieGdWk"
   },
   "source": [
    "# Table of Contents\n",
    "1. Loading the data\n",
    "2. Pre-processing\n",
    "3. Vectorization\n",
    "4. PCA  & Clustering\n",
    "5. Dimensionality Reduction with t-SNE\n",
    "6. Topic Modeling on Each Cluster\n",
    "7. Classify\n",
    "8. Plot\n",
    "9. How to Use the Plot?\n",
    "10. Conclusion\n",
    "11. Citation/Sources\n",
    "\n",
    "<br>"
   ]
  },
  {
   "cell_type": "code",
   "execution_count": 1,
   "metadata": {
    "colab": {
     "base_uri": "https://localhost:8080/"
    },
    "id": "4M_HY5CFGdWl",
    "outputId": "25f9202e-e213-49dd-f80a-46dd4d71dbc1"
   },
   "outputs": [
    {
     "name": "stdout",
     "output_type": "stream",
     "text": [
      "Collecting Bio\n",
      "  Downloading bio-0.4.1-py3-none-any.whl (73 kB)\n",
      "Requirement already satisfied: requests in c:\\users\\seyf_goumeida\\anaconda3\\lib\\site-packages (from Bio) (2.24.0)\n",
      "Requirement already satisfied: biopython>=1.78 in c:\\users\\seyf_goumeida\\anaconda3\\lib\\site-packages (from Bio) (1.78)\n",
      "Requirement already satisfied: numpy<1.20 in c:\\users\\seyf_goumeida\\anaconda3\\lib\\site-packages (from Bio) (1.19.2)\n",
      "Requirement already satisfied: certifi>=2017.4.17 in c:\\users\\seyf_goumeida\\anaconda3\\lib\\site-packages (from requests->Bio) (2020.6.20)\n",
      "Requirement already satisfied: chardet<4,>=3.0.2 in c:\\users\\seyf_goumeida\\anaconda3\\lib\\site-packages (from requests->Bio) (3.0.4)\n",
      "Requirement already satisfied: idna<3,>=2.5 in c:\\users\\seyf_goumeida\\anaconda3\\lib\\site-packages (from requests->Bio) (2.10)\n",
      "Requirement already satisfied: urllib3!=1.25.0,!=1.25.1,<1.26,>=1.21.1 in c:\\users\\seyf_goumeida\\anaconda3\\lib\\site-packages (from requests->Bio) (1.25.11)\n",
      "Installing collected packages: Bio\n",
      "Successfully installed Bio-0.4.1\n"
     ]
    }
   ],
   "source": [
    "import numpy as np # linear algebra\n",
    "import pandas as pd # data processing, CSV file I/O (e.g. pd.read_csv)\n",
    "import glob\n",
    "import json\n",
    "!pip install Bio\n",
    "import Bio\n",
    "from Bio import Entrez\n",
    "from Bio import Medline\n",
    "import matplotlib.pyplot as plt\n",
    "plt.style.use('ggplot')"
   ]
  },
  {
   "cell_type": "code",
   "execution_count": 2,
   "metadata": {
    "id": "3gFH3Z-uGdWm"
   },
   "outputs": [],
   "source": [
    "def get_breaks(content, length):\n",
    "    data = \"\"\n",
    "    words = content.split(' ')\n",
    "    total_chars = 0\n",
    "\n",
    "    # add break every length characters\n",
    "    for i in range(len(words)):\n",
    "        total_chars += len(words[i])\n",
    "        if total_chars > length:\n",
    "            data = data + \"<br>\" + words[i]\n",
    "            total_chars = 0\n",
    "        else:\n",
    "            data = data + \" \" + words[i]\n",
    "    return data"
   ]
  },
  {
   "cell_type": "markdown",
   "metadata": {
    "id": "h5poRtkuGdWn"
   },
   "source": [
    "#### specification du nombre de fichiers a lire : "
   ]
  },
  {
   "cell_type": "code",
   "execution_count": 5,
   "metadata": {
    "id": "B7dg7LQ8GdWo"
   },
   "outputs": [],
   "source": [
    "max_searchs = 50000\n",
    "term = \"coronavirus\"\n"
   ]
  },
  {
   "cell_type": "code",
   "execution_count": 6,
   "metadata": {
    "id": "FYVl_5GdGdWp"
   },
   "outputs": [
    {
     "ename": "KeyboardInterrupt",
     "evalue": "",
     "output_type": "error",
     "traceback": [
      "\u001b[1;31m---------------------------------------------------------------------------\u001b[0m",
      "\u001b[1;31mKeyboardInterrupt\u001b[0m                         Traceback (most recent call last)",
      "\u001b[1;32m<ipython-input-6-a06f5416d039>\u001b[0m in \u001b[0;36m<module>\u001b[1;34m\u001b[0m\n\u001b[0;32m      2\u001b[0m \u001b[0mids\u001b[0m\u001b[1;33m=\u001b[0m\u001b[1;33m[\u001b[0m\u001b[1;33m[\u001b[0m\u001b[1;33m]\u001b[0m\u001b[1;33m]\u001b[0m\u001b[1;33m\u001b[0m\u001b[1;33m\u001b[0m\u001b[0m\n\u001b[0;32m      3\u001b[0m \u001b[1;32mfor\u001b[0m \u001b[0mi\u001b[0m \u001b[1;32min\u001b[0m \u001b[0mrange\u001b[0m\u001b[1;33m(\u001b[0m\u001b[1;36m0\u001b[0m\u001b[1;33m,\u001b[0m\u001b[0mmax_searchs\u001b[0m\u001b[1;33m,\u001b[0m\u001b[1;36m100\u001b[0m\u001b[1;33m)\u001b[0m\u001b[1;33m:\u001b[0m\u001b[1;33m\u001b[0m\u001b[1;33m\u001b[0m\u001b[0m\n\u001b[1;32m----> 4\u001b[1;33m   \u001b[0mh\u001b[0m \u001b[1;33m=\u001b[0m \u001b[0mEntrez\u001b[0m\u001b[1;33m.\u001b[0m\u001b[0mesearch\u001b[0m\u001b[1;33m(\u001b[0m\u001b[0mdb\u001b[0m\u001b[1;33m=\u001b[0m\u001b[1;34m'pubmed'\u001b[0m\u001b[1;33m,\u001b[0m \u001b[0mretmax\u001b[0m\u001b[1;33m=\u001b[0m\u001b[1;36m100\u001b[0m\u001b[1;33m,\u001b[0m\u001b[0mretstart\u001b[0m\u001b[1;33m=\u001b[0m\u001b[0mi\u001b[0m\u001b[1;33m,\u001b[0m \u001b[0mterm\u001b[0m\u001b[1;33m=\u001b[0m\u001b[0mterm\u001b[0m\u001b[1;33m)\u001b[0m\u001b[1;33m\u001b[0m\u001b[1;33m\u001b[0m\u001b[0m\n\u001b[0m\u001b[0;32m      5\u001b[0m   \u001b[0mresult\u001b[0m \u001b[1;33m=\u001b[0m \u001b[0mEntrez\u001b[0m\u001b[1;33m.\u001b[0m\u001b[0mread\u001b[0m\u001b[1;33m(\u001b[0m\u001b[0mh\u001b[0m\u001b[1;33m)\u001b[0m\u001b[1;33m\u001b[0m\u001b[1;33m\u001b[0m\u001b[0m\n\u001b[0;32m      6\u001b[0m   \u001b[0mids\u001b[0m\u001b[1;33m.\u001b[0m\u001b[0mappend\u001b[0m\u001b[1;33m(\u001b[0m\u001b[0mresult\u001b[0m\u001b[1;33m[\u001b[0m\u001b[1;34m'IdList'\u001b[0m\u001b[1;33m]\u001b[0m\u001b[1;33m)\u001b[0m\u001b[1;33m\u001b[0m\u001b[1;33m\u001b[0m\u001b[0m\n",
      "\u001b[1;32m~\\anaconda3\\lib\\site-packages\\Bio\\Entrez\\__init__.py\u001b[0m in \u001b[0;36mesearch\u001b[1;34m(db, term, **keywds)\u001b[0m\n\u001b[0;32m    240\u001b[0m     \u001b[0mvariables\u001b[0m \u001b[1;33m=\u001b[0m \u001b[1;33m{\u001b[0m\u001b[1;34m\"db\"\u001b[0m\u001b[1;33m:\u001b[0m \u001b[0mdb\u001b[0m\u001b[1;33m,\u001b[0m \u001b[1;34m\"term\"\u001b[0m\u001b[1;33m:\u001b[0m \u001b[0mterm\u001b[0m\u001b[1;33m}\u001b[0m\u001b[1;33m\u001b[0m\u001b[1;33m\u001b[0m\u001b[0m\n\u001b[0;32m    241\u001b[0m     \u001b[0mvariables\u001b[0m\u001b[1;33m.\u001b[0m\u001b[0mupdate\u001b[0m\u001b[1;33m(\u001b[0m\u001b[0mkeywds\u001b[0m\u001b[1;33m)\u001b[0m\u001b[1;33m\u001b[0m\u001b[1;33m\u001b[0m\u001b[0m\n\u001b[1;32m--> 242\u001b[1;33m     \u001b[1;32mreturn\u001b[0m \u001b[0m_open\u001b[0m\u001b[1;33m(\u001b[0m\u001b[0mcgi\u001b[0m\u001b[1;33m,\u001b[0m \u001b[0mvariables\u001b[0m\u001b[1;33m)\u001b[0m\u001b[1;33m\u001b[0m\u001b[1;33m\u001b[0m\u001b[0m\n\u001b[0m\u001b[0;32m    243\u001b[0m \u001b[1;33m\u001b[0m\u001b[0m\n\u001b[0;32m    244\u001b[0m \u001b[1;33m\u001b[0m\u001b[0m\n",
      "\u001b[1;32m~\\anaconda3\\lib\\site-packages\\Bio\\Entrez\\__init__.py\u001b[0m in \u001b[0;36m_open\u001b[1;34m(cgi, params, post, ecitmatch)\u001b[0m\n\u001b[0;32m    604\u001b[0m                 \u001b[0mhandle\u001b[0m \u001b[1;33m=\u001b[0m \u001b[0murlopen\u001b[0m\u001b[1;33m(\u001b[0m\u001b[0mcgi\u001b[0m\u001b[1;33m,\u001b[0m \u001b[0mdata\u001b[0m\u001b[1;33m=\u001b[0m\u001b[0moptions\u001b[0m\u001b[1;33m.\u001b[0m\u001b[0mencode\u001b[0m\u001b[1;33m(\u001b[0m\u001b[1;34m\"utf8\"\u001b[0m\u001b[1;33m)\u001b[0m\u001b[1;33m)\u001b[0m\u001b[1;33m\u001b[0m\u001b[1;33m\u001b[0m\u001b[0m\n\u001b[0;32m    605\u001b[0m             \u001b[1;32melse\u001b[0m\u001b[1;33m:\u001b[0m\u001b[1;33m\u001b[0m\u001b[1;33m\u001b[0m\u001b[0m\n\u001b[1;32m--> 606\u001b[1;33m                 \u001b[0mhandle\u001b[0m \u001b[1;33m=\u001b[0m \u001b[0murlopen\u001b[0m\u001b[1;33m(\u001b[0m\u001b[0mcgi\u001b[0m\u001b[1;33m)\u001b[0m\u001b[1;33m\u001b[0m\u001b[1;33m\u001b[0m\u001b[0m\n\u001b[0m\u001b[0;32m    607\u001b[0m         \u001b[1;32mexcept\u001b[0m \u001b[0mHTTPError\u001b[0m \u001b[1;32mas\u001b[0m \u001b[0mexception\u001b[0m\u001b[1;33m:\u001b[0m\u001b[1;33m\u001b[0m\u001b[1;33m\u001b[0m\u001b[0m\n\u001b[0;32m    608\u001b[0m             \u001b[1;31m# Reraise if the final try fails\u001b[0m\u001b[1;33m\u001b[0m\u001b[1;33m\u001b[0m\u001b[1;33m\u001b[0m\u001b[0m\n",
      "\u001b[1;32m~\\anaconda3\\lib\\urllib\\request.py\u001b[0m in \u001b[0;36murlopen\u001b[1;34m(url, data, timeout, cafile, capath, cadefault, context)\u001b[0m\n\u001b[0;32m    220\u001b[0m     \u001b[1;32melse\u001b[0m\u001b[1;33m:\u001b[0m\u001b[1;33m\u001b[0m\u001b[1;33m\u001b[0m\u001b[0m\n\u001b[0;32m    221\u001b[0m         \u001b[0mopener\u001b[0m \u001b[1;33m=\u001b[0m \u001b[0m_opener\u001b[0m\u001b[1;33m\u001b[0m\u001b[1;33m\u001b[0m\u001b[0m\n\u001b[1;32m--> 222\u001b[1;33m     \u001b[1;32mreturn\u001b[0m \u001b[0mopener\u001b[0m\u001b[1;33m.\u001b[0m\u001b[0mopen\u001b[0m\u001b[1;33m(\u001b[0m\u001b[0murl\u001b[0m\u001b[1;33m,\u001b[0m \u001b[0mdata\u001b[0m\u001b[1;33m,\u001b[0m \u001b[0mtimeout\u001b[0m\u001b[1;33m)\u001b[0m\u001b[1;33m\u001b[0m\u001b[1;33m\u001b[0m\u001b[0m\n\u001b[0m\u001b[0;32m    223\u001b[0m \u001b[1;33m\u001b[0m\u001b[0m\n\u001b[0;32m    224\u001b[0m \u001b[1;32mdef\u001b[0m \u001b[0minstall_opener\u001b[0m\u001b[1;33m(\u001b[0m\u001b[0mopener\u001b[0m\u001b[1;33m)\u001b[0m\u001b[1;33m:\u001b[0m\u001b[1;33m\u001b[0m\u001b[1;33m\u001b[0m\u001b[0m\n",
      "\u001b[1;32m~\\anaconda3\\lib\\urllib\\request.py\u001b[0m in \u001b[0;36mopen\u001b[1;34m(self, fullurl, data, timeout)\u001b[0m\n\u001b[0;32m    523\u001b[0m \u001b[1;33m\u001b[0m\u001b[0m\n\u001b[0;32m    524\u001b[0m         \u001b[0msys\u001b[0m\u001b[1;33m.\u001b[0m\u001b[0maudit\u001b[0m\u001b[1;33m(\u001b[0m\u001b[1;34m'urllib.Request'\u001b[0m\u001b[1;33m,\u001b[0m \u001b[0mreq\u001b[0m\u001b[1;33m.\u001b[0m\u001b[0mfull_url\u001b[0m\u001b[1;33m,\u001b[0m \u001b[0mreq\u001b[0m\u001b[1;33m.\u001b[0m\u001b[0mdata\u001b[0m\u001b[1;33m,\u001b[0m \u001b[0mreq\u001b[0m\u001b[1;33m.\u001b[0m\u001b[0mheaders\u001b[0m\u001b[1;33m,\u001b[0m \u001b[0mreq\u001b[0m\u001b[1;33m.\u001b[0m\u001b[0mget_method\u001b[0m\u001b[1;33m(\u001b[0m\u001b[1;33m)\u001b[0m\u001b[1;33m)\u001b[0m\u001b[1;33m\u001b[0m\u001b[1;33m\u001b[0m\u001b[0m\n\u001b[1;32m--> 525\u001b[1;33m         \u001b[0mresponse\u001b[0m \u001b[1;33m=\u001b[0m \u001b[0mself\u001b[0m\u001b[1;33m.\u001b[0m\u001b[0m_open\u001b[0m\u001b[1;33m(\u001b[0m\u001b[0mreq\u001b[0m\u001b[1;33m,\u001b[0m \u001b[0mdata\u001b[0m\u001b[1;33m)\u001b[0m\u001b[1;33m\u001b[0m\u001b[1;33m\u001b[0m\u001b[0m\n\u001b[0m\u001b[0;32m    526\u001b[0m \u001b[1;33m\u001b[0m\u001b[0m\n\u001b[0;32m    527\u001b[0m         \u001b[1;31m# post-process response\u001b[0m\u001b[1;33m\u001b[0m\u001b[1;33m\u001b[0m\u001b[1;33m\u001b[0m\u001b[0m\n",
      "\u001b[1;32m~\\anaconda3\\lib\\urllib\\request.py\u001b[0m in \u001b[0;36m_open\u001b[1;34m(self, req, data)\u001b[0m\n\u001b[0;32m    540\u001b[0m \u001b[1;33m\u001b[0m\u001b[0m\n\u001b[0;32m    541\u001b[0m         \u001b[0mprotocol\u001b[0m \u001b[1;33m=\u001b[0m \u001b[0mreq\u001b[0m\u001b[1;33m.\u001b[0m\u001b[0mtype\u001b[0m\u001b[1;33m\u001b[0m\u001b[1;33m\u001b[0m\u001b[0m\n\u001b[1;32m--> 542\u001b[1;33m         result = self._call_chain(self.handle_open, protocol, protocol +\n\u001b[0m\u001b[0;32m    543\u001b[0m                                   '_open', req)\n\u001b[0;32m    544\u001b[0m         \u001b[1;32mif\u001b[0m \u001b[0mresult\u001b[0m\u001b[1;33m:\u001b[0m\u001b[1;33m\u001b[0m\u001b[1;33m\u001b[0m\u001b[0m\n",
      "\u001b[1;32m~\\anaconda3\\lib\\urllib\\request.py\u001b[0m in \u001b[0;36m_call_chain\u001b[1;34m(self, chain, kind, meth_name, *args)\u001b[0m\n\u001b[0;32m    500\u001b[0m         \u001b[1;32mfor\u001b[0m \u001b[0mhandler\u001b[0m \u001b[1;32min\u001b[0m \u001b[0mhandlers\u001b[0m\u001b[1;33m:\u001b[0m\u001b[1;33m\u001b[0m\u001b[1;33m\u001b[0m\u001b[0m\n\u001b[0;32m    501\u001b[0m             \u001b[0mfunc\u001b[0m \u001b[1;33m=\u001b[0m \u001b[0mgetattr\u001b[0m\u001b[1;33m(\u001b[0m\u001b[0mhandler\u001b[0m\u001b[1;33m,\u001b[0m \u001b[0mmeth_name\u001b[0m\u001b[1;33m)\u001b[0m\u001b[1;33m\u001b[0m\u001b[1;33m\u001b[0m\u001b[0m\n\u001b[1;32m--> 502\u001b[1;33m             \u001b[0mresult\u001b[0m \u001b[1;33m=\u001b[0m \u001b[0mfunc\u001b[0m\u001b[1;33m(\u001b[0m\u001b[1;33m*\u001b[0m\u001b[0margs\u001b[0m\u001b[1;33m)\u001b[0m\u001b[1;33m\u001b[0m\u001b[1;33m\u001b[0m\u001b[0m\n\u001b[0m\u001b[0;32m    503\u001b[0m             \u001b[1;32mif\u001b[0m \u001b[0mresult\u001b[0m \u001b[1;32mis\u001b[0m \u001b[1;32mnot\u001b[0m \u001b[1;32mNone\u001b[0m\u001b[1;33m:\u001b[0m\u001b[1;33m\u001b[0m\u001b[1;33m\u001b[0m\u001b[0m\n\u001b[0;32m    504\u001b[0m                 \u001b[1;32mreturn\u001b[0m \u001b[0mresult\u001b[0m\u001b[1;33m\u001b[0m\u001b[1;33m\u001b[0m\u001b[0m\n",
      "\u001b[1;32m~\\anaconda3\\lib\\urllib\\request.py\u001b[0m in \u001b[0;36mhttps_open\u001b[1;34m(self, req)\u001b[0m\n\u001b[0;32m   1391\u001b[0m \u001b[1;33m\u001b[0m\u001b[0m\n\u001b[0;32m   1392\u001b[0m         \u001b[1;32mdef\u001b[0m \u001b[0mhttps_open\u001b[0m\u001b[1;33m(\u001b[0m\u001b[0mself\u001b[0m\u001b[1;33m,\u001b[0m \u001b[0mreq\u001b[0m\u001b[1;33m)\u001b[0m\u001b[1;33m:\u001b[0m\u001b[1;33m\u001b[0m\u001b[1;33m\u001b[0m\u001b[0m\n\u001b[1;32m-> 1393\u001b[1;33m             return self.do_open(http.client.HTTPSConnection, req,\n\u001b[0m\u001b[0;32m   1394\u001b[0m                 context=self._context, check_hostname=self._check_hostname)\n\u001b[0;32m   1395\u001b[0m \u001b[1;33m\u001b[0m\u001b[0m\n",
      "\u001b[1;32m~\\anaconda3\\lib\\urllib\\request.py\u001b[0m in \u001b[0;36mdo_open\u001b[1;34m(self, http_class, req, **http_conn_args)\u001b[0m\n\u001b[0;32m   1348\u001b[0m         \u001b[1;32mtry\u001b[0m\u001b[1;33m:\u001b[0m\u001b[1;33m\u001b[0m\u001b[1;33m\u001b[0m\u001b[0m\n\u001b[0;32m   1349\u001b[0m             \u001b[1;32mtry\u001b[0m\u001b[1;33m:\u001b[0m\u001b[1;33m\u001b[0m\u001b[1;33m\u001b[0m\u001b[0m\n\u001b[1;32m-> 1350\u001b[1;33m                 h.request(req.get_method(), req.selector, req.data, headers,\n\u001b[0m\u001b[0;32m   1351\u001b[0m                           encode_chunked=req.has_header('Transfer-encoding'))\n\u001b[0;32m   1352\u001b[0m             \u001b[1;32mexcept\u001b[0m \u001b[0mOSError\u001b[0m \u001b[1;32mas\u001b[0m \u001b[0merr\u001b[0m\u001b[1;33m:\u001b[0m \u001b[1;31m# timeout error\u001b[0m\u001b[1;33m\u001b[0m\u001b[1;33m\u001b[0m\u001b[0m\n",
      "\u001b[1;32m~\\anaconda3\\lib\\http\\client.py\u001b[0m in \u001b[0;36mrequest\u001b[1;34m(self, method, url, body, headers, encode_chunked)\u001b[0m\n\u001b[0;32m   1253\u001b[0m                 encode_chunked=False):\n\u001b[0;32m   1254\u001b[0m         \u001b[1;34m\"\"\"Send a complete request to the server.\"\"\"\u001b[0m\u001b[1;33m\u001b[0m\u001b[1;33m\u001b[0m\u001b[0m\n\u001b[1;32m-> 1255\u001b[1;33m         \u001b[0mself\u001b[0m\u001b[1;33m.\u001b[0m\u001b[0m_send_request\u001b[0m\u001b[1;33m(\u001b[0m\u001b[0mmethod\u001b[0m\u001b[1;33m,\u001b[0m \u001b[0murl\u001b[0m\u001b[1;33m,\u001b[0m \u001b[0mbody\u001b[0m\u001b[1;33m,\u001b[0m \u001b[0mheaders\u001b[0m\u001b[1;33m,\u001b[0m \u001b[0mencode_chunked\u001b[0m\u001b[1;33m)\u001b[0m\u001b[1;33m\u001b[0m\u001b[1;33m\u001b[0m\u001b[0m\n\u001b[0m\u001b[0;32m   1256\u001b[0m \u001b[1;33m\u001b[0m\u001b[0m\n\u001b[0;32m   1257\u001b[0m     \u001b[1;32mdef\u001b[0m \u001b[0m_send_request\u001b[0m\u001b[1;33m(\u001b[0m\u001b[0mself\u001b[0m\u001b[1;33m,\u001b[0m \u001b[0mmethod\u001b[0m\u001b[1;33m,\u001b[0m \u001b[0murl\u001b[0m\u001b[1;33m,\u001b[0m \u001b[0mbody\u001b[0m\u001b[1;33m,\u001b[0m \u001b[0mheaders\u001b[0m\u001b[1;33m,\u001b[0m \u001b[0mencode_chunked\u001b[0m\u001b[1;33m)\u001b[0m\u001b[1;33m:\u001b[0m\u001b[1;33m\u001b[0m\u001b[1;33m\u001b[0m\u001b[0m\n",
      "\u001b[1;32m~\\anaconda3\\lib\\http\\client.py\u001b[0m in \u001b[0;36m_send_request\u001b[1;34m(self, method, url, body, headers, encode_chunked)\u001b[0m\n\u001b[0;32m   1299\u001b[0m             \u001b[1;31m# default charset of iso-8859-1.\u001b[0m\u001b[1;33m\u001b[0m\u001b[1;33m\u001b[0m\u001b[1;33m\u001b[0m\u001b[0m\n\u001b[0;32m   1300\u001b[0m             \u001b[0mbody\u001b[0m \u001b[1;33m=\u001b[0m \u001b[0m_encode\u001b[0m\u001b[1;33m(\u001b[0m\u001b[0mbody\u001b[0m\u001b[1;33m,\u001b[0m \u001b[1;34m'body'\u001b[0m\u001b[1;33m)\u001b[0m\u001b[1;33m\u001b[0m\u001b[1;33m\u001b[0m\u001b[0m\n\u001b[1;32m-> 1301\u001b[1;33m         \u001b[0mself\u001b[0m\u001b[1;33m.\u001b[0m\u001b[0mendheaders\u001b[0m\u001b[1;33m(\u001b[0m\u001b[0mbody\u001b[0m\u001b[1;33m,\u001b[0m \u001b[0mencode_chunked\u001b[0m\u001b[1;33m=\u001b[0m\u001b[0mencode_chunked\u001b[0m\u001b[1;33m)\u001b[0m\u001b[1;33m\u001b[0m\u001b[1;33m\u001b[0m\u001b[0m\n\u001b[0m\u001b[0;32m   1302\u001b[0m \u001b[1;33m\u001b[0m\u001b[0m\n\u001b[0;32m   1303\u001b[0m     \u001b[1;32mdef\u001b[0m \u001b[0mgetresponse\u001b[0m\u001b[1;33m(\u001b[0m\u001b[0mself\u001b[0m\u001b[1;33m)\u001b[0m\u001b[1;33m:\u001b[0m\u001b[1;33m\u001b[0m\u001b[1;33m\u001b[0m\u001b[0m\n",
      "\u001b[1;32m~\\anaconda3\\lib\\http\\client.py\u001b[0m in \u001b[0;36mendheaders\u001b[1;34m(self, message_body, encode_chunked)\u001b[0m\n\u001b[0;32m   1248\u001b[0m         \u001b[1;32melse\u001b[0m\u001b[1;33m:\u001b[0m\u001b[1;33m\u001b[0m\u001b[1;33m\u001b[0m\u001b[0m\n\u001b[0;32m   1249\u001b[0m             \u001b[1;32mraise\u001b[0m \u001b[0mCannotSendHeader\u001b[0m\u001b[1;33m(\u001b[0m\u001b[1;33m)\u001b[0m\u001b[1;33m\u001b[0m\u001b[1;33m\u001b[0m\u001b[0m\n\u001b[1;32m-> 1250\u001b[1;33m         \u001b[0mself\u001b[0m\u001b[1;33m.\u001b[0m\u001b[0m_send_output\u001b[0m\u001b[1;33m(\u001b[0m\u001b[0mmessage_body\u001b[0m\u001b[1;33m,\u001b[0m \u001b[0mencode_chunked\u001b[0m\u001b[1;33m=\u001b[0m\u001b[0mencode_chunked\u001b[0m\u001b[1;33m)\u001b[0m\u001b[1;33m\u001b[0m\u001b[1;33m\u001b[0m\u001b[0m\n\u001b[0m\u001b[0;32m   1251\u001b[0m \u001b[1;33m\u001b[0m\u001b[0m\n\u001b[0;32m   1252\u001b[0m     def request(self, method, url, body=None, headers={}, *,\n",
      "\u001b[1;32m~\\anaconda3\\lib\\http\\client.py\u001b[0m in \u001b[0;36m_send_output\u001b[1;34m(self, message_body, encode_chunked)\u001b[0m\n\u001b[0;32m   1008\u001b[0m         \u001b[0mmsg\u001b[0m \u001b[1;33m=\u001b[0m \u001b[1;34mb\"\\r\\n\"\u001b[0m\u001b[1;33m.\u001b[0m\u001b[0mjoin\u001b[0m\u001b[1;33m(\u001b[0m\u001b[0mself\u001b[0m\u001b[1;33m.\u001b[0m\u001b[0m_buffer\u001b[0m\u001b[1;33m)\u001b[0m\u001b[1;33m\u001b[0m\u001b[1;33m\u001b[0m\u001b[0m\n\u001b[0;32m   1009\u001b[0m         \u001b[1;32mdel\u001b[0m \u001b[0mself\u001b[0m\u001b[1;33m.\u001b[0m\u001b[0m_buffer\u001b[0m\u001b[1;33m[\u001b[0m\u001b[1;33m:\u001b[0m\u001b[1;33m]\u001b[0m\u001b[1;33m\u001b[0m\u001b[1;33m\u001b[0m\u001b[0m\n\u001b[1;32m-> 1010\u001b[1;33m         \u001b[0mself\u001b[0m\u001b[1;33m.\u001b[0m\u001b[0msend\u001b[0m\u001b[1;33m(\u001b[0m\u001b[0mmsg\u001b[0m\u001b[1;33m)\u001b[0m\u001b[1;33m\u001b[0m\u001b[1;33m\u001b[0m\u001b[0m\n\u001b[0m\u001b[0;32m   1011\u001b[0m \u001b[1;33m\u001b[0m\u001b[0m\n\u001b[0;32m   1012\u001b[0m         \u001b[1;32mif\u001b[0m \u001b[0mmessage_body\u001b[0m \u001b[1;32mis\u001b[0m \u001b[1;32mnot\u001b[0m \u001b[1;32mNone\u001b[0m\u001b[1;33m:\u001b[0m\u001b[1;33m\u001b[0m\u001b[1;33m\u001b[0m\u001b[0m\n",
      "\u001b[1;32m~\\anaconda3\\lib\\http\\client.py\u001b[0m in \u001b[0;36msend\u001b[1;34m(self, data)\u001b[0m\n\u001b[0;32m    948\u001b[0m         \u001b[1;32mif\u001b[0m \u001b[0mself\u001b[0m\u001b[1;33m.\u001b[0m\u001b[0msock\u001b[0m \u001b[1;32mis\u001b[0m \u001b[1;32mNone\u001b[0m\u001b[1;33m:\u001b[0m\u001b[1;33m\u001b[0m\u001b[1;33m\u001b[0m\u001b[0m\n\u001b[0;32m    949\u001b[0m             \u001b[1;32mif\u001b[0m \u001b[0mself\u001b[0m\u001b[1;33m.\u001b[0m\u001b[0mauto_open\u001b[0m\u001b[1;33m:\u001b[0m\u001b[1;33m\u001b[0m\u001b[1;33m\u001b[0m\u001b[0m\n\u001b[1;32m--> 950\u001b[1;33m                 \u001b[0mself\u001b[0m\u001b[1;33m.\u001b[0m\u001b[0mconnect\u001b[0m\u001b[1;33m(\u001b[0m\u001b[1;33m)\u001b[0m\u001b[1;33m\u001b[0m\u001b[1;33m\u001b[0m\u001b[0m\n\u001b[0m\u001b[0;32m    951\u001b[0m             \u001b[1;32melse\u001b[0m\u001b[1;33m:\u001b[0m\u001b[1;33m\u001b[0m\u001b[1;33m\u001b[0m\u001b[0m\n\u001b[0;32m    952\u001b[0m                 \u001b[1;32mraise\u001b[0m \u001b[0mNotConnected\u001b[0m\u001b[1;33m(\u001b[0m\u001b[1;33m)\u001b[0m\u001b[1;33m\u001b[0m\u001b[1;33m\u001b[0m\u001b[0m\n",
      "\u001b[1;32m~\\anaconda3\\lib\\http\\client.py\u001b[0m in \u001b[0;36mconnect\u001b[1;34m(self)\u001b[0m\n\u001b[0;32m   1422\u001b[0m                 \u001b[0mserver_hostname\u001b[0m \u001b[1;33m=\u001b[0m \u001b[0mself\u001b[0m\u001b[1;33m.\u001b[0m\u001b[0mhost\u001b[0m\u001b[1;33m\u001b[0m\u001b[1;33m\u001b[0m\u001b[0m\n\u001b[0;32m   1423\u001b[0m \u001b[1;33m\u001b[0m\u001b[0m\n\u001b[1;32m-> 1424\u001b[1;33m             self.sock = self._context.wrap_socket(self.sock,\n\u001b[0m\u001b[0;32m   1425\u001b[0m                                                   server_hostname=server_hostname)\n\u001b[0;32m   1426\u001b[0m \u001b[1;33m\u001b[0m\u001b[0m\n",
      "\u001b[1;32m~\\anaconda3\\lib\\ssl.py\u001b[0m in \u001b[0;36mwrap_socket\u001b[1;34m(self, sock, server_side, do_handshake_on_connect, suppress_ragged_eofs, server_hostname, session)\u001b[0m\n\u001b[0;32m    498\u001b[0m         \u001b[1;31m# SSLSocket class handles server_hostname encoding before it calls\u001b[0m\u001b[1;33m\u001b[0m\u001b[1;33m\u001b[0m\u001b[1;33m\u001b[0m\u001b[0m\n\u001b[0;32m    499\u001b[0m         \u001b[1;31m# ctx._wrap_socket()\u001b[0m\u001b[1;33m\u001b[0m\u001b[1;33m\u001b[0m\u001b[1;33m\u001b[0m\u001b[0m\n\u001b[1;32m--> 500\u001b[1;33m         return self.sslsocket_class._create(\n\u001b[0m\u001b[0;32m    501\u001b[0m             \u001b[0msock\u001b[0m\u001b[1;33m=\u001b[0m\u001b[0msock\u001b[0m\u001b[1;33m,\u001b[0m\u001b[1;33m\u001b[0m\u001b[1;33m\u001b[0m\u001b[0m\n\u001b[0;32m    502\u001b[0m             \u001b[0mserver_side\u001b[0m\u001b[1;33m=\u001b[0m\u001b[0mserver_side\u001b[0m\u001b[1;33m,\u001b[0m\u001b[1;33m\u001b[0m\u001b[1;33m\u001b[0m\u001b[0m\n",
      "\u001b[1;32m~\\anaconda3\\lib\\ssl.py\u001b[0m in \u001b[0;36m_create\u001b[1;34m(cls, sock, server_side, do_handshake_on_connect, suppress_ragged_eofs, server_hostname, context, session)\u001b[0m\n\u001b[0;32m   1038\u001b[0m                         \u001b[1;31m# non-blocking\u001b[0m\u001b[1;33m\u001b[0m\u001b[1;33m\u001b[0m\u001b[1;33m\u001b[0m\u001b[0m\n\u001b[0;32m   1039\u001b[0m                         \u001b[1;32mraise\u001b[0m \u001b[0mValueError\u001b[0m\u001b[1;33m(\u001b[0m\u001b[1;34m\"do_handshake_on_connect should not be specified for non-blocking sockets\"\u001b[0m\u001b[1;33m)\u001b[0m\u001b[1;33m\u001b[0m\u001b[1;33m\u001b[0m\u001b[0m\n\u001b[1;32m-> 1040\u001b[1;33m                     \u001b[0mself\u001b[0m\u001b[1;33m.\u001b[0m\u001b[0mdo_handshake\u001b[0m\u001b[1;33m(\u001b[0m\u001b[1;33m)\u001b[0m\u001b[1;33m\u001b[0m\u001b[1;33m\u001b[0m\u001b[0m\n\u001b[0m\u001b[0;32m   1041\u001b[0m             \u001b[1;32mexcept\u001b[0m \u001b[1;33m(\u001b[0m\u001b[0mOSError\u001b[0m\u001b[1;33m,\u001b[0m \u001b[0mValueError\u001b[0m\u001b[1;33m)\u001b[0m\u001b[1;33m:\u001b[0m\u001b[1;33m\u001b[0m\u001b[1;33m\u001b[0m\u001b[0m\n\u001b[0;32m   1042\u001b[0m                 \u001b[0mself\u001b[0m\u001b[1;33m.\u001b[0m\u001b[0mclose\u001b[0m\u001b[1;33m(\u001b[0m\u001b[1;33m)\u001b[0m\u001b[1;33m\u001b[0m\u001b[1;33m\u001b[0m\u001b[0m\n",
      "\u001b[1;32m~\\anaconda3\\lib\\ssl.py\u001b[0m in \u001b[0;36mdo_handshake\u001b[1;34m(self, block)\u001b[0m\n\u001b[0;32m   1307\u001b[0m             \u001b[1;32mif\u001b[0m \u001b[0mtimeout\u001b[0m \u001b[1;33m==\u001b[0m \u001b[1;36m0.0\u001b[0m \u001b[1;32mand\u001b[0m \u001b[0mblock\u001b[0m\u001b[1;33m:\u001b[0m\u001b[1;33m\u001b[0m\u001b[1;33m\u001b[0m\u001b[0m\n\u001b[0;32m   1308\u001b[0m                 \u001b[0mself\u001b[0m\u001b[1;33m.\u001b[0m\u001b[0msettimeout\u001b[0m\u001b[1;33m(\u001b[0m\u001b[1;32mNone\u001b[0m\u001b[1;33m)\u001b[0m\u001b[1;33m\u001b[0m\u001b[1;33m\u001b[0m\u001b[0m\n\u001b[1;32m-> 1309\u001b[1;33m             \u001b[0mself\u001b[0m\u001b[1;33m.\u001b[0m\u001b[0m_sslobj\u001b[0m\u001b[1;33m.\u001b[0m\u001b[0mdo_handshake\u001b[0m\u001b[1;33m(\u001b[0m\u001b[1;33m)\u001b[0m\u001b[1;33m\u001b[0m\u001b[1;33m\u001b[0m\u001b[0m\n\u001b[0m\u001b[0;32m   1310\u001b[0m         \u001b[1;32mfinally\u001b[0m\u001b[1;33m:\u001b[0m\u001b[1;33m\u001b[0m\u001b[1;33m\u001b[0m\u001b[0m\n\u001b[0;32m   1311\u001b[0m             \u001b[0mself\u001b[0m\u001b[1;33m.\u001b[0m\u001b[0msettimeout\u001b[0m\u001b[1;33m(\u001b[0m\u001b[0mtimeout\u001b[0m\u001b[1;33m)\u001b[0m\u001b[1;33m\u001b[0m\u001b[1;33m\u001b[0m\u001b[0m\n",
      "\u001b[1;31mKeyboardInterrupt\u001b[0m: "
     ]
    }
   ],
   "source": [
    "Entrez.email = 'A.N.Other@example.com'\n",
    "ids=[[]]\n",
    "for i in range(0,max_searchs,100):\n",
    "\n",
    "  h = Entrez.esearch(db='pubmed', retmax=100,retstart=i, term=term)\n",
    "  result = Entrez.read(h)\n",
    "  ids.append(result['IdList'])\n",
    "h = Entrez.efetch(db='pubmed', id=ids, rettype='medline', retmode='json')\n",
    "records = Medline.parse(h)"
   ]
  },
  {
   "cell_type": "code",
   "execution_count": 8,
   "metadata": {
    "colab": {
     "base_uri": "https://localhost:8080/"
    },
    "id": "00TwNPHxwKhU",
    "outputId": "0938b313-2b89-47ea-b72d-7ea6b755c9b5"
   },
   "outputs": [
    {
     "name": "stdout",
     "output_type": "stream",
     "text": [
      "34\n"
     ]
    }
   ],
   "source": [
    "print(len(ids))"
   ]
  },
  {
   "cell_type": "code",
   "execution_count": null,
   "metadata": {
    "colab": {
     "base_uri": "https://localhost:8080/"
    },
    "id": "UMwUjqDr0u9H",
    "outputId": "70c44f8d-da44-4482-985c-e7aba180f3fd"
   },
   "outputs": [],
   "source": [
    "records"
   ]
  },
  {
   "cell_type": "code",
   "execution_count": null,
   "metadata": {
    "id": "l4ZLlyHTLPMu"
   },
   "outputs": [],
   "source": [
    "dict_ = {'paper_id': [], 'abstract': [], 'body_text': [], 'authors': [], 'title': [], 'journal': [], 'abstract_summary': []}\n",
    "def append_records(records):\n",
    "  dict_ = {'paper_id': [], 'abstract': [], 'body_text': [], 'authors': [], 'title': [], 'journal': [], 'abstract_summary': []}\n",
    "  for idx, entry in enumerate(records):\n",
    "\n",
    "      if idx >100000:\n",
    "          break\n",
    "      try:\n",
    "          dict_['paper_id'].append(entry[\"PMID\"])\n",
    "      except Exception as e:\n",
    "          dict_['paper_id'].append(\"\")\n",
    "          \n",
    "      try:\n",
    "          dict_['abstract'].append(entry[\"AB\"])\n",
    "          # also create a column for the summary of abstract to be used in a plot\n",
    "          if len(entry[\"AB\"]) == 0: \n",
    "              # no abstract provided\n",
    "              dict_['abstract_summary'].append(\"Not provided.\")\n",
    "          elif len(entry[\"AB\"].split(' ')) > 100:\n",
    "              # abstract provided is too long for plot, take first 100 words append with ...\n",
    "              info = entry[\"AB\"].split(' ')[:100]\n",
    "              summary = get_breaks(' '.join(info), 40)\n",
    "              dict_['abstract_summary'].append(summary + \"...\")\n",
    "          else:\n",
    "              # abstract is short enough\n",
    "              summary = get_breaks(entry[\"AB\"], 40)\n",
    "              dict_['abstract_summary'].append(summary)\n",
    "      except Exception as e:\n",
    "          dict_['abstract'].append(\"\")  \n",
    "          dict_['abstract_summary'].append(\"Not provided.\")\n",
    "\n",
    "          \n",
    "      try:\n",
    "          dict_['body_text'].append(entry[\"AB\"])\n",
    "      except Exception as e:\n",
    "          dict_['body_text'].append(\"\")     \n",
    "      \n",
    "    \n",
    "      \n",
    "      \n",
    "      try:\n",
    "          # if more than one author\n",
    "          authors = entry['AU'][0].split(',')\n",
    "          if len(authors) > 2:\n",
    "              # if more than 2 authors, take them all with html tag breaks in between\n",
    "              dict_['authors'].append(get_breaks('. '.join(authors), 40))\n",
    "          else:\n",
    "              # authors will fit in plot\n",
    "              dict_['authors'].append(\". \".join(authors))\n",
    "      except Exception as e:\n",
    "          # if only one author - or Null valie\n",
    "          try : \n",
    "              dict_['authors'].append(entry['AU'][0])\n",
    "          except Exception as e:\n",
    "              dict_['authors'].append(\"\")\n",
    "\n",
    "\n",
    "      \n",
    "      # add the title information, add breaks when needed\n",
    "      try:\n",
    "          title = get_breaks(entry['TI'][0], 40)\n",
    "          dict_['title'].append(title)\n",
    "      # if title was not provided\n",
    "      except Exception as e:\n",
    "          try:\n",
    "              dict_['title'].append(entry['TI'][0])\n",
    "          except Exception as e:\n",
    "              dict_['title'].append(\"\")\n",
    "      \n",
    "      # add the journal information\n",
    "      dict_['journal'].append(entry['PT'][0])\n",
    "\n",
    "\n",
    "  return dict_"
   ]
  },
  {
   "cell_type": "code",
   "execution_count": null,
   "metadata": {
    "id": "s8peedbYLaus"
   },
   "outputs": [],
   "source": [
    "dict_1 = {'paper_id': [], 'abstract': [], 'body_text': [], 'authors': [], 'title': [], 'journal': [], 'abstract_summary': []}\n",
    "for i in range(1,len(ids)):\n",
    "  h = Entrez.efetch(db='pubmed', id=ids[i], rettype='medline', retmode='json')\n",
    "  records = Medline.parse(h)\n",
    "\n",
    "  token = append_records(records)\n",
    "  dict_1[\"paper_id\"] = dict_1[\"paper_id\"]+token[\"paper_id\"]\n",
    "  dict_1[\"abstract\"] = dict_1[\"abstract\"] + token[\"abstract\"]\n",
    "  dict_1[\"body_text\"] =  dict_1[\"body_text\"] +token[\"body_text\"]\n",
    "  dict_1[\"authors\"] = dict_1[\"authors\"] + token[\"authors\"]\n",
    "  dict_1[\"title\"] =dict_1[\"title\"] + token[\"title\"]\n",
    "  dict_1[\"journal\"] =dict_1[\"journal\"] +token[\"journal\"]\n",
    "  dict_1[\"abstract_summary\"]=dict_1[\"abstract_summary\"]+token[\"abstract_summary\"]"
   ]
  },
  {
   "cell_type": "code",
   "execution_count": null,
   "metadata": {
    "colab": {
     "base_uri": "https://localhost:8080/"
    },
    "id": "uX3e5AC_Ldkk",
    "outputId": "8714b31c-3d98-40fa-ac63-c7f41d92e0a9"
   },
   "outputs": [],
   "source": [
    "df_covid = pd.DataFrame(dict_1, columns=['paper_id', 'abstract', 'body_text', 'authors', 'title', 'journal', 'abstract_summary'])\n",
    "df_covid.info()"
   ]
  },
  {
   "cell_type": "code",
   "execution_count": null,
   "metadata": {
    "colab": {
     "base_uri": "https://localhost:8080/"
    },
    "id": "PMa3rqKRyd6J",
    "outputId": "faef5218-01d4-4226-b5b7-44a7d32d4177"
   },
   "outputs": [],
   "source": [
    "df_covid.info()"
   ]
  },
  {
   "cell_type": "markdown",
   "metadata": {
    "id": "wyhzey_1GdWq"
   },
   "source": [
    "## Some feature engineering\n",
    "Adding word count columns for both abstract and body_text can be useful parameters later:"
   ]
  },
  {
   "cell_type": "code",
   "execution_count": null,
   "metadata": {
    "colab": {
     "base_uri": "https://localhost:8080/",
     "height": 479
    },
    "id": "xqMfwG5pGdWr",
    "outputId": "5e38093c-aff6-4d39-e985-58ea14c0d7d2"
   },
   "outputs": [],
   "source": [
    "df_covid['abstract_word_count'] = df_covid['abstract'].apply(lambda x: len(x.strip().split()))  # word count in abstract\n",
    "df_covid['body_word_count'] = df_covid['body_text'].apply(lambda x: len(x.strip().split()))  # word count in body\n",
    "df_covid['body_unique_words']=df_covid['body_text'].apply(lambda x:len(set(str(x).split())))  # number of unique words in body\n",
    "df_covid.head()"
   ]
  },
  {
   "cell_type": "code",
   "execution_count": null,
   "metadata": {
    "colab": {
     "base_uri": "https://localhost:8080/"
    },
    "id": "MO7Hog0hGdWr",
    "outputId": "5722f8af-080d-4de3-ddea-fe80dd68be2d"
   },
   "outputs": [],
   "source": [
    "df_covid.info()"
   ]
  },
  {
   "cell_type": "code",
   "execution_count": null,
   "metadata": {
    "colab": {
     "base_uri": "https://localhost:8080/"
    },
    "id": "VTiWLFCgGdWs",
    "outputId": "7217e43b-416c-4ce4-85de-e4d2998acc22"
   },
   "outputs": [],
   "source": [
    "df_covid['abstract'].describe(include='all')"
   ]
  },
  {
   "cell_type": "markdown",
   "metadata": {
    "id": "G4vZi8C1GdWs"
   },
   "source": [
    "## Handle Possible Duplicates"
   ]
  },
  {
   "cell_type": "markdown",
   "metadata": {
    "id": "d027A619GdWt"
   },
   "source": [
    "When we look at the unique values above, we can see that tehre are duplicates. It may have caused because of author submiting the article to multiple journals. Let's remove the duplicats from our dataset:\n",
    "\n",
    "(Thank you Desmond Yeoh for recommending the below approach on Kaggle)"
   ]
  },
  {
   "cell_type": "code",
   "execution_count": 15,
   "metadata": {
    "colab": {
     "base_uri": "https://localhost:8080/"
    },
    "id": "aFhtgIDDGdWy",
    "outputId": "dca48617-c551-4d86-900c-c9dce24a8c68"
   },
   "outputs": [
    {
     "data": {
      "text/plain": [
       "count                                                 71247\n",
       "unique                                                71247\n",
       "top       The recently emerged novel coronavirus pneumon...\n",
       "freq                                                      1\n",
       "Name: abstract, dtype: object"
      ]
     },
     "execution_count": 15,
     "metadata": {
      "tags": []
     },
     "output_type": "execute_result"
    }
   ],
   "source": [
    "df_covid.drop_duplicates(['abstract', 'body_text'], inplace=True)\n",
    "df_covid['abstract'].describe(include='all')"
   ]
  },
  {
   "cell_type": "code",
   "execution_count": 16,
   "metadata": {
    "colab": {
     "base_uri": "https://localhost:8080/"
    },
    "id": "Ec-Q6244GdWz",
    "outputId": "6eb5d8f4-5bb6-4ddd-90fe-f7cd77be5cb0"
   },
   "outputs": [
    {
     "data": {
      "text/plain": [
       "count                                                 71247\n",
       "unique                                                71247\n",
       "top       The recently emerged novel coronavirus pneumon...\n",
       "freq                                                      1\n",
       "Name: body_text, dtype: object"
      ]
     },
     "execution_count": 16,
     "metadata": {
      "tags": []
     },
     "output_type": "execute_result"
    }
   ],
   "source": [
    "df_covid['body_text'].describe(include='all')"
   ]
  },
  {
   "cell_type": "markdown",
   "metadata": {
    "id": "gQwDVNJUGdW0"
   },
   "source": [
    "It looks like we didn't have duplicates. Instead, it was articles without Abstracts."
   ]
  },
  {
   "cell_type": "markdown",
   "metadata": {
    "id": "ftrYJq7xGdW0"
   },
   "source": [
    "## Take a Look at the Data:"
   ]
  },
  {
   "cell_type": "code",
   "execution_count": 17,
   "metadata": {
    "colab": {
     "base_uri": "https://localhost:8080/",
     "height": 479
    },
    "id": "hSxoIZp6GdW1",
    "outputId": "429465f1-c810-42ee-e215-4f72217aed9f"
   },
   "outputs": [
    {
     "data": {
      "text/html": [
       "<div>\n",
       "<style scoped>\n",
       "    .dataframe tbody tr th:only-of-type {\n",
       "        vertical-align: middle;\n",
       "    }\n",
       "\n",
       "    .dataframe tbody tr th {\n",
       "        vertical-align: top;\n",
       "    }\n",
       "\n",
       "    .dataframe thead th {\n",
       "        text-align: right;\n",
       "    }\n",
       "</style>\n",
       "<table border=\"1\" class=\"dataframe\">\n",
       "  <thead>\n",
       "    <tr style=\"text-align: right;\">\n",
       "      <th></th>\n",
       "      <th>paper_id</th>\n",
       "      <th>abstract</th>\n",
       "      <th>body_text</th>\n",
       "      <th>authors</th>\n",
       "      <th>title</th>\n",
       "      <th>journal</th>\n",
       "      <th>abstract_summary</th>\n",
       "      <th>abstract_word_count</th>\n",
       "      <th>body_word_count</th>\n",
       "      <th>body_unique_words</th>\n",
       "    </tr>\n",
       "  </thead>\n",
       "  <tbody>\n",
       "    <tr>\n",
       "      <th>0</th>\n",
       "      <td>33979833</td>\n",
       "      <td>Severe acute respiratory syndrome coronavirus ...</td>\n",
       "      <td>Severe acute respiratory syndrome coronavirus ...</td>\n",
       "      <td>Finkel Y</td>\n",
       "      <td>S</td>\n",
       "      <td>Journal Article</td>\n",
       "      <td>Severe acute respiratory syndrome&lt;br&gt;coronavi...</td>\n",
       "      <td>199</td>\n",
       "      <td>199</td>\n",
       "      <td>125</td>\n",
       "    </tr>\n",
       "    <tr>\n",
       "      <th>1</th>\n",
       "      <td>33979817</td>\n",
       "      <td>GENERAL PURPOSE: To introduce the 15 recommend...</td>\n",
       "      <td>GENERAL PURPOSE: To introduce the 15 recommend...</td>\n",
       "      <td>Chabal LO</td>\n",
       "      <td>P</td>\n",
       "      <td>Journal Article</td>\n",
       "      <td>GENERAL PURPOSE: To introduce the 15&lt;br&gt;recom...</td>\n",
       "      <td>116</td>\n",
       "      <td>116</td>\n",
       "      <td>85</td>\n",
       "    </tr>\n",
       "    <tr>\n",
       "      <th>2</th>\n",
       "      <td>33979791</td>\n",
       "      <td>Segmenting lesion regions of Coronavirus Disea...</td>\n",
       "      <td>Segmenting lesion regions of Coronavirus Disea...</td>\n",
       "      <td>Ma Y</td>\n",
       "      <td>S</td>\n",
       "      <td>Journal Article</td>\n",
       "      <td>Segmenting lesion regions of Coronavirus&lt;br&gt;D...</td>\n",
       "      <td>185</td>\n",
       "      <td>185</td>\n",
       "      <td>133</td>\n",
       "    </tr>\n",
       "    <tr>\n",
       "      <th>3</th>\n",
       "      <td>33979779</td>\n",
       "      <td>BACKGROUND: To suppress the transmission of co...</td>\n",
       "      <td>BACKGROUND: To suppress the transmission of co...</td>\n",
       "      <td>O'Kane SM</td>\n",
       "      <td>C</td>\n",
       "      <td>Journal Article</td>\n",
       "      <td>BACKGROUND: To suppress the transmission of&lt;b...</td>\n",
       "      <td>199</td>\n",
       "      <td>199</td>\n",
       "      <td>130</td>\n",
       "    </tr>\n",
       "    <tr>\n",
       "      <th>4</th>\n",
       "      <td>33979771</td>\n",
       "      <td>The effect of coronavirus disease (COVID-19) o...</td>\n",
       "      <td>The effect of coronavirus disease (COVID-19) o...</td>\n",
       "      <td>Barzegar M</td>\n",
       "      <td>C</td>\n",
       "      <td>Journal Article</td>\n",
       "      <td>The effect of coronavirus disease (COVID-19)&lt;...</td>\n",
       "      <td>99</td>\n",
       "      <td>99</td>\n",
       "      <td>78</td>\n",
       "    </tr>\n",
       "  </tbody>\n",
       "</table>\n",
       "</div>"
      ],
      "text/plain": [
       "   paper_id  ... body_unique_words\n",
       "0  33979833  ...               125\n",
       "1  33979817  ...                85\n",
       "2  33979791  ...               133\n",
       "3  33979779  ...               130\n",
       "4  33979771  ...                78\n",
       "\n",
       "[5 rows x 10 columns]"
      ]
     },
     "execution_count": 17,
     "metadata": {
      "tags": []
     },
     "output_type": "execute_result"
    }
   ],
   "source": [
    "df_covid.head()"
   ]
  },
  {
   "cell_type": "markdown",
   "metadata": {
    "id": "z2_a1G7JGdW1"
   },
   "source": [
    "In the majority of this notebook we will be working with **body_text** <br>\n",
    "Links to the papers will be generated using **doi** "
   ]
  },
  {
   "cell_type": "code",
   "execution_count": 18,
   "metadata": {
    "colab": {
     "base_uri": "https://localhost:8080/",
     "height": 297
    },
    "id": "nrL1T8XrGdW2",
    "outputId": "9a1226d1-2363-4604-8f4e-5ee9fbcb733e"
   },
   "outputs": [
    {
     "data": {
      "text/html": [
       "<div>\n",
       "<style scoped>\n",
       "    .dataframe tbody tr th:only-of-type {\n",
       "        vertical-align: middle;\n",
       "    }\n",
       "\n",
       "    .dataframe tbody tr th {\n",
       "        vertical-align: top;\n",
       "    }\n",
       "\n",
       "    .dataframe thead th {\n",
       "        text-align: right;\n",
       "    }\n",
       "</style>\n",
       "<table border=\"1\" class=\"dataframe\">\n",
       "  <thead>\n",
       "    <tr style=\"text-align: right;\">\n",
       "      <th></th>\n",
       "      <th>abstract_word_count</th>\n",
       "      <th>body_word_count</th>\n",
       "      <th>body_unique_words</th>\n",
       "    </tr>\n",
       "  </thead>\n",
       "  <tbody>\n",
       "    <tr>\n",
       "      <th>count</th>\n",
       "      <td>71247.000000</td>\n",
       "      <td>71247.000000</td>\n",
       "      <td>71247.000000</td>\n",
       "    </tr>\n",
       "    <tr>\n",
       "      <th>mean</th>\n",
       "      <td>207.187545</td>\n",
       "      <td>207.187545</td>\n",
       "      <td>134.080270</td>\n",
       "    </tr>\n",
       "    <tr>\n",
       "      <th>std</th>\n",
       "      <td>89.188360</td>\n",
       "      <td>89.188360</td>\n",
       "      <td>47.336653</td>\n",
       "    </tr>\n",
       "    <tr>\n",
       "      <th>min</th>\n",
       "      <td>0.000000</td>\n",
       "      <td>0.000000</td>\n",
       "      <td>0.000000</td>\n",
       "    </tr>\n",
       "    <tr>\n",
       "      <th>25%</th>\n",
       "      <td>149.000000</td>\n",
       "      <td>149.000000</td>\n",
       "      <td>104.000000</td>\n",
       "    </tr>\n",
       "    <tr>\n",
       "      <th>50%</th>\n",
       "      <td>205.000000</td>\n",
       "      <td>205.000000</td>\n",
       "      <td>135.000000</td>\n",
       "    </tr>\n",
       "    <tr>\n",
       "      <th>75%</th>\n",
       "      <td>254.000000</td>\n",
       "      <td>254.000000</td>\n",
       "      <td>162.000000</td>\n",
       "    </tr>\n",
       "    <tr>\n",
       "      <th>max</th>\n",
       "      <td>1899.000000</td>\n",
       "      <td>1899.000000</td>\n",
       "      <td>894.000000</td>\n",
       "    </tr>\n",
       "  </tbody>\n",
       "</table>\n",
       "</div>"
      ],
      "text/plain": [
       "       abstract_word_count  body_word_count  body_unique_words\n",
       "count         71247.000000     71247.000000       71247.000000\n",
       "mean            207.187545       207.187545         134.080270\n",
       "std              89.188360        89.188360          47.336653\n",
       "min               0.000000         0.000000           0.000000\n",
       "25%             149.000000       149.000000         104.000000\n",
       "50%             205.000000       205.000000         135.000000\n",
       "75%             254.000000       254.000000         162.000000\n",
       "max            1899.000000      1899.000000         894.000000"
      ]
     },
     "execution_count": 18,
     "metadata": {
      "tags": []
     },
     "output_type": "execute_result"
    }
   ],
   "source": [
    "df_covid.describe()"
   ]
  },
  {
   "cell_type": "markdown",
   "metadata": {
    "id": "uyanCizrGdW2"
   },
   "source": [
    "# Data Pre-processing"
   ]
  },
  {
   "cell_type": "markdown",
   "metadata": {
    "id": "eQlh6HQWGdW2"
   },
   "source": [
    "### Réduction de la taille du dataset :"
   ]
  },
  {
   "cell_type": "code",
   "execution_count": 19,
   "metadata": {
    "id": "UsE-eeIFGdW3"
   },
   "outputs": [],
   "source": [
    "\n",
    "#df = df_covid.sample(4000, random_state=42)\n",
    "df = df_covid"
   ]
  },
  {
   "cell_type": "markdown",
   "metadata": {
    "id": "cXlRaj-3GdW3"
   },
   "source": [
    "### Suppression des valeurs null :"
   ]
  },
  {
   "cell_type": "markdown",
   "metadata": {
    "id": "FPzUrJjrGdW3"
   },
   "source": [
    "Now that we have our dataset loaded, we need to clean-up the text to improve any clustering or classification efforts. First, let's drop Null vales:"
   ]
  },
  {
   "cell_type": "code",
   "execution_count": 20,
   "metadata": {
    "colab": {
     "base_uri": "https://localhost:8080/"
    },
    "id": "Cu-44fZZGdW3",
    "outputId": "ed0c8b4a-88c1-4878-c4f7-6242dcef0e29"
   },
   "outputs": [
    {
     "name": "stdout",
     "output_type": "stream",
     "text": [
      "<class 'pandas.core.frame.DataFrame'>\n",
      "Int64Index: 71247 entries, 0 to 99999\n",
      "Data columns (total 10 columns):\n",
      " #   Column               Non-Null Count  Dtype \n",
      "---  ------               --------------  ----- \n",
      " 0   paper_id             71247 non-null  object\n",
      " 1   abstract             71247 non-null  object\n",
      " 2   body_text            71247 non-null  object\n",
      " 3   authors              71247 non-null  object\n",
      " 4   title                71247 non-null  object\n",
      " 5   journal              71247 non-null  object\n",
      " 6   abstract_summary     71247 non-null  object\n",
      " 7   abstract_word_count  71247 non-null  int64 \n",
      " 8   body_word_count      71247 non-null  int64 \n",
      " 9   body_unique_words    71247 non-null  int64 \n",
      "dtypes: int64(3), object(7)\n",
      "memory usage: 6.0+ MB\n"
     ]
    }
   ],
   "source": [
    "df.dropna(inplace=True)\n",
    "df.info()"
   ]
  },
  {
   "cell_type": "markdown",
   "metadata": {
    "id": "MFMzbLH4GdW4"
   },
   "source": [
    "### Handling multiple languages\n",
    "Next we are going to determine the language of each paper in the dataframe. Not all of the sources are English and the language needs to be identified so that we know how handle these instances"
   ]
  },
  {
   "cell_type": "code",
   "execution_count": 21,
   "metadata": {
    "colab": {
     "base_uri": "https://localhost:8080/"
    },
    "id": "bcE7FbU9GdW4",
    "outputId": "0cdcb245-b287-4511-fa31-afd30c584449"
   },
   "outputs": [
    {
     "name": "stdout",
     "output_type": "stream",
     "text": [
      "Requirement already satisfied: tqdm in /usr/local/lib/python3.7/dist-packages (4.41.1)\n",
      "Collecting langdetect\n",
      "\u001b[?25l  Downloading https://files.pythonhosted.org/packages/0e/72/a3add0e4eec4eb9e2569554f7c70f4a3c27712f40e3284d483e88094cc0e/langdetect-1.0.9.tar.gz (981kB)\n",
      "\u001b[K     |████████████████████████████████| 983kB 4.0MB/s \n",
      "\u001b[?25hRequirement already satisfied: six in /usr/local/lib/python3.7/dist-packages (from langdetect) (1.15.0)\n",
      "Building wheels for collected packages: langdetect\n",
      "  Building wheel for langdetect (setup.py) ... \u001b[?25l\u001b[?25hdone\n",
      "  Created wheel for langdetect: filename=langdetect-1.0.9-cp37-none-any.whl size=993223 sha256=e76fbbf263436032c35505e33be2470ec44955bea66657e6b293bfa520ac34c6\n",
      "  Stored in directory: /root/.cache/pip/wheels/7e/18/13/038c34057808931c7ddc6c92d3aa015cf1a498df5a70268996\n",
      "Successfully built langdetect\n",
      "Installing collected packages: langdetect\n",
      "Successfully installed langdetect-1.0.9\n"
     ]
    },
    {
     "name": "stderr",
     "output_type": "stream",
     "text": [
      "100%|██████████| 71247/71247 [06:49<00:00, 173.92it/s]\n"
     ]
    }
   ],
   "source": [
    "!pip install tqdm\n",
    "import tqdm\n",
    "!pip install langdetect\n",
    "import langdetect\n",
    "from tqdm import tqdm\n",
    "from langdetect import detect\n",
    "from langdetect import DetectorFactory\n",
    "\n",
    "# set seed\n",
    "DetectorFactory.seed = 0\n",
    "\n",
    "# hold label - language\n",
    "languages = []\n",
    "\n",
    "# go through each text\n",
    "for ii in tqdm(range(0,len(df))):\n",
    "    # split by space into list, take the first x intex, join with space\n",
    "    text = df.iloc[ii]['body_text'].split(\" \")\n",
    "    \n",
    "    lang = \"en\"\n",
    "    try:\n",
    "        if len(text) > 50:\n",
    "            lang = detect(\" \".join(text[:50]))\n",
    "        elif len(text) > 0:\n",
    "            lang = detect(\" \".join(text[:len(text)]))\n",
    "    # ught... beginning of the document was not in a good format\n",
    "    except Exception as e:\n",
    "        all_words = set(text)\n",
    "        try:\n",
    "            lang = detect(\" \".join(all_words))\n",
    "        # what!! :( let's see if we can find any text in abstract...\n",
    "        except Exception as e:\n",
    "            \n",
    "            try:\n",
    "                # let's try to label it through the abstract then\n",
    "                lang = detect(df.iloc[ii]['abstract_summary'])\n",
    "            except Exception as e:\n",
    "                lang = \"unknown\"\n",
    "                pass\n",
    "    \n",
    "    # get the language    \n",
    "    languages.append(lang)"
   ]
  },
  {
   "cell_type": "code",
   "execution_count": 56,
   "metadata": {
    "colab": {
     "base_uri": "https://localhost:8080/"
    },
    "id": "NemBurd8GdW5",
    "outputId": "a4c2e457-0b0e-4146-b86d-f1dc22953df5"
   },
   "outputs": [
    {
     "name": "stdout",
     "output_type": "stream",
     "text": [
      "Total: 71247\n",
      "\n",
      "{'ca': 5,\n",
      " 'da': 1,\n",
      " 'de': 5,\n",
      " 'en': 71179,\n",
      " 'es': 16,\n",
      " 'fr': 11,\n",
      " 'hu': 17,\n",
      " 'id': 2,\n",
      " 'it': 6,\n",
      " 'no': 1,\n",
      " 'ro': 1,\n",
      " 'unknown': 2,\n",
      " 'vi': 1}\n"
     ]
    }
   ],
   "source": [
    "from pprint import pprint\n",
    "\n",
    "languages_dict = {}\n",
    "for lang in set(languages):\n",
    "    languages_dict[lang] = languages.count(lang)\n",
    "    \n",
    "print(\"Total: {}\\n\".format(len(languages)))\n",
    "pprint(languages_dict)"
   ]
  },
  {
   "cell_type": "markdown",
   "metadata": {
    "id": "pU5nSAiPGdW5"
   },
   "source": [
    "Lets take a look at the language distribution in the dataset"
   ]
  },
  {
   "cell_type": "code",
   "execution_count": 62,
   "metadata": {
    "colab": {
     "base_uri": "https://localhost:8080/",
     "height": 35
    },
    "id": "RcRjv3ayqhOl",
    "outputId": "22788c90-cb3a-4c57-8da1-9050ea46148f"
   },
   "outputs": [
    {
     "data": {
      "application/vnd.google.colaboratory.intrinsic+json": {
       "type": "string"
      },
      "text/plain": [
       "'en'"
      ]
     },
     "execution_count": 62,
     "metadata": {
      "tags": []
     },
     "output_type": "execute_result"
    }
   ],
   "source": []
  },
  {
   "cell_type": "code",
   "execution_count": 60,
   "metadata": {
    "colab": {
     "base_uri": "https://localhost:8080/",
     "height": 374
    },
    "id": "0R5MVtGdGdW5",
    "outputId": "b09c9325-1769-4a38-b7cb-fb52af8ebdad"
   },
   "outputs": [
    {
     "ename": "ValueError",
     "evalue": "ignored",
     "output_type": "error",
     "traceback": [
      "\u001b[0;31m---------------------------------------------------------------------------\u001b[0m",
      "\u001b[0;31mValueError\u001b[0m                                Traceback (most recent call last)",
      "\u001b[0;32m<ipython-input-60-dcebb1cec099>\u001b[0m in \u001b[0;36m<module>\u001b[0;34m()\u001b[0m\n\u001b[0;32m----> 1\u001b[0;31m \u001b[0mdf\u001b[0m\u001b[0;34m[\u001b[0m\u001b[0;34m'language'\u001b[0m\u001b[0;34m]\u001b[0m \u001b[0;34m=\u001b[0m \u001b[0mlanguages\u001b[0m\u001b[0;34m\u001b[0m\u001b[0;34m\u001b[0m\u001b[0m\n\u001b[0m\u001b[1;32m      2\u001b[0m \u001b[0mplt\u001b[0m\u001b[0;34m.\u001b[0m\u001b[0mbar\u001b[0m\u001b[0;34m(\u001b[0m\u001b[0mrange\u001b[0m\u001b[0;34m(\u001b[0m\u001b[0mlen\u001b[0m\u001b[0;34m(\u001b[0m\u001b[0mlanguages_dict\u001b[0m\u001b[0;34m)\u001b[0m\u001b[0;34m)\u001b[0m\u001b[0;34m,\u001b[0m \u001b[0mlist\u001b[0m\u001b[0;34m(\u001b[0m\u001b[0mlanguages_dict\u001b[0m\u001b[0;34m.\u001b[0m\u001b[0mvalues\u001b[0m\u001b[0;34m(\u001b[0m\u001b[0;34m)\u001b[0m\u001b[0;34m)\u001b[0m\u001b[0;34m,\u001b[0m \u001b[0malign\u001b[0m\u001b[0;34m=\u001b[0m\u001b[0;34m'center'\u001b[0m\u001b[0;34m)\u001b[0m\u001b[0;34m\u001b[0m\u001b[0;34m\u001b[0m\u001b[0m\n\u001b[1;32m      3\u001b[0m \u001b[0mplt\u001b[0m\u001b[0;34m.\u001b[0m\u001b[0mxticks\u001b[0m\u001b[0;34m(\u001b[0m\u001b[0mrange\u001b[0m\u001b[0;34m(\u001b[0m\u001b[0mlen\u001b[0m\u001b[0;34m(\u001b[0m\u001b[0mlanguages_dict\u001b[0m\u001b[0;34m)\u001b[0m\u001b[0;34m)\u001b[0m\u001b[0;34m,\u001b[0m \u001b[0mlist\u001b[0m\u001b[0;34m(\u001b[0m\u001b[0mlanguages_dict\u001b[0m\u001b[0;34m.\u001b[0m\u001b[0mkeys\u001b[0m\u001b[0;34m(\u001b[0m\u001b[0;34m)\u001b[0m\u001b[0;34m)\u001b[0m\u001b[0;34m)\u001b[0m\u001b[0;34m\u001b[0m\u001b[0;34m\u001b[0m\u001b[0m\n\u001b[1;32m      4\u001b[0m \u001b[0mplt\u001b[0m\u001b[0;34m.\u001b[0m\u001b[0mtitle\u001b[0m\u001b[0;34m(\u001b[0m\u001b[0;34m\"Distribution of Languages in Dataset\"\u001b[0m\u001b[0;34m)\u001b[0m\u001b[0;34m\u001b[0m\u001b[0;34m\u001b[0m\u001b[0m\n\u001b[1;32m      5\u001b[0m \u001b[0mplt\u001b[0m\u001b[0;34m.\u001b[0m\u001b[0mshow\u001b[0m\u001b[0;34m(\u001b[0m\u001b[0;34m)\u001b[0m\u001b[0;34m\u001b[0m\u001b[0;34m\u001b[0m\u001b[0m\n",
      "\u001b[0;32m/usr/local/lib/python3.7/dist-packages/pandas/core/frame.py\u001b[0m in \u001b[0;36m__setitem__\u001b[0;34m(self, key, value)\u001b[0m\n\u001b[1;32m   3042\u001b[0m         \u001b[0;32melse\u001b[0m\u001b[0;34m:\u001b[0m\u001b[0;34m\u001b[0m\u001b[0;34m\u001b[0m\u001b[0m\n\u001b[1;32m   3043\u001b[0m             \u001b[0;31m# set column\u001b[0m\u001b[0;34m\u001b[0m\u001b[0;34m\u001b[0m\u001b[0;34m\u001b[0m\u001b[0m\n\u001b[0;32m-> 3044\u001b[0;31m             \u001b[0mself\u001b[0m\u001b[0;34m.\u001b[0m\u001b[0m_set_item\u001b[0m\u001b[0;34m(\u001b[0m\u001b[0mkey\u001b[0m\u001b[0;34m,\u001b[0m \u001b[0mvalue\u001b[0m\u001b[0;34m)\u001b[0m\u001b[0;34m\u001b[0m\u001b[0;34m\u001b[0m\u001b[0m\n\u001b[0m\u001b[1;32m   3045\u001b[0m \u001b[0;34m\u001b[0m\u001b[0m\n\u001b[1;32m   3046\u001b[0m     \u001b[0;32mdef\u001b[0m \u001b[0m_setitem_slice\u001b[0m\u001b[0;34m(\u001b[0m\u001b[0mself\u001b[0m\u001b[0;34m,\u001b[0m \u001b[0mkey\u001b[0m\u001b[0;34m:\u001b[0m \u001b[0mslice\u001b[0m\u001b[0;34m,\u001b[0m \u001b[0mvalue\u001b[0m\u001b[0;34m)\u001b[0m\u001b[0;34m:\u001b[0m\u001b[0;34m\u001b[0m\u001b[0;34m\u001b[0m\u001b[0m\n",
      "\u001b[0;32m/usr/local/lib/python3.7/dist-packages/pandas/core/frame.py\u001b[0m in \u001b[0;36m_set_item\u001b[0;34m(self, key, value)\u001b[0m\n\u001b[1;32m   3118\u001b[0m         \"\"\"\n\u001b[1;32m   3119\u001b[0m         \u001b[0mself\u001b[0m\u001b[0;34m.\u001b[0m\u001b[0m_ensure_valid_index\u001b[0m\u001b[0;34m(\u001b[0m\u001b[0mvalue\u001b[0m\u001b[0;34m)\u001b[0m\u001b[0;34m\u001b[0m\u001b[0;34m\u001b[0m\u001b[0m\n\u001b[0;32m-> 3120\u001b[0;31m         \u001b[0mvalue\u001b[0m \u001b[0;34m=\u001b[0m \u001b[0mself\u001b[0m\u001b[0;34m.\u001b[0m\u001b[0m_sanitize_column\u001b[0m\u001b[0;34m(\u001b[0m\u001b[0mkey\u001b[0m\u001b[0;34m,\u001b[0m \u001b[0mvalue\u001b[0m\u001b[0;34m)\u001b[0m\u001b[0;34m\u001b[0m\u001b[0;34m\u001b[0m\u001b[0m\n\u001b[0m\u001b[1;32m   3121\u001b[0m         \u001b[0mNDFrame\u001b[0m\u001b[0;34m.\u001b[0m\u001b[0m_set_item\u001b[0m\u001b[0;34m(\u001b[0m\u001b[0mself\u001b[0m\u001b[0;34m,\u001b[0m \u001b[0mkey\u001b[0m\u001b[0;34m,\u001b[0m \u001b[0mvalue\u001b[0m\u001b[0;34m)\u001b[0m\u001b[0;34m\u001b[0m\u001b[0;34m\u001b[0m\u001b[0m\n\u001b[1;32m   3122\u001b[0m \u001b[0;34m\u001b[0m\u001b[0m\n",
      "\u001b[0;32m/usr/local/lib/python3.7/dist-packages/pandas/core/frame.py\u001b[0m in \u001b[0;36m_sanitize_column\u001b[0;34m(self, key, value, broadcast)\u001b[0m\n\u001b[1;32m   3766\u001b[0m \u001b[0;34m\u001b[0m\u001b[0m\n\u001b[1;32m   3767\u001b[0m             \u001b[0;31m# turn me into an ndarray\u001b[0m\u001b[0;34m\u001b[0m\u001b[0;34m\u001b[0m\u001b[0;34m\u001b[0m\u001b[0m\n\u001b[0;32m-> 3768\u001b[0;31m             \u001b[0mvalue\u001b[0m \u001b[0;34m=\u001b[0m \u001b[0msanitize_index\u001b[0m\u001b[0;34m(\u001b[0m\u001b[0mvalue\u001b[0m\u001b[0;34m,\u001b[0m \u001b[0mself\u001b[0m\u001b[0;34m.\u001b[0m\u001b[0mindex\u001b[0m\u001b[0;34m)\u001b[0m\u001b[0;34m\u001b[0m\u001b[0;34m\u001b[0m\u001b[0m\n\u001b[0m\u001b[1;32m   3769\u001b[0m             \u001b[0;32mif\u001b[0m \u001b[0;32mnot\u001b[0m \u001b[0misinstance\u001b[0m\u001b[0;34m(\u001b[0m\u001b[0mvalue\u001b[0m\u001b[0;34m,\u001b[0m \u001b[0;34m(\u001b[0m\u001b[0mnp\u001b[0m\u001b[0;34m.\u001b[0m\u001b[0mndarray\u001b[0m\u001b[0;34m,\u001b[0m \u001b[0mIndex\u001b[0m\u001b[0;34m)\u001b[0m\u001b[0;34m)\u001b[0m\u001b[0;34m:\u001b[0m\u001b[0;34m\u001b[0m\u001b[0;34m\u001b[0m\u001b[0m\n\u001b[1;32m   3770\u001b[0m                 \u001b[0;32mif\u001b[0m \u001b[0misinstance\u001b[0m\u001b[0;34m(\u001b[0m\u001b[0mvalue\u001b[0m\u001b[0;34m,\u001b[0m \u001b[0mlist\u001b[0m\u001b[0;34m)\u001b[0m \u001b[0;32mand\u001b[0m \u001b[0mlen\u001b[0m\u001b[0;34m(\u001b[0m\u001b[0mvalue\u001b[0m\u001b[0;34m)\u001b[0m \u001b[0;34m>\u001b[0m \u001b[0;36m0\u001b[0m\u001b[0;34m:\u001b[0m\u001b[0;34m\u001b[0m\u001b[0;34m\u001b[0m\u001b[0m\n",
      "\u001b[0;32m/usr/local/lib/python3.7/dist-packages/pandas/core/internals/construction.py\u001b[0m in \u001b[0;36msanitize_index\u001b[0;34m(data, index)\u001b[0m\n\u001b[1;32m    746\u001b[0m     \u001b[0;32mif\u001b[0m \u001b[0mlen\u001b[0m\u001b[0;34m(\u001b[0m\u001b[0mdata\u001b[0m\u001b[0;34m)\u001b[0m \u001b[0;34m!=\u001b[0m \u001b[0mlen\u001b[0m\u001b[0;34m(\u001b[0m\u001b[0mindex\u001b[0m\u001b[0;34m)\u001b[0m\u001b[0;34m:\u001b[0m\u001b[0;34m\u001b[0m\u001b[0;34m\u001b[0m\u001b[0m\n\u001b[1;32m    747\u001b[0m         raise ValueError(\n\u001b[0;32m--> 748\u001b[0;31m             \u001b[0;34m\"Length of values \"\u001b[0m\u001b[0;34m\u001b[0m\u001b[0;34m\u001b[0m\u001b[0m\n\u001b[0m\u001b[1;32m    749\u001b[0m             \u001b[0;34mf\"({len(data)}) \"\u001b[0m\u001b[0;34m\u001b[0m\u001b[0;34m\u001b[0m\u001b[0m\n\u001b[1;32m    750\u001b[0m             \u001b[0;34m\"does not match length of index \"\u001b[0m\u001b[0;34m\u001b[0m\u001b[0;34m\u001b[0m\u001b[0m\n",
      "\u001b[0;31mValueError\u001b[0m: Length of values (71247) does not match length of index (71179)"
     ]
    }
   ],
   "source": [
    "df['language'] = languages\n",
    "plt.bar(range(len(languages_dict)), list(languages_dict.values()), align='center')\n",
    "plt.xticks(range(len(languages_dict)), list(languages_dict.keys()))\n",
    "plt.title(\"Distribution of Languages in Dataset\")\n",
    "plt.show()"
   ]
  },
  {
   "cell_type": "markdown",
   "metadata": {
    "id": "D1y8e4mXGdW6"
   },
   "source": [
    "\n",
    "We will be dropping any language that is not English. Attempting to translate foreign texts gave the following problems:\n",
    "\n",
    "1. API calls were limited\n",
    "\n",
    "2. Translating the language may not carry over the true semantic meaning of the text\n"
   ]
  },
  {
   "cell_type": "code",
   "execution_count": 63,
   "metadata": {
    "colab": {
     "base_uri": "https://localhost:8080/"
    },
    "id": "0VaqWVbFGdW6",
    "outputId": "d68e2a6c-1b5e-4360-83fb-a31e97fcec5a"
   },
   "outputs": [
    {
     "name": "stdout",
     "output_type": "stream",
     "text": [
      "<class 'pandas.core.frame.DataFrame'>\n",
      "Int64Index: 71179 entries, 0 to 99999\n",
      "Data columns (total 16 columns):\n",
      " #   Column                    Non-Null Count  Dtype \n",
      "---  ------                    --------------  ----- \n",
      " 0   paper_id                  71179 non-null  object\n",
      " 1   abstract                  71179 non-null  object\n",
      " 2   body_text                 71179 non-null  object\n",
      " 3   authors                   71179 non-null  object\n",
      " 4   title                     71179 non-null  object\n",
      " 5   journal                   71179 non-null  object\n",
      " 6   abstract_summary          71179 non-null  object\n",
      " 7   abstract_word_count       71179 non-null  int64 \n",
      " 8   body_word_count           71179 non-null  int64 \n",
      " 9   body_unique_words         71179 non-null  int64 \n",
      " 10  language                  71179 non-null  object\n",
      " 11  processed_text            71179 non-null  object\n",
      " 12  text_wo_stopfreq          71179 non-null  object\n",
      " 13  text_lemmatized           71179 non-null  object\n",
      " 14  text_lemmatized_no_url    71179 non-null  object\n",
      " 15  text_lemmatized_url_html  71179 non-null  object\n",
      "dtypes: int64(3), object(13)\n",
      "memory usage: 9.2+ MB\n"
     ]
    }
   ],
   "source": [
    "df = df[df['language'] == 'en'] \n",
    "df.info()"
   ]
  },
  {
   "cell_type": "code",
   "execution_count": 64,
   "metadata": {
    "id": "cnysIJgzGdW6"
   },
   "outputs": [],
   "source": [
    "#Download the spacy bio parser\n",
    "\n",
    "from IPython.utils import io\n",
    "with io.capture_output() as captured:\n",
    "  !pip install https://s3-us-west-2.amazonaws.com/ai2-s2-scispacy/releases/v0.4.0/en_core_sci_lg-0.4.0.tar.gz"
   ]
  },
  {
   "cell_type": "code",
   "execution_count": 65,
   "metadata": {
    "colab": {
     "base_uri": "https://localhost:8080/"
    },
    "id": "SRxDvLIFGdW7",
    "outputId": "2d32eee1-b3fa-4681-edfd-cc4f1aa4484d"
   },
   "outputs": [
    {
     "name": "stdout",
     "output_type": "stream",
     "text": [
      "\u001b[38;5;2m✔ Download and installation successful\u001b[0m\n",
      "You can now load the package via spacy.load('en_core_web_lg')\n"
     ]
    }
   ],
   "source": [
    "import spacy.cli\n",
    "spacy.cli.download(\"en_core_web_lg\")\n",
    "import en_core_web_lg\n",
    "nlp = en_core_web_lg.load()"
   ]
  },
  {
   "cell_type": "code",
   "execution_count": 66,
   "metadata": {
    "id": "UGhyIiXsGdW7"
   },
   "outputs": [],
   "source": [
    "#NLP \n",
    "import spacy\n",
    "from spacy.lang.en.stop_words import STOP_WORDS\n",
    "import en_core_sci_lg  # model downloaded in previous step"
   ]
  },
  {
   "cell_type": "markdown",
   "metadata": {
    "id": "0Z6kHFa5GdW7"
   },
   "source": [
    "### Stopwords\n",
    "\n",
    "Part of the preprocessing will be finding and removing stopwords (common words that will act as noise in the clustering step)."
   ]
  },
  {
   "cell_type": "code",
   "execution_count": 67,
   "metadata": {
    "colab": {
     "base_uri": "https://localhost:8080/"
    },
    "id": "Jr5l1GxpGdW7",
    "outputId": "0bf66852-4354-48dd-d92c-6bde7fabd0cb"
   },
   "outputs": [
    {
     "name": "stdout",
     "output_type": "stream",
     "text": [
      "['hence', 'someone', 'some', 'go', '’m', 'must', 'a', 'anything', 'to', 'me', 'keep', 'give', 'whatever', 'cannot', 'under', 'all', 'she', 'its', 'them', 'not', 'into', 'quite', 'bottom', 'ours', 'using', 'many', 'whose', 'at', 'ca', \"'re\", 'somehow', 'in', '‘s', '‘ll', \"n't\", 'over', 'any', 'him', '’d', 'often', 'sometimes', 'seems', 'sometime', 'used', 'after', 'perhaps', 'sixty', 'whereupon', 'he', 'there', 'however', 'side', 'across', 'during', 'move', 'here', 'indeed', 'least', 'other', 'anyhow', 'should', 'although', 'elsewhere', 're', '‘re', 'had', 'itself', 'thereupon', '’ll', 'another', 'where', 'my', 'twenty', 'wherein', 'still', 'anywhere', 'have', 'please', 'why', 'none', 'two', 'whether', 'does', 'something', 'therefore', 'done', 'most', 'others', 'when', 'nor', 'everywhere', 'whither', 'per', 'thus', 'did', 'off', 'nevertheless', 'forty', 'various', 'call', 'am', 'regarding', 'through', 'n‘t', 'from', 'more', 'do', 'until', 'next', 'or', 'via', 'beyond', 'so', 'are', 'everyone', '‘ve', 'upon', 'within', 'latterly', 'moreover', 'themselves', 'yourselves', 'than', 'full', 'that', 'first', 'very', 'alone', 'again', 'below', 'seemed', 'were', 'with', \"'ve\", '‘m', 'became', 'eight', 'namely', 'never', 'just', 'five', 'whereafter', '’ve', 'behind', 'each', 'afterwards', \"'ll\", 'along', 'us', 'therein', 'for', 'become', 'it', 'among', 'beforehand', 'we', 'the', 'how', 'throughout', 'one', 'be', 'their', 'will', 'anyway', 'being', 'himself', 'neither', 'whom', 'yet', 'no', 'else', 'six', \"'d\", 'could', 'doing', 'toward', 'both', 'though', 'otherwise', 'herself', 'before', 'unless', 'whenever', 'twelve', 'empty', 'these', 'yours', 'thereafter', 'is', 'and', 'as', 'name', 'take', 'this', 'seeming', 'almost', 'even', 'about', 'front', 'becoming', 'on', 'meanwhile', 'been', 'whole', 'latter', 'while', 'might', 'top', 'whoever', '’re', 'whereby', 'nowhere', 'nine', 'i', 'always', 'since', 'due', 'hereafter', 'around', 'n’t', 'several', 'formerly', '‘d', 'amount', 'myself', 'either', 'rather', 'thru', 'four', 'of', 'everything', 'thereby', 'an', 'herein', 'what', 'you', 'thence', 'becomes', 'between', 'part', 'somewhere', 'mine', 'wherever', 'her', \"'m\", 'also', 'without', 'they', 'seem', 'fifteen', 'made', 'towards', 'except', 'serious', 'who', 'onto', 'yourself', 'once', 'eleven', 'has', 'because', 'noone', 'really', 'too', 'your', 'make', 'out', 'would', 'was', 'ourselves', 'besides', 'whereas', 'show', 'hundred', 'last', 'few', 'see', 'down', 'well', 'hereupon', 'ever', 'but', 'such', 'our', 'say', 'which', 'get', 'nothing', 'own', 'former', 'anyone', 'together', 'then', 'less', 'can', '’s', 'mostly', 'much', 'amongst', 'every', 'above', 'beside', 'back', 'may', 'if', 'hereby', 'by', 'already', 'only', 'same', 'further', \"'s\", 'third', 'enough', 'his', 'up', 'now', 'put', 'three', 'whence', 'against', 'those', 'nobody', 'fifty', 'ten', 'hers']\n",
      "-----------\n",
      "!\"#$%&'()*+,-./:;<=>?@[\\]^_`{|}~\n"
     ]
    }
   ],
   "source": [
    "import string\n",
    "\n",
    "punctuations = string.punctuation\n",
    "stopwords = list(STOP_WORDS)\n",
    "print(stopwords)\n",
    "print(\"-----------\")\n",
    "\n",
    "print(punctuations)"
   ]
  },
  {
   "cell_type": "markdown",
   "metadata": {
    "id": "cGzgeg9dGdW8"
   },
   "source": [
    "Now the above stopwords are used in everyday english text. Research papers will often frequently use words that don't actually contribute to the meaning and are not considered everyday stopwords.\n",
    "\n",
    "Thank you Daniel Wolffram for the idea.\n",
    "#### Cite: [Custom Stop Words | Topic Modeling: Finding Related Articles](https://www.kaggle.com/danielwolffram/topic-modeling-finding-related-articles)"
   ]
  },
  {
   "cell_type": "code",
   "execution_count": 69,
   "metadata": {
    "id": "jIWi1cUBGdW8"
   },
   "outputs": [],
   "source": [
    "custom_stop_words = [\n",
    "    'doi', 'preprint', 'copyright', 'peer', 'reviewed', 'org', 'https', 'et', 'al', 'author', 'figure', \n",
    "    'rights', 'reserved', 'permission', 'used', 'using', 'biorxiv', 'medrxiv', 'license', 'fig', 'fig.', \n",
    "    'al.', 'Elsevier', 'PMC', 'CZI', 'www'\n",
    "]\n",
    "\n",
    "for w in custom_stop_words:\n",
    "    if w not in stopwords:\n",
    "        stopwords.append(w)"
   ]
  },
  {
   "cell_type": "markdown",
   "metadata": {
    "id": "Vqksra4AGdW8"
   },
   "source": [
    "### Next lets create a function that will process the text data for us. \n",
    "For this purpose we will be using the spacy library. This function will convert text to lower case, remove punctuation, and find and remove stopwords. For the parser, we will use en_core_sci_lg. This is a model for processing biomedical, scientific or clinical text."
   ]
  },
  {
   "cell_type": "code",
   "execution_count": 70,
   "metadata": {
    "id": "sUGMFC2hGdW9"
   },
   "outputs": [],
   "source": [
    "# Parser\n",
    "parser = en_core_sci_lg.load(disable=[\"tagger\", \"ner\"])\n",
    "parser.max_length = 7000000\n",
    "\n",
    "def spacy_tokenizer(sentence):\n",
    "    mytokens = parser(sentence)\n",
    "\n",
    "    mytokens = [ word for word in mytokens if word not in stopwords and word.text not in punctuations ]\n",
    "    mytokens = \" \".join([i for i in mytokens])\n",
    "    return mytokens"
   ]
  },
  {
   "cell_type": "markdown",
   "metadata": {
    "id": "59xOir8bGdW9"
   },
   "source": [
    "Applying the text-processing function on the **body_text**. "
   ]
  },
  {
   "cell_type": "code",
   "execution_count": 71,
   "metadata": {
    "id": "ySfURtBsGdW9",
    "scrolled": false
   },
   "outputs": [],
   "source": [
    "#//////////////////////////////////////////////////////////////\n",
    "#//////////////////////////////////////////////////////////////\n",
    "#//////////////////////////////////////////////////////////////\n",
    "#c'est dans cette partie la que ça bug , ça prend un temps énorme et on a pas eu de résultat  \n",
    "#//////////////////////////////////////////////////////////////\n",
    "#//////////////////////////////////////////////////////////////\n",
    "#//////////////////////////////////////////////////////////////\n",
    "#tqdm.pandas()\n",
    "#df[\"processed_text\"] = df[\"body_text\"].progress_apply(spacy_tokenizer)"
   ]
  },
  {
   "cell_type": "code",
   "execution_count": 72,
   "metadata": {
    "id": "VXz-7XXYGdW9"
   },
   "outputs": [],
   "source": [
    "import spacy\n",
    "nlp = en_core_web_lg.load()\n",
    "def spacy_process(texte):\n",
    "    tmp = []\n",
    "    tmp.append(texte)\n",
    "    for lt in tmp:\n",
    "        mytokens = nlp(lt)\n",
    "        mytokens2 = [word.lemma_.lower().strip() for word in mytokens if word.pos_ != \"PUNCT\" and word.text not in stopwords]\n",
    "        mytokens2 = \" \".join([i for i in mytokens2])\n",
    "    return mytokens2\n",
    "df[\"processed_text\"] = df[\"body_text\"].apply(spacy_process)"
   ]
  },
  {
   "cell_type": "markdown",
   "metadata": {
    "id": "MUa3hW_rGdW-"
   },
   "source": [
    "### Exemple"
   ]
  },
  {
   "cell_type": "code",
   "execution_count": 73,
   "metadata": {
    "colab": {
     "base_uri": "https://localhost:8080/"
    },
    "id": "o4KDJ0KqGdW-",
    "outputId": "083e10b7-26bb-488f-bcde-e9eeff609ffb"
   },
   "outputs": [
    {
     "name": "stdout",
     "output_type": "stream",
     "text": [
      "vaccination\n",
      "vaccination\n",
      "vaccinate\n",
      "vaccinate\n"
     ]
    }
   ],
   "source": [
    "test1 = spacy_process(\"vaccinations\")\n",
    "test2 = spacy_process(\"vaccination\")\n",
    "test3 = spacy_process(\"vaccinating\")\n",
    "test4 = spacy_process(\"vaccinated\")\n",
    "print(test1)\n",
    "print(test2)\n",
    "print(test3)\n",
    "print(test4)"
   ]
  },
  {
   "cell_type": "code",
   "execution_count": 74,
   "metadata": {
    "colab": {
     "base_uri": "https://localhost:8080/",
     "height": 479
    },
    "id": "Rn05paVyGdW-",
    "outputId": "c8c97c88-9313-45bc-96c0-f9b2383a55f0"
   },
   "outputs": [
    {
     "data": {
      "text/html": [
       "<div>\n",
       "<style scoped>\n",
       "    .dataframe tbody tr th:only-of-type {\n",
       "        vertical-align: middle;\n",
       "    }\n",
       "\n",
       "    .dataframe tbody tr th {\n",
       "        vertical-align: top;\n",
       "    }\n",
       "\n",
       "    .dataframe thead th {\n",
       "        text-align: right;\n",
       "    }\n",
       "</style>\n",
       "<table border=\"1\" class=\"dataframe\">\n",
       "  <thead>\n",
       "    <tr style=\"text-align: right;\">\n",
       "      <th></th>\n",
       "      <th>paper_id</th>\n",
       "      <th>abstract</th>\n",
       "      <th>body_text</th>\n",
       "      <th>authors</th>\n",
       "      <th>title</th>\n",
       "      <th>journal</th>\n",
       "      <th>abstract_summary</th>\n",
       "      <th>abstract_word_count</th>\n",
       "      <th>body_word_count</th>\n",
       "      <th>body_unique_words</th>\n",
       "      <th>language</th>\n",
       "      <th>processed_text</th>\n",
       "      <th>text_wo_stopfreq</th>\n",
       "      <th>text_lemmatized</th>\n",
       "      <th>text_lemmatized_no_url</th>\n",
       "      <th>text_lemmatized_url_html</th>\n",
       "    </tr>\n",
       "  </thead>\n",
       "  <tbody>\n",
       "    <tr>\n",
       "      <th>0</th>\n",
       "      <td>33979833</td>\n",
       "      <td>Severe acute respiratory syndrome coronavirus ...</td>\n",
       "      <td>Severe acute respiratory syndrome coronavirus ...</td>\n",
       "      <td>Finkel Y</td>\n",
       "      <td>S</td>\n",
       "      <td>Journal Article</td>\n",
       "      <td>Severe acute respiratory syndrome&lt;br&gt;coronavi...</td>\n",
       "      <td>199</td>\n",
       "      <td>199</td>\n",
       "      <td>125</td>\n",
       "      <td>en</td>\n",
       "      <td>severe acute respiratory syndrome coronavirus ...</td>\n",
       "      <td>acute syndrome 2 cause ongoing 19 pandemic(1 c...</td>\n",
       "      <td>acute syndrome 2 cause ongoing 19 pandemic(1 c...</td>\n",
       "      <td>acute syndrome 2 cause ongoing 19 pandemic(1 c...</td>\n",
       "      <td>acute syndrome 2 cause ongoing 19 pandemic(1 c...</td>\n",
       "    </tr>\n",
       "    <tr>\n",
       "      <th>1</th>\n",
       "      <td>33979817</td>\n",
       "      <td>GENERAL PURPOSE: To introduce the 15 recommend...</td>\n",
       "      <td>GENERAL PURPOSE: To introduce the 15 recommend...</td>\n",
       "      <td>Chabal LO</td>\n",
       "      <td>P</td>\n",
       "      <td>Journal Article</td>\n",
       "      <td>GENERAL PURPOSE: To introduce the 15&lt;br&gt;recom...</td>\n",
       "      <td>116</td>\n",
       "      <td>116</td>\n",
       "      <td>85</td>\n",
       "      <td>en</td>\n",
       "      <td>general purpose to introduce 15 recommendation...</td>\n",
       "      <td>general purpose to introduce 15 recommendation...</td>\n",
       "      <td>general purpose to introduce 15 recommendation...</td>\n",
       "      <td>general purpose to introduce 15 recommendation...</td>\n",
       "      <td>general purpose to introduce 15 recommendation...</td>\n",
       "    </tr>\n",
       "    <tr>\n",
       "      <th>2</th>\n",
       "      <td>33979791</td>\n",
       "      <td>Segmenting lesion regions of Coronavirus Disea...</td>\n",
       "      <td>Segmenting lesion regions of Coronavirus Disea...</td>\n",
       "      <td>Ma Y</td>\n",
       "      <td>S</td>\n",
       "      <td>Journal Article</td>\n",
       "      <td>Segmenting lesion regions of Coronavirus&lt;br&gt;D...</td>\n",
       "      <td>185</td>\n",
       "      <td>185</td>\n",
       "      <td>133</td>\n",
       "      <td>en</td>\n",
       "      <td>segment lesion region coronavirus disease 2019...</td>\n",
       "      <td>segment lesion region compute tomography ct im...</td>\n",
       "      <td>segment lesion region compute tomography ct im...</td>\n",
       "      <td>segment lesion region compute tomography ct im...</td>\n",
       "      <td>segment lesion region compute tomography ct im...</td>\n",
       "    </tr>\n",
       "    <tr>\n",
       "      <th>3</th>\n",
       "      <td>33979779</td>\n",
       "      <td>BACKGROUND: To suppress the transmission of co...</td>\n",
       "      <td>BACKGROUND: To suppress the transmission of co...</td>\n",
       "      <td>O'Kane SM</td>\n",
       "      <td>C</td>\n",
       "      <td>Journal Article</td>\n",
       "      <td>BACKGROUND: To suppress the transmission of&lt;b...</td>\n",
       "      <td>199</td>\n",
       "      <td>199</td>\n",
       "      <td>130</td>\n",
       "      <td>en</td>\n",
       "      <td>background to suppress transmission coronaviru...</td>\n",
       "      <td>background to suppress transmission government...</td>\n",
       "      <td>background to suppress transmission government...</td>\n",
       "      <td>background to suppress transmission government...</td>\n",
       "      <td>background to suppress transmission government...</td>\n",
       "    </tr>\n",
       "    <tr>\n",
       "      <th>4</th>\n",
       "      <td>33979771</td>\n",
       "      <td>The effect of coronavirus disease (COVID-19) o...</td>\n",
       "      <td>The effect of coronavirus disease (COVID-19) o...</td>\n",
       "      <td>Barzegar M</td>\n",
       "      <td>C</td>\n",
       "      <td>Journal Article</td>\n",
       "      <td>The effect of coronavirus disease (COVID-19)&lt;...</td>\n",
       "      <td>99</td>\n",
       "      <td>99</td>\n",
       "      <td>78</td>\n",
       "      <td>en</td>\n",
       "      <td>the effect coronavirus disease covid-19 risk r...</td>\n",
       "      <td>effect relapse multiple sclerosis ms unknown r...</td>\n",
       "      <td>effect relapse multiple sclerosis m unknown re...</td>\n",
       "      <td>effect relapse multiple sclerosis m unknown re...</td>\n",
       "      <td>effect relapse multiple sclerosis m unknown re...</td>\n",
       "    </tr>\n",
       "  </tbody>\n",
       "</table>\n",
       "</div>"
      ],
      "text/plain": [
       "   paper_id  ...                           text_lemmatized_url_html\n",
       "0  33979833  ...  acute syndrome 2 cause ongoing 19 pandemic(1 c...\n",
       "1  33979817  ...  general purpose to introduce 15 recommendation...\n",
       "2  33979791  ...  segment lesion region compute tomography ct im...\n",
       "3  33979779  ...  background to suppress transmission government...\n",
       "4  33979771  ...  effect relapse multiple sclerosis m unknown re...\n",
       "\n",
       "[5 rows x 16 columns]"
      ]
     },
     "execution_count": 74,
     "metadata": {
      "tags": []
     },
     "output_type": "execute_result"
    }
   ],
   "source": [
    "df.head()\n"
   ]
  },
  {
   "cell_type": "code",
   "execution_count": 75,
   "metadata": {
    "colab": {
     "base_uri": "https://localhost:8080/"
    },
    "id": "JGaZ-EIcGdW-",
    "outputId": "2dcb9bc5-311b-4f4e-918e-c197e3cfef10"
   },
   "outputs": [
    {
     "name": "stdout",
     "output_type": "stream",
     "text": [
      "t\n",
      "h\n",
      "e\n",
      "\n",
      "c\n",
      "o\n",
      "v\n",
      "i\n",
      "d\n",
      "-\n",
      "1\n",
      "9\n",
      "\n",
      "p\n",
      "a\n",
      "n\n",
      "d\n",
      "e\n",
      "m\n",
      "i\n",
      "c\n",
      "\n",
      "p\n",
      "o\n",
      "s\n",
      "e\n",
      "s\n",
      "\n",
      "n\n",
      "e\n",
      "w\n",
      "\n",
      "c\n",
      "h\n",
      "a\n",
      "l\n",
      "l\n",
      "e\n",
      "n\n",
      "g\n",
      "e\n",
      "s\n"
     ]
    }
   ],
   "source": [
    "nlp = en_core_web_lg.load()\n",
    "\n",
    "tmp = \"The COVID-19 pandemic poses new challenges\"\n",
    "for lt in tmp:\n",
    "    mytokens = nlp(lt)\n",
    "    mytokens2 = [word.lemma_.lower().strip() for word in mytokens]\n",
    "    mytokens2 = \" \".join([i for i in mytokens2])\n",
    "    print(mytokens2)\n"
   ]
  },
  {
   "cell_type": "code",
   "execution_count": 77,
   "metadata": {
    "colab": {
     "base_uri": "https://localhost:8080/"
    },
    "id": "PZye4CoHGdXA",
    "outputId": "5bf7ce2d-7a30-4ae4-8f3d-0482817cd8cb"
   },
   "outputs": [
    {
     "name": "stdout",
     "output_type": "stream",
     "text": [
      "GENERAL PURPOSE: To introduce the 15 recommendations of the International Ostomy Guideline (IOG) 2020, covering the four key arenas of education, holistic aspects, and pre- and postoperative care; and to summarize key concepts for clinicians to customize for translation into their practice. TARGET AUDIENCE: This continuing education activity is intended for physicians, physician assistants, nurse practitioners, and nurses with an interest in skin and wound care. LEARNING OBJECTIVES/OUTCOMES: After participating in this educational activity, the participant will:1. Analyze supporting evidence for the education recommendations in the IOG 2020.2. Identify a benefit of the International Charter of Ostomate Rights.3. Distinguish concepts related to pre- and postoperative ostomy-related care.4. Select a potential barrier to IOG 2020 guideline implementation.\n",
      "\n",
      "general purpose to introduce 15 recommendation international ostomy guideline iog 2020 cover key arena education holistic aspect pre- postoperative care summarize key concept clinician customize translation practice target audience this continue education activity intend physician physician assistant nurse practitioner nurse interest skin wound care learning objective / outcomes after participate educational activity participant will:1 analyze support evidence education recommendation iog 2020.2 identify benefit international charter ostomate rights.3 distinguish concept relate pre- postoperative ostomy relate care.4 select potential barrier iog 2020 guideline implementation\n",
      "\n",
      "----------------------------------------------------------\n",
      "Segmenting lesion regions of Coronavirus Disease 2019 (COVID-19) from computed tomography (CT) images is a challenge owing to COVID-19 lesions characterized by high variation, low contrast between infection lesions and around normal tissues, and blurred boundaries of infections. Moreover, a shortage of available CT dataset hinders deep learning techniques applying to tackling COVID-19. To address these issues, we propose a deep learning-based approach known as PPM-Unet to segmenting COVID-19 lesions from CT images. Our method improves an Unet by adopting pyramid pooling modules instead of the conventional skip connection and then enhances the representation of the neural network by aiding the global attention mechanism. We first pre-train PPM-Unet on COVID-19 dataset of pseudo labels containing1600 samples producing a coarse model. Then we fine-tune the coarse PPM-Unet on the standard COVID-19 dataset consisting of 100 pairs of samples to achieve a fine PPM-Unet. Qualitative and quantitative results demonstrate that our method can accurately segment COVID-19 infection regions from CT images, and achieve higher performance than other state-of-the-art segmentation models in this study. It offers a promising tool to lay a foundation for quantitatively detecting COVID-19 lesions.\n",
      "\n",
      "segment lesion region coronavirus disease 2019 covid-19 compute tomography ct image challenge owe covid-19 lesion characterize high variation low contrast infection lesion normal tissue blur boundary infection moreover shortage available ct dataset hinder deep learning technique apply tackle covid-19 to address issue propose deep learning base approach know ppm unet segment covid-19 lesion ct image our method improve unet adopt pyramid pooling module instead conventional skip connection enhance representation neural network aid global attention mechanism we pre - train ppm unet covid-19 dataset pseudo label containing1600 sample produce coarse model then fine tune coarse ppm unet standard covid-19 dataset consist 100 pair sample achieve fine ppm unet qualitative quantitative result demonstrate method accurately segment covid-19 infection region ct image achieve high performance state art segmentation model study it offer promising tool lay foundation quantitatively detect covid-19 lesion\n",
      "\n",
      "----------------------------------------------------------\n",
      "BACKGROUND: To suppress the transmission of coronavirus, many governments, including that of the island of Ireland, implemented a societal lockdown, which included school closures, limits on social gatherings, and time outdoors. This study aimed to evaluate changes in physical activity (PA), mental health, sleep, and social media use among adolescent girls during lockdown. METHODS: 281 female pupils (12-14 y) taking part in the ongoing Walking In Schools study on the island of Ireland self-reported PA, mental health, sleep, and social media use before (September-October 2019) and during lockdown (May-June 2020), via questionnaires. These were supplemented with open-ended structured interviews conducted with 16 girls during lockdown. RESULTS: During the period of lockdown and school closures, pupils tried new forms of PA and undertook PA with family, but there was no significant change in self-reported PA. There was a decline in health-related quality of life and motivation for exercise; however, self-efficacy for walking and happiness with appearance increased. There was no change in sleep quality or social media usage. CONCLUSIONS: Despite the many challenges that schools face as they reopen, there is a need to continue to prioritize PA and motivation for exercise to support health and well-being in adolescent girls.\n",
      "\n",
      "background to suppress transmission coronavirus government include island ireland implement societal lockdown include school closure limit social gathering time outdoors this study aim evaluate change physical activity pa mental health sleep social medium use adolescent girl lockdown method 281 female pupil 12 - 14 y take ongoing walking in schools study island ireland self report pa mental health sleep social medium use september october 2019 lockdown may june 2020 questionnaire these supplement open end structured interview conduct 16 girl lockdown result during period lockdown school closure pupil try new form pa undertake pa family significant change self report pa there decline health relate quality life motivation exercise self efficacy walking happiness appearance increase there change sleep quality social medium usage conclusion despite challenge school face reopen need continue prioritize pa motivation exercise support health adolescent girl\n",
      "\n",
      "----------------------------------------------------------\n",
      "The effect of coronavirus disease (COVID-19) on the risk of relapse in multiple sclerosis (MS) have been unknown. In this retrospective study of 41 relapsing-remitting MS patients, number of relapses in pre-defined at risk-period (ARP) was compared with the previous two years. During the previous two years, a total of 32 attacks was reported, which 5 (15.6%) were during the at-risk period. After adjusting for age and sex, there was an increased risk of attack during ARP compared to the previous two years (RR: 2.566, 95%CI: 1.075-6.124, P=0.034). Our preliminary study suggested that COVID-19 can trigger exacerbation of MS.\n",
      "\n",
      "the effect coronavirus disease covid-19 risk relapse multiple sclerosis ms unknown in retrospective study 41 relapse remit ms patient number relapse pre - define risk period arp compare previous year during previous year total 32 attack report 5 15.6 % risk period after adjust age sex increased risk attack arp compare previous year rr 2.566 95%ci 1.075 6.124 p=0.034 our preliminary study suggest covid-19 trigger exacerbation ms\n",
      "\n",
      "----------------------------------------------------------\n",
      "Coronavirus disease 2019 (COVID-19) patients have manifested a variety of neurological complications, and there is still much to reveal regarding the neurotropism of severe acute respiratory syndrome coronavirus 2 (SARS-CoV-2). Human stem cell-derived brain organoids offer a valuable in vitro approach to study the cellular effects of SARS-CoV-2 on the brain. Here we used human embryonic stem cell-derived cortical organoids to investigate whether SARS-CoV-2 could infect brain tissue in vitro and found that cortical organoids could be infected at low viral titers and within 6 h. Importantly, we show that glial cells and cells of the choroid plexus were preferentially targeted in our model, but not neurons. Interestingly, we also found expression of angiotensin-converting enzyme 2 in SARS-CoV-2 infected cells; however, viral replication and cell death involving DNA fragmentation does not occur. We believe that our model is a tractable platform to study the cellular effects of SARS-CoV-2 infection in brain tissue.\n",
      "\n",
      "coronavirus disease 2019 covid-19 patient manifest variety neurological complication reveal neurotropism severe acute respiratory syndrome coronavirus 2 sars cov-2 human stem cell derive brain organoid offer valuable vitro approach study cellular effect sars cov-2 brain here human embryonic stem cell derive cortical organoid investigate sars cov-2 infect brain tissue vitro find cortical organoid infect low viral titer 6 h. importantly glial cell cell choroid plexus preferentially target model neuron interestingly find expression angiotensin convert enzyme 2 sars cov-2 infect cell viral replication cell death involve dna fragmentation occur we believe model tractable platform study cellular effect sars cov-2 infection brain tissue\n",
      "\n",
      "----------------------------------------------------------\n",
      "We detected severe acute respiratory syndrome coronavirus 2 in an otherwise healthy poodle living with 4 family members who had coronavirus disease. We observed antibodies in serum samples taken from the dog, indicating seroconversion. Full-length genome sequencing showed that the canine and human viruses were identical, suggesting human-to-animal transmission.\n",
      "\n",
      "we detect severe acute respiratory syndrome coronavirus 2 healthy poodle live 4 family member coronavirus disease we observe antibody serum sample take dog indicate seroconversion full length genome sequencing show canine human virus identical suggest human animal transmission\n",
      "\n",
      "----------------------------------------------------------\n",
      "We describe response measures to an outbreak involving 128 (33.4%) coronavirus disease cases (46.1% asymptomatic) among 383 persons onboard a passenger ship. Multivariate analysis indicated that dining in certain rooms and bar areas, nationality, working department (for crew members), and quarantining onboard the ship were significantly associated with infection.\n",
      "\n",
      "we describe response measure outbreak involve 128 33.4 % coronavirus disease case 46.1 % asymptomatic 383 person onboard passenger ship multivariate analysis indicate dining certain room bar area nationality working department crew member quarantine onboard ship significantly associate infection\n",
      "\n",
      "----------------------------------------------------------\n",
      "Worksites with on-site operations have experienced coronavirus disease (COVID-19) outbreaks. We analyzed data for 698 nonresidential, nonhealthcare worksite COVID-19 outbreaks investigated in Los Angeles County, California, USA, during March 19, 2020September 30, 2020, by using North American Industry Classification System sectors and subsectors. Nearly 60% of these outbreaks occurred in 3 sectors: manufacturing (n = 184, 26.4%), retail trade (n = 137, 19.6%), and transportation and warehousing (n = 73, 10.5%). The largest number of outbreaks and largest number and highest incidence rate of outbreak-associated cases occurred in manufacturing. Furthermore, 7 of the 10 industry subsectors with the highest incidence rates were within manufacturing. Approximately 70% of outbreak-associated case-patients reported Hispanic ethnicity. Facilities employing more on-site staff had larger and longer outbreaks. Identification of highly affected industry sectors and subsectors is necessary for targeted public health planning, outreach, and response, including ensuring vaccine access, to reduce burden of COVID-19 in vulnerable workers.\n",
      "\n",
      "worksite site operation experience coronavirus disease covid-19 outbreak we analyze datum 698 nonresidential nonhealthcare worksite covid-19 outbreak investigate los angeles county california usa march 19 2020september 30 2020 north american industry classification system sector subsector nearly 60 % outbreak occur 3 sector manufacturing n = 184 26.4 % retail trade n = 137 19.6 % transportation warehousing n = 73 10.5 % the large number outbreak large number high incidence rate outbreak associate case occur manufacturing furthermore 7 10 industry subsector high incidence rate manufacturing approximately 70 % outbreak associate case patient report hispanic ethnicity facility employ site staff large long outbreak identification highly affected industry sector subsector necessary target public health planning outreach response include ensure vaccine access reduce burden covid-19 vulnerable worker\n",
      "\n",
      "----------------------------------------------------------\n",
      "\n",
      "\n",
      "\n",
      "\n",
      "----------------------------------------------------------\n"
     ]
    }
   ],
   "source": [
    "processed_text = df[\"processed_text\"]\n",
    "body_text = df[\"body_text\"]\n",
    "\n",
    "for i in range(1,10):\n",
    "    print(body_text[i])\n",
    "    print(\"\")\n",
    "    print(processed_text[i])\n",
    "    print(\"\")\n",
    "    print(\"----------------------------------------------------------\")\n",
    "\n"
   ]
  },
  {
   "cell_type": "markdown",
   "metadata": {
    "id": "5BGXvkPuGdXB"
   },
   "source": [
    "### Removal of Frequent words\n",
    "So this step is to remove the frequent words in the given corpus. If we use something like tfidf, this is automatically taken care of."
   ]
  },
  {
   "cell_type": "code",
   "execution_count": 37,
   "metadata": {
    "colab": {
     "base_uri": "https://localhost:8080/"
    },
    "id": "tJLC9z5dGdXC",
    "outputId": "794dc8f8-4c71-4b89-a48d-e0d5a4482132"
   },
   "outputs": [
    {
     "data": {
      "text/plain": [
       "[('covid-19', 184585),\n",
       " ('patient', 133398),\n",
       " ('%', 124652),\n",
       " ('the', 114428),\n",
       " ('sars', 80807),\n",
       " ('disease', 73047),\n",
       " ('-', 72985),\n",
       " ('cov-2', 66397),\n",
       " ('coronavirus', 65931),\n",
       " ('study', 63510),\n",
       " ('pandemic', 57625),\n",
       " ('infection', 55742),\n",
       " ('result', 48282),\n",
       " ('health', 47434),\n",
       " ('case', 43246),\n",
       " ('virus', 41284),\n",
       " ('respiratory', 40928),\n",
       " ('high', 40597),\n",
       " ('severe', 39209),\n",
       " ('we', 38410),\n",
       " ('in', 36998),\n",
       " ('clinical', 35747),\n",
       " ('2019', 34957),\n",
       " ('risk', 33566),\n",
       " ('include', 33119),\n",
       " ('care', 32170),\n",
       " ('2020', 29918),\n",
       " ('this', 29180),\n",
       " ('method', 29076),\n",
       " ('report', 28970),\n",
       " ('acute', 28536),\n",
       " ('/', 27835),\n",
       " ('=', 27393),\n",
       " ('2', 27364),\n",
       " ('treatment', 26340),\n",
       " ('increase', 26316),\n",
       " ('datum', 26228),\n",
       " ('syndrome', 25728),\n",
       " ('a', 25009),\n",
       " ('cell', 24766)]"
      ]
     },
     "execution_count": 37,
     "metadata": {
      "tags": []
     },
     "output_type": "execute_result"
    }
   ],
   "source": [
    "from collections import Counter\n",
    "cnt = Counter()\n",
    "for text in df[\"processed_text\"].values:\n",
    "    for word in text.split():\n",
    "        cnt[word] += 1\n",
    "        \n",
    "cnt.most_common(40)"
   ]
  },
  {
   "cell_type": "code",
   "execution_count": 38,
   "metadata": {
    "colab": {
     "base_uri": "https://localhost:8080/"
    },
    "id": "5rgoqRLVGdXD",
    "outputId": "087c508a-19e3-4874-d51c-cb9e8a596a1a"
   },
   "outputs": [
    {
     "name": "stderr",
     "output_type": "stream",
     "text": [
      "/usr/local/lib/python3.7/dist-packages/ipykernel_launcher.py:6: SettingWithCopyWarning: \n",
      "A value is trying to be set on a copy of a slice from a DataFrame.\n",
      "Try using .loc[row_indexer,col_indexer] = value instead\n",
      "\n",
      "See the caveats in the documentation: https://pandas.pydata.org/pandas-docs/stable/user_guide/indexing.html#returning-a-view-versus-a-copy\n",
      "  \n"
     ]
    }
   ],
   "source": [
    "FREQWORDS = set([w for (w, wc) in cnt.most_common(30)])\n",
    "def remove_freqwords(text):\n",
    "    \"\"\"custom function to remove the frequent words\"\"\"\n",
    "    return \" \".join([word for word in str(text).split() if word not in FREQWORDS])\n",
    "\n",
    "df[\"text_wo_stopfreq\"] = df[\"processed_text\"].apply(lambda text: remove_freqwords(text))\n"
   ]
  },
  {
   "cell_type": "code",
   "execution_count": 39,
   "metadata": {
    "colab": {
     "base_uri": "https://localhost:8080/"
    },
    "id": "Knx3BL73GdXD",
    "outputId": "357f2e6d-6f8b-4188-802c-dc0a1ff9552a"
   },
   "outputs": [
    {
     "data": {
      "text/plain": [
       "0        Severe acute respiratory syndrome coronavirus ...\n",
       "1        GENERAL PURPOSE: To introduce the 15 recommend...\n",
       "2        Segmenting lesion regions of Coronavirus Disea...\n",
       "3        BACKGROUND: To suppress the transmission of co...\n",
       "4        The effect of coronavirus disease (COVID-19) o...\n",
       "                               ...                        \n",
       "99995    From the mid-1960s onwards, it was believed th...\n",
       "99996    Mouse hepatitis virus (MHV) causes encephaliti...\n",
       "99997    BACKGROUND: In March of 2003, an outbreak of S...\n",
       "99998    The severe acute respiratory syndrome coronavi...\n",
       "99999    Both the threat of bioterrorism and the natura...\n",
       "Name: body_text, Length: 71179, dtype: object"
      ]
     },
     "execution_count": 39,
     "metadata": {
      "tags": []
     },
     "output_type": "execute_result"
    }
   ],
   "source": [
    "df[\"body_text\"]"
   ]
  },
  {
   "cell_type": "code",
   "execution_count": 40,
   "metadata": {
    "colab": {
     "base_uri": "https://localhost:8080/"
    },
    "id": "J_W4W_JKGdXE",
    "outputId": "d9c03bd2-b557-486f-bd6f-d54c6a1417ff"
   },
   "outputs": [
    {
     "data": {
      "text/plain": [
       "0        acute syndrome 2 cause ongoing 19 pandemic(1 c...\n",
       "1        general purpose to introduce 15 recommendation...\n",
       "2        segment lesion region compute tomography ct im...\n",
       "3        background to suppress transmission government...\n",
       "4        effect relapse multiple sclerosis ms unknown r...\n",
       "                               ...                        \n",
       "99995    from mid-1960 onwards believe human specie inf...\n",
       "99996    mouse hepatitis mhv cause encephalitis demyeli...\n",
       "99997    background march 2003 outbreak acute syndrome ...\n",
       "99998    acute syndrome cov nucleocapsid protein np pre...\n",
       "99999    both threat bioterrorism natural emergence con...\n",
       "Name: text_wo_stopfreq, Length: 71179, dtype: object"
      ]
     },
     "execution_count": 40,
     "metadata": {
      "tags": []
     },
     "output_type": "execute_result"
    }
   ],
   "source": [
    "df[\"text_wo_stopfreq\"]"
   ]
  },
  {
   "cell_type": "code",
   "execution_count": 41,
   "metadata": {
    "colab": {
     "base_uri": "https://localhost:8080/"
    },
    "id": "q5wMKU0uGdXF",
    "outputId": "d214ac7b-8d73-4624-ce6d-45a4ce56eab1"
   },
   "outputs": [
    {
     "data": {
      "text/plain": [
       "0        severe acute respiratory syndrome coronavirus ...\n",
       "1        general purpose to introduce 15 recommendation...\n",
       "2        segment lesion region coronavirus disease 2019...\n",
       "3        background to suppress transmission coronaviru...\n",
       "4        the effect coronavirus disease covid-19 risk r...\n",
       "                               ...                        \n",
       "99995    from mid-1960 onwards believe human coronaviru...\n",
       "99996    mouse hepatitis virus mhv cause encephalitis d...\n",
       "99997    background in march 2003 outbreak severe acute...\n",
       "99998    the severe acute respiratory syndrome coronavi...\n",
       "99999    both threat bioterrorism natural emergence con...\n",
       "Name: processed_text, Length: 71179, dtype: object"
      ]
     },
     "execution_count": 41,
     "metadata": {
      "tags": []
     },
     "output_type": "execute_result"
    }
   ],
   "source": [
    "df[\"processed_text\"]"
   ]
  },
  {
   "cell_type": "markdown",
   "metadata": {
    "id": "hrP6BUuHGdXF"
   },
   "source": [
    "### Removal of Rare words\n",
    "This is very similar to previous preprocessing step but we will remove the rare words from the corpus."
   ]
  },
  {
   "cell_type": "code",
   "execution_count": 42,
   "metadata": {
    "id": "Kpq7VQNpGdXF"
   },
   "outputs": [],
   "source": [
    "#cnt.most_common()[:-500-1:-1]"
   ]
  },
  {
   "cell_type": "code",
   "execution_count": 43,
   "metadata": {
    "id": "7bKfD-Y1GdXG"
   },
   "outputs": [],
   "source": [
    "# n_rare_words = 10\n",
    "# RAREWORDS = set([w for (w, wc) in cnt.most_common()[:-n_rare_words-1:-1]])\n",
    "# def remove_rarewords(text):\n",
    "#     \"\"\"custom function to remove the rare words\"\"\"\n",
    "#     return \" \".join([word for word in str(text).split() if word not in RAREWORDS])\n",
    "\n",
    "# df[\"text_wo_stopfreqrare\"] = df[\"text_wo_stopfreq\"].apply(lambda text: remove_rarewords(text))\n",
    "# df.head()"
   ]
  },
  {
   "cell_type": "markdown",
   "metadata": {
    "id": "x0FbykEXGdXG"
   },
   "source": [
    "### Lemmatization"
   ]
  },
  {
   "cell_type": "markdown",
   "metadata": {
    "id": "hm9I-FXuGdXG"
   },
   "source": [
    "Lemmatization is similar to stemming in reducing inflected words to their word stem but differs in the way that it makes sure the root word (also called as lemma) belongs to the language."
   ]
  },
  {
   "cell_type": "code",
   "execution_count": 44,
   "metadata": {
    "colab": {
     "base_uri": "https://localhost:8080/"
    },
    "id": "tf3sCFnZGdXH",
    "outputId": "b2580851-b132-4ef0-d1ca-137b4c659cbe"
   },
   "outputs": [
    {
     "name": "stdout",
     "output_type": "stream",
     "text": [
      "[nltk_data] Downloading package wordnet to /root/nltk_data...\n",
      "[nltk_data]   Unzipping corpora/wordnet.zip.\n"
     ]
    },
    {
     "data": {
      "text/plain": [
       "True"
      ]
     },
     "execution_count": 44,
     "metadata": {
      "tags": []
     },
     "output_type": "execute_result"
    }
   ],
   "source": [
    "import nltk\n",
    "nltk.download('wordnet')"
   ]
  },
  {
   "cell_type": "code",
   "execution_count": 44,
   "metadata": {
    "id": "pPVDdQwkGdXH",
    "scrolled": true
   },
   "outputs": [],
   "source": []
  },
  {
   "cell_type": "markdown",
   "metadata": {
    "id": "LLrGL6OGGdXH"
   },
   "source": [
    "Now let us redo the lemmatization process for our dataset."
   ]
  },
  {
   "cell_type": "code",
   "execution_count": 45,
   "metadata": {
    "colab": {
     "base_uri": "https://localhost:8080/"
    },
    "id": "1uW_fDiFGdXI",
    "outputId": "9453fd98-5d2d-4d48-f754-3aaaf04bf271"
   },
   "outputs": [
    {
     "name": "stdout",
     "output_type": "stream",
     "text": [
      "[nltk_data] Downloading package averaged_perceptron_tagger to\n",
      "[nltk_data]     /root/nltk_data...\n",
      "[nltk_data]   Unzipping taggers/averaged_perceptron_tagger.zip.\n"
     ]
    },
    {
     "data": {
      "text/plain": [
       "True"
      ]
     },
     "execution_count": 45,
     "metadata": {
      "tags": []
     },
     "output_type": "execute_result"
    }
   ],
   "source": [
    "nltk.download('averaged_perceptron_tagger')\n"
   ]
  },
  {
   "cell_type": "code",
   "execution_count": 46,
   "metadata": {
    "colab": {
     "base_uri": "https://localhost:8080/"
    },
    "id": "0-UWVmP0GdXI",
    "outputId": "5b635081-65ca-44a3-d232-af719d5e82e2"
   },
   "outputs": [
    {
     "name": "stderr",
     "output_type": "stream",
     "text": [
      "/usr/local/lib/python3.7/dist-packages/ipykernel_launcher.py:10: SettingWithCopyWarning: \n",
      "A value is trying to be set on a copy of a slice from a DataFrame.\n",
      "Try using .loc[row_indexer,col_indexer] = value instead\n",
      "\n",
      "See the caveats in the documentation: https://pandas.pydata.org/pandas-docs/stable/user_guide/indexing.html#returning-a-view-versus-a-copy\n",
      "  # Remove the CWD from sys.path while we load stuff.\n"
     ]
    }
   ],
   "source": [
    "from nltk.corpus import wordnet\n",
    "from nltk.stem import WordNetLemmatizer\n",
    "\n",
    "lemmatizer = WordNetLemmatizer()\n",
    "wordnet_map = {\"N\":wordnet.NOUN, \"V\":wordnet.VERB, \"J\":wordnet.ADJ, \"R\":wordnet.ADV}\n",
    "def lemmatize_words(text):\n",
    "    pos_tagged_text = nltk.pos_tag(text.split())\n",
    "    return \" \".join([lemmatizer.lemmatize(word) for word, pos in pos_tagged_text])\n",
    "\n",
    "df[\"text_lemmatized\"] = df[\"text_wo_stopfreq\"].apply(lambda text: lemmatize_words(text))\n"
   ]
  },
  {
   "cell_type": "code",
   "execution_count": 47,
   "metadata": {
    "colab": {
     "base_uri": "https://localhost:8080/",
     "height": 0
    },
    "id": "JgclwSTTGdXI",
    "outputId": "27921cba-c5cf-4fc5-d674-946e55ce9487"
   },
   "outputs": [
    {
     "data": {
      "text/html": [
       "<div>\n",
       "<style scoped>\n",
       "    .dataframe tbody tr th:only-of-type {\n",
       "        vertical-align: middle;\n",
       "    }\n",
       "\n",
       "    .dataframe tbody tr th {\n",
       "        vertical-align: top;\n",
       "    }\n",
       "\n",
       "    .dataframe thead th {\n",
       "        text-align: right;\n",
       "    }\n",
       "</style>\n",
       "<table border=\"1\" class=\"dataframe\">\n",
       "  <thead>\n",
       "    <tr style=\"text-align: right;\">\n",
       "      <th></th>\n",
       "      <th>paper_id</th>\n",
       "      <th>abstract</th>\n",
       "      <th>body_text</th>\n",
       "      <th>authors</th>\n",
       "      <th>title</th>\n",
       "      <th>journal</th>\n",
       "      <th>abstract_summary</th>\n",
       "      <th>abstract_word_count</th>\n",
       "      <th>body_word_count</th>\n",
       "      <th>body_unique_words</th>\n",
       "      <th>language</th>\n",
       "      <th>processed_text</th>\n",
       "      <th>text_wo_stopfreq</th>\n",
       "      <th>text_lemmatized</th>\n",
       "    </tr>\n",
       "  </thead>\n",
       "  <tbody>\n",
       "    <tr>\n",
       "      <th>0</th>\n",
       "      <td>33979833</td>\n",
       "      <td>Severe acute respiratory syndrome coronavirus ...</td>\n",
       "      <td>Severe acute respiratory syndrome coronavirus ...</td>\n",
       "      <td>Finkel Y</td>\n",
       "      <td>S</td>\n",
       "      <td>Journal Article</td>\n",
       "      <td>Severe acute respiratory syndrome&lt;br&gt;coronavi...</td>\n",
       "      <td>199</td>\n",
       "      <td>199</td>\n",
       "      <td>125</td>\n",
       "      <td>en</td>\n",
       "      <td>severe acute respiratory syndrome coronavirus ...</td>\n",
       "      <td>acute syndrome 2 cause ongoing 19 pandemic(1 c...</td>\n",
       "      <td>acute syndrome 2 cause ongoing 19 pandemic(1 c...</td>\n",
       "    </tr>\n",
       "    <tr>\n",
       "      <th>1</th>\n",
       "      <td>33979817</td>\n",
       "      <td>GENERAL PURPOSE: To introduce the 15 recommend...</td>\n",
       "      <td>GENERAL PURPOSE: To introduce the 15 recommend...</td>\n",
       "      <td>Chabal LO</td>\n",
       "      <td>P</td>\n",
       "      <td>Journal Article</td>\n",
       "      <td>GENERAL PURPOSE: To introduce the 15&lt;br&gt;recom...</td>\n",
       "      <td>116</td>\n",
       "      <td>116</td>\n",
       "      <td>85</td>\n",
       "      <td>en</td>\n",
       "      <td>general purpose to introduce 15 recommendation...</td>\n",
       "      <td>general purpose to introduce 15 recommendation...</td>\n",
       "      <td>general purpose to introduce 15 recommendation...</td>\n",
       "    </tr>\n",
       "    <tr>\n",
       "      <th>2</th>\n",
       "      <td>33979791</td>\n",
       "      <td>Segmenting lesion regions of Coronavirus Disea...</td>\n",
       "      <td>Segmenting lesion regions of Coronavirus Disea...</td>\n",
       "      <td>Ma Y</td>\n",
       "      <td>S</td>\n",
       "      <td>Journal Article</td>\n",
       "      <td>Segmenting lesion regions of Coronavirus&lt;br&gt;D...</td>\n",
       "      <td>185</td>\n",
       "      <td>185</td>\n",
       "      <td>133</td>\n",
       "      <td>en</td>\n",
       "      <td>segment lesion region coronavirus disease 2019...</td>\n",
       "      <td>segment lesion region compute tomography ct im...</td>\n",
       "      <td>segment lesion region compute tomography ct im...</td>\n",
       "    </tr>\n",
       "    <tr>\n",
       "      <th>3</th>\n",
       "      <td>33979779</td>\n",
       "      <td>BACKGROUND: To suppress the transmission of co...</td>\n",
       "      <td>BACKGROUND: To suppress the transmission of co...</td>\n",
       "      <td>O'Kane SM</td>\n",
       "      <td>C</td>\n",
       "      <td>Journal Article</td>\n",
       "      <td>BACKGROUND: To suppress the transmission of&lt;b...</td>\n",
       "      <td>199</td>\n",
       "      <td>199</td>\n",
       "      <td>130</td>\n",
       "      <td>en</td>\n",
       "      <td>background to suppress transmission coronaviru...</td>\n",
       "      <td>background to suppress transmission government...</td>\n",
       "      <td>background to suppress transmission government...</td>\n",
       "    </tr>\n",
       "    <tr>\n",
       "      <th>4</th>\n",
       "      <td>33979771</td>\n",
       "      <td>The effect of coronavirus disease (COVID-19) o...</td>\n",
       "      <td>The effect of coronavirus disease (COVID-19) o...</td>\n",
       "      <td>Barzegar M</td>\n",
       "      <td>C</td>\n",
       "      <td>Journal Article</td>\n",
       "      <td>The effect of coronavirus disease (COVID-19)&lt;...</td>\n",
       "      <td>99</td>\n",
       "      <td>99</td>\n",
       "      <td>78</td>\n",
       "      <td>en</td>\n",
       "      <td>the effect coronavirus disease covid-19 risk r...</td>\n",
       "      <td>effect relapse multiple sclerosis ms unknown r...</td>\n",
       "      <td>effect relapse multiple sclerosis m unknown re...</td>\n",
       "    </tr>\n",
       "  </tbody>\n",
       "</table>\n",
       "</div>"
      ],
      "text/plain": [
       "   paper_id  ...                                    text_lemmatized\n",
       "0  33979833  ...  acute syndrome 2 cause ongoing 19 pandemic(1 c...\n",
       "1  33979817  ...  general purpose to introduce 15 recommendation...\n",
       "2  33979791  ...  segment lesion region compute tomography ct im...\n",
       "3  33979779  ...  background to suppress transmission government...\n",
       "4  33979771  ...  effect relapse multiple sclerosis m unknown re...\n",
       "\n",
       "[5 rows x 14 columns]"
      ]
     },
     "execution_count": 47,
     "metadata": {
      "tags": []
     },
     "output_type": "execute_result"
    }
   ],
   "source": [
    "df.head()"
   ]
  },
  {
   "cell_type": "code",
   "execution_count": 48,
   "metadata": {
    "colab": {
     "base_uri": "https://localhost:8080/"
    },
    "id": "qhGDEGQcGdXJ",
    "outputId": "6e4393f2-4648-495a-f0b9-7e496cd9c44a"
   },
   "outputs": [
    {
     "name": "stdout",
     "output_type": "stream",
     "text": [
      "GENERAL PURPOSE: To introduce the 15 recommendations of the International Ostomy Guideline (IOG) 2020, covering the four key arenas of education, holistic aspects, and pre- and postoperative care; and to summarize key concepts for clinicians to customize for translation into their practice. TARGET AUDIENCE: This continuing education activity is intended for physicians, physician assistants, nurse practitioners, and nurses with an interest in skin and wound care. LEARNING OBJECTIVES/OUTCOMES: After participating in this educational activity, the participant will:1. Analyze supporting evidence for the education recommendations in the IOG 2020.2. Identify a benefit of the International Charter of Ostomate Rights.3. Distinguish concepts related to pre- and postoperative ostomy-related care.4. Select a potential barrier to IOG 2020 guideline implementation.\n",
      "\n",
      "general purpose to introduce 15 recommendation international ostomy guideline iog 2020 cover key arena education holistic aspect pre- postoperative care summarize key concept clinician customize translation practice target audience this continue education activity intend physician physician assistant nurse practitioner nurse interest skin wound care learning objective / outcomes after participate educational activity participant will:1 analyze support evidence education recommendation iog 2020.2 identify benefit international charter ostomate rights.3 distinguish concept relate pre- postoperative ostomy relate care.4 select potential barrier iog 2020 guideline implementation\n",
      "\n",
      "general purpose to introduce 15 recommendation international ostomy guideline iog cover key arena education holistic aspect pre- postoperative summarize key concept clinician customize translation practice target audience continue education activity intend physician physician assistant nurse practitioner nurse interest skin wound learning objective / outcome after participate educational activity participant will:1 analyze support evidence education recommendation iog 2020.2 identify benefit international charter ostomate rights.3 distinguish concept relate pre- postoperative ostomy relate care.4 select potential barrier iog guideline implementation\n",
      "----------------------------------------------------------\n",
      "Segmenting lesion regions of Coronavirus Disease 2019 (COVID-19) from computed tomography (CT) images is a challenge owing to COVID-19 lesions characterized by high variation, low contrast between infection lesions and around normal tissues, and blurred boundaries of infections. Moreover, a shortage of available CT dataset hinders deep learning techniques applying to tackling COVID-19. To address these issues, we propose a deep learning-based approach known as PPM-Unet to segmenting COVID-19 lesions from CT images. Our method improves an Unet by adopting pyramid pooling modules instead of the conventional skip connection and then enhances the representation of the neural network by aiding the global attention mechanism. We first pre-train PPM-Unet on COVID-19 dataset of pseudo labels containing1600 samples producing a coarse model. Then we fine-tune the coarse PPM-Unet on the standard COVID-19 dataset consisting of 100 pairs of samples to achieve a fine PPM-Unet. Qualitative and quantitative results demonstrate that our method can accurately segment COVID-19 infection regions from CT images, and achieve higher performance than other state-of-the-art segmentation models in this study. It offers a promising tool to lay a foundation for quantitatively detecting COVID-19 lesions.\n",
      "\n",
      "segment lesion region coronavirus disease 2019 covid-19 compute tomography ct image challenge owe covid-19 lesion characterize high variation low contrast infection lesion normal tissue blur boundary infection moreover shortage available ct dataset hinder deep learning technique apply tackle covid-19 to address issue propose deep learning base approach know ppm unet segment covid-19 lesion ct image our method improve unet adopt pyramid pooling module instead conventional skip connection enhance representation neural network aid global attention mechanism we pre - train ppm unet covid-19 dataset pseudo label containing1600 sample produce coarse model then fine tune coarse ppm unet standard covid-19 dataset consist 100 pair sample achieve fine ppm unet qualitative quantitative result demonstrate method accurately segment covid-19 infection region ct image achieve high performance state art segmentation model study it offer promising tool lay foundation quantitatively detect covid-19 lesion\n",
      "\n",
      "segment lesion region compute tomography ct image challenge owe lesion characterize variation low contrast lesion normal tissue blur boundary moreover shortage available ct dataset hinder deep learning technique apply tackle to address issue propose deep learning base approach know ppm unet segment lesion ct image our improve unet adopt pyramid pooling module instead conventional skip connection enhance representation neural network aid global attention mechanism pre train ppm unet dataset pseudo label containing1600 sample produce coarse model then fine tune coarse ppm unet standard dataset consist 100 pair sample achieve fine ppm unet qualitative quantitative demonstrate accurately segment region ct image achieve performance state art segmentation model it offer promising tool lay foundation quantitatively detect lesion\n",
      "----------------------------------------------------------\n",
      "BACKGROUND: To suppress the transmission of coronavirus, many governments, including that of the island of Ireland, implemented a societal lockdown, which included school closures, limits on social gatherings, and time outdoors. This study aimed to evaluate changes in physical activity (PA), mental health, sleep, and social media use among adolescent girls during lockdown. METHODS: 281 female pupils (12-14 y) taking part in the ongoing Walking In Schools study on the island of Ireland self-reported PA, mental health, sleep, and social media use before (September-October 2019) and during lockdown (May-June 2020), via questionnaires. These were supplemented with open-ended structured interviews conducted with 16 girls during lockdown. RESULTS: During the period of lockdown and school closures, pupils tried new forms of PA and undertook PA with family, but there was no significant change in self-reported PA. There was a decline in health-related quality of life and motivation for exercise; however, self-efficacy for walking and happiness with appearance increased. There was no change in sleep quality or social media usage. CONCLUSIONS: Despite the many challenges that schools face as they reopen, there is a need to continue to prioritize PA and motivation for exercise to support health and well-being in adolescent girls.\n",
      "\n",
      "background to suppress transmission coronavirus government include island ireland implement societal lockdown include school closure limit social gathering time outdoors this study aim evaluate change physical activity pa mental health sleep social medium use adolescent girl lockdown method 281 female pupil 12 - 14 y take ongoing walking in schools study island ireland self report pa mental health sleep social medium use september october 2019 lockdown may june 2020 questionnaire these supplement open end structured interview conduct 16 girl lockdown result during period lockdown school closure pupil try new form pa undertake pa family significant change self report pa there decline health relate quality life motivation exercise self efficacy walking happiness appearance increase there change sleep quality social medium usage conclusion despite challenge school face reopen need continue prioritize pa motivation exercise support health adolescent girl\n",
      "\n",
      "background to suppress transmission government island ireland implement societal lockdown school closure limit social gathering time outdoors aim evaluate change physical activity pa mental sleep social medium use adolescent girl lockdown 281 female pupil 12 14 y take ongoing walking school island ireland self pa mental sleep social medium use september october lockdown may june questionnaire these supplement open end structured interview conduct 16 girl lockdown during period lockdown school closure pupil try new form pa undertake pa family significant change self pa there decline relate quality life motivation exercise self efficacy walking happiness appearance increase there change sleep quality social medium usage conclusion despite challenge school face reopen need continue prioritize pa motivation exercise support adolescent girl\n",
      "----------------------------------------------------------\n",
      "The effect of coronavirus disease (COVID-19) on the risk of relapse in multiple sclerosis (MS) have been unknown. In this retrospective study of 41 relapsing-remitting MS patients, number of relapses in pre-defined at risk-period (ARP) was compared with the previous two years. During the previous two years, a total of 32 attacks was reported, which 5 (15.6%) were during the at-risk period. After adjusting for age and sex, there was an increased risk of attack during ARP compared to the previous two years (RR: 2.566, 95%CI: 1.075-6.124, P=0.034). Our preliminary study suggested that COVID-19 can trigger exacerbation of MS.\n",
      "\n",
      "the effect coronavirus disease covid-19 risk relapse multiple sclerosis ms unknown in retrospective study 41 relapse remit ms patient number relapse pre - define risk period arp compare previous year during previous year total 32 attack report 5 15.6 % risk period after adjust age sex increased risk attack arp compare previous year rr 2.566 95%ci 1.075 6.124 p=0.034 our preliminary study suggest covid-19 trigger exacerbation ms\n",
      "\n",
      "effect relapse multiple sclerosis m unknown retrospective 41 relapse remit m number relapse pre define period arp compare previous year during previous year total 32 attack 5 15.6 period after adjust age sex increased attack arp compare previous year rr 2.566 95%ci 1.075 6.124 p=0.034 our preliminary suggest trigger exacerbation m\n",
      "----------------------------------------------------------\n",
      "Coronavirus disease 2019 (COVID-19) patients have manifested a variety of neurological complications, and there is still much to reveal regarding the neurotropism of severe acute respiratory syndrome coronavirus 2 (SARS-CoV-2). Human stem cell-derived brain organoids offer a valuable in vitro approach to study the cellular effects of SARS-CoV-2 on the brain. Here we used human embryonic stem cell-derived cortical organoids to investigate whether SARS-CoV-2 could infect brain tissue in vitro and found that cortical organoids could be infected at low viral titers and within 6 h. Importantly, we show that glial cells and cells of the choroid plexus were preferentially targeted in our model, but not neurons. Interestingly, we also found expression of angiotensin-converting enzyme 2 in SARS-CoV-2 infected cells; however, viral replication and cell death involving DNA fragmentation does not occur. We believe that our model is a tractable platform to study the cellular effects of SARS-CoV-2 infection in brain tissue.\n",
      "\n",
      "coronavirus disease 2019 covid-19 patient manifest variety neurological complication reveal neurotropism severe acute respiratory syndrome coronavirus 2 sars cov-2 human stem cell derive brain organoid offer valuable vitro approach study cellular effect sars cov-2 brain here human embryonic stem cell derive cortical organoid investigate sars cov-2 infect brain tissue vitro find cortical organoid infect low viral titer 6 h. importantly glial cell cell choroid plexus preferentially target model neuron interestingly find expression angiotensin convert enzyme 2 sars cov-2 infect cell viral replication cell death involve dna fragmentation occur we believe model tractable platform study cellular effect sars cov-2 infection brain tissue\n",
      "\n",
      "manifest variety neurological complication reveal neurotropism acute syndrome 2 human stem cell derive brain organoid offer valuable vitro approach cellular effect brain here human embryonic stem cell derive cortical organoid investigate infect brain tissue vitro find cortical organoid infect low viral titer 6 h. importantly glial cell cell choroid plexus preferentially target model neuron interestingly find expression angiotensin convert enzyme 2 infect cell viral replication cell death involve dna fragmentation occur believe model tractable platform cellular effect brain tissue\n",
      "----------------------------------------------------------\n",
      "We detected severe acute respiratory syndrome coronavirus 2 in an otherwise healthy poodle living with 4 family members who had coronavirus disease. We observed antibodies in serum samples taken from the dog, indicating seroconversion. Full-length genome sequencing showed that the canine and human viruses were identical, suggesting human-to-animal transmission.\n",
      "\n",
      "we detect severe acute respiratory syndrome coronavirus 2 healthy poodle live 4 family member coronavirus disease we observe antibody serum sample take dog indicate seroconversion full length genome sequencing show canine human virus identical suggest human animal transmission\n",
      "\n",
      "detect acute syndrome 2 healthy poodle live 4 family member observe antibody serum sample take dog indicate seroconversion full length genome sequencing show canine human identical suggest human animal transmission\n",
      "----------------------------------------------------------\n",
      "We describe response measures to an outbreak involving 128 (33.4%) coronavirus disease cases (46.1% asymptomatic) among 383 persons onboard a passenger ship. Multivariate analysis indicated that dining in certain rooms and bar areas, nationality, working department (for crew members), and quarantining onboard the ship were significantly associated with infection.\n",
      "\n",
      "we describe response measure outbreak involve 128 33.4 % coronavirus disease case 46.1 % asymptomatic 383 person onboard passenger ship multivariate analysis indicate dining certain room bar area nationality working department crew member quarantine onboard ship significantly associate infection\n",
      "\n",
      "describe response measure outbreak involve 128 33.4 46.1 asymptomatic 383 person onboard passenger ship multivariate analysis indicate dining certain room bar area nationality working department crew member quarantine onboard ship significantly associate\n",
      "----------------------------------------------------------\n",
      "Worksites with on-site operations have experienced coronavirus disease (COVID-19) outbreaks. We analyzed data for 698 nonresidential, nonhealthcare worksite COVID-19 outbreaks investigated in Los Angeles County, California, USA, during March 19, 2020September 30, 2020, by using North American Industry Classification System sectors and subsectors. Nearly 60% of these outbreaks occurred in 3 sectors: manufacturing (n = 184, 26.4%), retail trade (n = 137, 19.6%), and transportation and warehousing (n = 73, 10.5%). The largest number of outbreaks and largest number and highest incidence rate of outbreak-associated cases occurred in manufacturing. Furthermore, 7 of the 10 industry subsectors with the highest incidence rates were within manufacturing. Approximately 70% of outbreak-associated case-patients reported Hispanic ethnicity. Facilities employing more on-site staff had larger and longer outbreaks. Identification of highly affected industry sectors and subsectors is necessary for targeted public health planning, outreach, and response, including ensuring vaccine access, to reduce burden of COVID-19 in vulnerable workers.\n",
      "\n",
      "worksite site operation experience coronavirus disease covid-19 outbreak we analyze datum 698 nonresidential nonhealthcare worksite covid-19 outbreak investigate los angeles county california usa march 19 2020september 30 2020 north american industry classification system sector subsector nearly 60 % outbreak occur 3 sector manufacturing n = 184 26.4 % retail trade n = 137 19.6 % transportation warehousing n = 73 10.5 % the large number outbreak large number high incidence rate outbreak associate case occur manufacturing furthermore 7 10 industry subsector high incidence rate manufacturing approximately 70 % outbreak associate case patient report hispanic ethnicity facility employ site staff large long outbreak identification highly affected industry sector subsector necessary target public health planning outreach response include ensure vaccine access reduce burden covid-19 vulnerable worker\n",
      "\n",
      "worksite site operation experience outbreak analyze datum 698 nonresidential nonhealthcare worksite outbreak investigate los angeles county california usa march 19 2020september 30 north american industry classification system sector subsector nearly 60 outbreak occur 3 sector manufacturing n = 184 26.4 retail trade n = 137 19.6 transportation warehousing n = 73 10.5 large number outbreak large number incidence rate outbreak associate occur manufacturing furthermore 7 10 industry subsector incidence rate manufacturing approximately 70 outbreak associate hispanic ethnicity facility employ site staff large long outbreak identification highly affected industry sector subsector necessary target public planning outreach response ensure vaccine access reduce burden vulnerable worker\n",
      "----------------------------------------------------------\n",
      "\n",
      "\n",
      "\n",
      "\n",
      "\n",
      "----------------------------------------------------------\n"
     ]
    }
   ],
   "source": [
    "processed_text = df[\"processed_text\"]\n",
    "body_text = df[\"body_text\"]\n",
    "text_lemmatized = df[\"text_lemmatized\"]\n",
    "\n",
    "for i in range(1,10):\n",
    "    print(body_text[i])\n",
    "    print(\"\")\n",
    "    print(processed_text[i])\n",
    "    print(\"\")\n",
    "    print(text_lemmatized[i])\n",
    "    print(\"----------------------------------------------------------\")\n",
    "\n"
   ]
  },
  {
   "cell_type": "markdown",
   "metadata": {
    "id": "vt1Md_7TGdXJ"
   },
   "source": [
    "### Removal of URLs"
   ]
  },
  {
   "cell_type": "code",
   "execution_count": 49,
   "metadata": {
    "id": "qxnNA9MqGdXJ"
   },
   "outputs": [],
   "source": [
    "import re\n",
    "def remove_urls(text):\n",
    "    url_pattern = re.compile(r'https?://\\S+|www\\.\\S+')\n",
    "    return url_pattern.sub(r'', text)"
   ]
  },
  {
   "cell_type": "code",
   "execution_count": 50,
   "metadata": {
    "colab": {
     "base_uri": "https://localhost:8080/",
     "height": 0
    },
    "id": "302r7FtTGdXJ",
    "outputId": "3a6eb8b8-cfb7-47ce-b5f4-d37e23eed0fd"
   },
   "outputs": [
    {
     "name": "stderr",
     "output_type": "stream",
     "text": [
      "/usr/local/lib/python3.7/dist-packages/ipykernel_launcher.py:1: SettingWithCopyWarning: \n",
      "A value is trying to be set on a copy of a slice from a DataFrame.\n",
      "Try using .loc[row_indexer,col_indexer] = value instead\n",
      "\n",
      "See the caveats in the documentation: https://pandas.pydata.org/pandas-docs/stable/user_guide/indexing.html#returning-a-view-versus-a-copy\n",
      "  \"\"\"Entry point for launching an IPython kernel.\n"
     ]
    },
    {
     "data": {
      "text/html": [
       "<div>\n",
       "<style scoped>\n",
       "    .dataframe tbody tr th:only-of-type {\n",
       "        vertical-align: middle;\n",
       "    }\n",
       "\n",
       "    .dataframe tbody tr th {\n",
       "        vertical-align: top;\n",
       "    }\n",
       "\n",
       "    .dataframe thead th {\n",
       "        text-align: right;\n",
       "    }\n",
       "</style>\n",
       "<table border=\"1\" class=\"dataframe\">\n",
       "  <thead>\n",
       "    <tr style=\"text-align: right;\">\n",
       "      <th></th>\n",
       "      <th>paper_id</th>\n",
       "      <th>abstract</th>\n",
       "      <th>body_text</th>\n",
       "      <th>authors</th>\n",
       "      <th>title</th>\n",
       "      <th>journal</th>\n",
       "      <th>abstract_summary</th>\n",
       "      <th>abstract_word_count</th>\n",
       "      <th>body_word_count</th>\n",
       "      <th>body_unique_words</th>\n",
       "      <th>language</th>\n",
       "      <th>processed_text</th>\n",
       "      <th>text_wo_stopfreq</th>\n",
       "      <th>text_lemmatized</th>\n",
       "      <th>text_lemmatized_no_url</th>\n",
       "    </tr>\n",
       "  </thead>\n",
       "  <tbody>\n",
       "    <tr>\n",
       "      <th>0</th>\n",
       "      <td>33979833</td>\n",
       "      <td>Severe acute respiratory syndrome coronavirus ...</td>\n",
       "      <td>Severe acute respiratory syndrome coronavirus ...</td>\n",
       "      <td>Finkel Y</td>\n",
       "      <td>S</td>\n",
       "      <td>Journal Article</td>\n",
       "      <td>Severe acute respiratory syndrome&lt;br&gt;coronavi...</td>\n",
       "      <td>199</td>\n",
       "      <td>199</td>\n",
       "      <td>125</td>\n",
       "      <td>en</td>\n",
       "      <td>severe acute respiratory syndrome coronavirus ...</td>\n",
       "      <td>acute syndrome 2 cause ongoing 19 pandemic(1 c...</td>\n",
       "      <td>acute syndrome 2 cause ongoing 19 pandemic(1 c...</td>\n",
       "      <td>acute syndrome 2 cause ongoing 19 pandemic(1 c...</td>\n",
       "    </tr>\n",
       "    <tr>\n",
       "      <th>1</th>\n",
       "      <td>33979817</td>\n",
       "      <td>GENERAL PURPOSE: To introduce the 15 recommend...</td>\n",
       "      <td>GENERAL PURPOSE: To introduce the 15 recommend...</td>\n",
       "      <td>Chabal LO</td>\n",
       "      <td>P</td>\n",
       "      <td>Journal Article</td>\n",
       "      <td>GENERAL PURPOSE: To introduce the 15&lt;br&gt;recom...</td>\n",
       "      <td>116</td>\n",
       "      <td>116</td>\n",
       "      <td>85</td>\n",
       "      <td>en</td>\n",
       "      <td>general purpose to introduce 15 recommendation...</td>\n",
       "      <td>general purpose to introduce 15 recommendation...</td>\n",
       "      <td>general purpose to introduce 15 recommendation...</td>\n",
       "      <td>general purpose to introduce 15 recommendation...</td>\n",
       "    </tr>\n",
       "    <tr>\n",
       "      <th>2</th>\n",
       "      <td>33979791</td>\n",
       "      <td>Segmenting lesion regions of Coronavirus Disea...</td>\n",
       "      <td>Segmenting lesion regions of Coronavirus Disea...</td>\n",
       "      <td>Ma Y</td>\n",
       "      <td>S</td>\n",
       "      <td>Journal Article</td>\n",
       "      <td>Segmenting lesion regions of Coronavirus&lt;br&gt;D...</td>\n",
       "      <td>185</td>\n",
       "      <td>185</td>\n",
       "      <td>133</td>\n",
       "      <td>en</td>\n",
       "      <td>segment lesion region coronavirus disease 2019...</td>\n",
       "      <td>segment lesion region compute tomography ct im...</td>\n",
       "      <td>segment lesion region compute tomography ct im...</td>\n",
       "      <td>segment lesion region compute tomography ct im...</td>\n",
       "    </tr>\n",
       "    <tr>\n",
       "      <th>3</th>\n",
       "      <td>33979779</td>\n",
       "      <td>BACKGROUND: To suppress the transmission of co...</td>\n",
       "      <td>BACKGROUND: To suppress the transmission of co...</td>\n",
       "      <td>O'Kane SM</td>\n",
       "      <td>C</td>\n",
       "      <td>Journal Article</td>\n",
       "      <td>BACKGROUND: To suppress the transmission of&lt;b...</td>\n",
       "      <td>199</td>\n",
       "      <td>199</td>\n",
       "      <td>130</td>\n",
       "      <td>en</td>\n",
       "      <td>background to suppress transmission coronaviru...</td>\n",
       "      <td>background to suppress transmission government...</td>\n",
       "      <td>background to suppress transmission government...</td>\n",
       "      <td>background to suppress transmission government...</td>\n",
       "    </tr>\n",
       "    <tr>\n",
       "      <th>4</th>\n",
       "      <td>33979771</td>\n",
       "      <td>The effect of coronavirus disease (COVID-19) o...</td>\n",
       "      <td>The effect of coronavirus disease (COVID-19) o...</td>\n",
       "      <td>Barzegar M</td>\n",
       "      <td>C</td>\n",
       "      <td>Journal Article</td>\n",
       "      <td>The effect of coronavirus disease (COVID-19)&lt;...</td>\n",
       "      <td>99</td>\n",
       "      <td>99</td>\n",
       "      <td>78</td>\n",
       "      <td>en</td>\n",
       "      <td>the effect coronavirus disease covid-19 risk r...</td>\n",
       "      <td>effect relapse multiple sclerosis ms unknown r...</td>\n",
       "      <td>effect relapse multiple sclerosis m unknown re...</td>\n",
       "      <td>effect relapse multiple sclerosis m unknown re...</td>\n",
       "    </tr>\n",
       "  </tbody>\n",
       "</table>\n",
       "</div>"
      ],
      "text/plain": [
       "   paper_id  ...                             text_lemmatized_no_url\n",
       "0  33979833  ...  acute syndrome 2 cause ongoing 19 pandemic(1 c...\n",
       "1  33979817  ...  general purpose to introduce 15 recommendation...\n",
       "2  33979791  ...  segment lesion region compute tomography ct im...\n",
       "3  33979779  ...  background to suppress transmission government...\n",
       "4  33979771  ...  effect relapse multiple sclerosis m unknown re...\n",
       "\n",
       "[5 rows x 15 columns]"
      ]
     },
     "execution_count": 50,
     "metadata": {
      "tags": []
     },
     "output_type": "execute_result"
    }
   ],
   "source": [
    "df[\"text_lemmatized_no_url\"] = df[\"text_lemmatized\"].apply(lambda text: remove_urls(text))\n",
    "df.head()\n",
    "    "
   ]
  },
  {
   "cell_type": "markdown",
   "metadata": {
    "id": "I2ebpR2QGdXK"
   },
   "source": [
    "### Removal of HTML Tags"
   ]
  },
  {
   "cell_type": "code",
   "execution_count": 51,
   "metadata": {
    "id": "pFH-0vTVGdXK"
   },
   "outputs": [],
   "source": [
    "def remove_html(text):\n",
    "    html_pattern = re.compile('<.*?>')\n",
    "    return html_pattern.sub(r'', text)"
   ]
  },
  {
   "cell_type": "code",
   "execution_count": 52,
   "metadata": {
    "colab": {
     "base_uri": "https://localhost:8080/",
     "height": 0
    },
    "id": "sytMw93LGdXK",
    "outputId": "8220c941-b128-432b-b8aa-d817c4786c00"
   },
   "outputs": [
    {
     "name": "stderr",
     "output_type": "stream",
     "text": [
      "/usr/local/lib/python3.7/dist-packages/ipykernel_launcher.py:1: SettingWithCopyWarning: \n",
      "A value is trying to be set on a copy of a slice from a DataFrame.\n",
      "Try using .loc[row_indexer,col_indexer] = value instead\n",
      "\n",
      "See the caveats in the documentation: https://pandas.pydata.org/pandas-docs/stable/user_guide/indexing.html#returning-a-view-versus-a-copy\n",
      "  \"\"\"Entry point for launching an IPython kernel.\n"
     ]
    },
    {
     "data": {
      "text/html": [
       "<div>\n",
       "<style scoped>\n",
       "    .dataframe tbody tr th:only-of-type {\n",
       "        vertical-align: middle;\n",
       "    }\n",
       "\n",
       "    .dataframe tbody tr th {\n",
       "        vertical-align: top;\n",
       "    }\n",
       "\n",
       "    .dataframe thead th {\n",
       "        text-align: right;\n",
       "    }\n",
       "</style>\n",
       "<table border=\"1\" class=\"dataframe\">\n",
       "  <thead>\n",
       "    <tr style=\"text-align: right;\">\n",
       "      <th></th>\n",
       "      <th>paper_id</th>\n",
       "      <th>abstract</th>\n",
       "      <th>body_text</th>\n",
       "      <th>authors</th>\n",
       "      <th>title</th>\n",
       "      <th>journal</th>\n",
       "      <th>abstract_summary</th>\n",
       "      <th>abstract_word_count</th>\n",
       "      <th>body_word_count</th>\n",
       "      <th>body_unique_words</th>\n",
       "      <th>language</th>\n",
       "      <th>processed_text</th>\n",
       "      <th>text_wo_stopfreq</th>\n",
       "      <th>text_lemmatized</th>\n",
       "      <th>text_lemmatized_no_url</th>\n",
       "      <th>text_lemmatized_url_html</th>\n",
       "    </tr>\n",
       "  </thead>\n",
       "  <tbody>\n",
       "    <tr>\n",
       "      <th>0</th>\n",
       "      <td>33979833</td>\n",
       "      <td>Severe acute respiratory syndrome coronavirus ...</td>\n",
       "      <td>Severe acute respiratory syndrome coronavirus ...</td>\n",
       "      <td>Finkel Y</td>\n",
       "      <td>S</td>\n",
       "      <td>Journal Article</td>\n",
       "      <td>Severe acute respiratory syndrome&lt;br&gt;coronavi...</td>\n",
       "      <td>199</td>\n",
       "      <td>199</td>\n",
       "      <td>125</td>\n",
       "      <td>en</td>\n",
       "      <td>severe acute respiratory syndrome coronavirus ...</td>\n",
       "      <td>acute syndrome 2 cause ongoing 19 pandemic(1 c...</td>\n",
       "      <td>acute syndrome 2 cause ongoing 19 pandemic(1 c...</td>\n",
       "      <td>acute syndrome 2 cause ongoing 19 pandemic(1 c...</td>\n",
       "      <td>acute syndrome 2 cause ongoing 19 pandemic(1 c...</td>\n",
       "    </tr>\n",
       "    <tr>\n",
       "      <th>1</th>\n",
       "      <td>33979817</td>\n",
       "      <td>GENERAL PURPOSE: To introduce the 15 recommend...</td>\n",
       "      <td>GENERAL PURPOSE: To introduce the 15 recommend...</td>\n",
       "      <td>Chabal LO</td>\n",
       "      <td>P</td>\n",
       "      <td>Journal Article</td>\n",
       "      <td>GENERAL PURPOSE: To introduce the 15&lt;br&gt;recom...</td>\n",
       "      <td>116</td>\n",
       "      <td>116</td>\n",
       "      <td>85</td>\n",
       "      <td>en</td>\n",
       "      <td>general purpose to introduce 15 recommendation...</td>\n",
       "      <td>general purpose to introduce 15 recommendation...</td>\n",
       "      <td>general purpose to introduce 15 recommendation...</td>\n",
       "      <td>general purpose to introduce 15 recommendation...</td>\n",
       "      <td>general purpose to introduce 15 recommendation...</td>\n",
       "    </tr>\n",
       "    <tr>\n",
       "      <th>2</th>\n",
       "      <td>33979791</td>\n",
       "      <td>Segmenting lesion regions of Coronavirus Disea...</td>\n",
       "      <td>Segmenting lesion regions of Coronavirus Disea...</td>\n",
       "      <td>Ma Y</td>\n",
       "      <td>S</td>\n",
       "      <td>Journal Article</td>\n",
       "      <td>Segmenting lesion regions of Coronavirus&lt;br&gt;D...</td>\n",
       "      <td>185</td>\n",
       "      <td>185</td>\n",
       "      <td>133</td>\n",
       "      <td>en</td>\n",
       "      <td>segment lesion region coronavirus disease 2019...</td>\n",
       "      <td>segment lesion region compute tomography ct im...</td>\n",
       "      <td>segment lesion region compute tomography ct im...</td>\n",
       "      <td>segment lesion region compute tomography ct im...</td>\n",
       "      <td>segment lesion region compute tomography ct im...</td>\n",
       "    </tr>\n",
       "    <tr>\n",
       "      <th>3</th>\n",
       "      <td>33979779</td>\n",
       "      <td>BACKGROUND: To suppress the transmission of co...</td>\n",
       "      <td>BACKGROUND: To suppress the transmission of co...</td>\n",
       "      <td>O'Kane SM</td>\n",
       "      <td>C</td>\n",
       "      <td>Journal Article</td>\n",
       "      <td>BACKGROUND: To suppress the transmission of&lt;b...</td>\n",
       "      <td>199</td>\n",
       "      <td>199</td>\n",
       "      <td>130</td>\n",
       "      <td>en</td>\n",
       "      <td>background to suppress transmission coronaviru...</td>\n",
       "      <td>background to suppress transmission government...</td>\n",
       "      <td>background to suppress transmission government...</td>\n",
       "      <td>background to suppress transmission government...</td>\n",
       "      <td>background to suppress transmission government...</td>\n",
       "    </tr>\n",
       "    <tr>\n",
       "      <th>4</th>\n",
       "      <td>33979771</td>\n",
       "      <td>The effect of coronavirus disease (COVID-19) o...</td>\n",
       "      <td>The effect of coronavirus disease (COVID-19) o...</td>\n",
       "      <td>Barzegar M</td>\n",
       "      <td>C</td>\n",
       "      <td>Journal Article</td>\n",
       "      <td>The effect of coronavirus disease (COVID-19)&lt;...</td>\n",
       "      <td>99</td>\n",
       "      <td>99</td>\n",
       "      <td>78</td>\n",
       "      <td>en</td>\n",
       "      <td>the effect coronavirus disease covid-19 risk r...</td>\n",
       "      <td>effect relapse multiple sclerosis ms unknown r...</td>\n",
       "      <td>effect relapse multiple sclerosis m unknown re...</td>\n",
       "      <td>effect relapse multiple sclerosis m unknown re...</td>\n",
       "      <td>effect relapse multiple sclerosis m unknown re...</td>\n",
       "    </tr>\n",
       "  </tbody>\n",
       "</table>\n",
       "</div>"
      ],
      "text/plain": [
       "   paper_id  ...                           text_lemmatized_url_html\n",
       "0  33979833  ...  acute syndrome 2 cause ongoing 19 pandemic(1 c...\n",
       "1  33979817  ...  general purpose to introduce 15 recommendation...\n",
       "2  33979791  ...  segment lesion region compute tomography ct im...\n",
       "3  33979779  ...  background to suppress transmission government...\n",
       "4  33979771  ...  effect relapse multiple sclerosis m unknown re...\n",
       "\n",
       "[5 rows x 16 columns]"
      ]
     },
     "execution_count": 52,
     "metadata": {
      "tags": []
     },
     "output_type": "execute_result"
    }
   ],
   "source": [
    "df[\"text_lemmatized_url_html\"] = df[\"text_lemmatized_no_url\"].apply(lambda text: remove_html(text))\n",
    "df.head()"
   ]
  },
  {
   "cell_type": "markdown",
   "metadata": {
    "id": "ADe6yiQUGdXK"
   },
   "source": [
    "### Let's take a look at word count in the papers"
   ]
  },
  {
   "cell_type": "code",
   "execution_count": 53,
   "metadata": {
    "id": "QkCHs7YzGdXL"
   },
   "outputs": [],
   "source": [
    "import seaborn as sns"
   ]
  },
  {
   "cell_type": "code",
   "execution_count": 54,
   "metadata": {
    "colab": {
     "base_uri": "https://localhost:8080/",
     "height": 0
    },
    "id": "CEkqhYSoGdXL",
    "outputId": "bb37f339-d12d-4467-fc26-990586fae440"
   },
   "outputs": [
    {
     "name": "stderr",
     "output_type": "stream",
     "text": [
      "/usr/local/lib/python3.7/dist-packages/seaborn/distributions.py:2557: FutureWarning: `distplot` is a deprecated function and will be removed in a future version. Please adapt your code to use either `displot` (a figure-level function with similar flexibility) or `histplot` (an axes-level function for histograms).\n",
      "  warnings.warn(msg, FutureWarning)\n"
     ]
    },
    {
     "data": {
      "text/plain": [
       "count    71179.000000\n",
       "mean       207.227455\n",
       "std         89.059328\n",
       "min          0.000000\n",
       "25%        149.000000\n",
       "50%        205.000000\n",
       "75%        254.000000\n",
       "max       1899.000000\n",
       "Name: body_word_count, dtype: float64"
      ]
     },
     "execution_count": 54,
     "metadata": {
      "tags": []
     },
     "output_type": "execute_result"
    },
    {
     "data": {
      "image/png": "[encoded data removed]",
      "text/plain": [
       "<Figure size 432x288 with 1 Axes>"
      ]
     },
     "metadata": {
      "needs_background": "light",
      "tags": []
     },
     "output_type": "display_data"
    }
   ],
   "source": [
    "sns.distplot(df['body_word_count'])\n",
    "df['body_word_count'].describe()"
   ]
  },
  {
   "cell_type": "code",
   "execution_count": 55,
   "metadata": {
    "colab": {
     "base_uri": "https://localhost:8080/",
     "height": 0
    },
    "id": "UJl1yVcGGdXL",
    "outputId": "c43cee48-1af9-4522-9f5f-2e3d6e6c309f"
   },
   "outputs": [
    {
     "name": "stderr",
     "output_type": "stream",
     "text": [
      "/usr/local/lib/python3.7/dist-packages/seaborn/distributions.py:2557: FutureWarning: `distplot` is a deprecated function and will be removed in a future version. Please adapt your code to use either `displot` (a figure-level function with similar flexibility) or `histplot` (an axes-level function for histograms).\n",
      "  warnings.warn(msg, FutureWarning)\n"
     ]
    },
    {
     "data": {
      "text/plain": [
       "count    71179.000000\n",
       "mean       134.100788\n",
       "std         47.220880\n",
       "min          0.000000\n",
       "25%        104.000000\n",
       "50%        135.000000\n",
       "75%        162.000000\n",
       "max        894.000000\n",
       "Name: body_unique_words, dtype: float64"
      ]
     },
     "execution_count": 55,
     "metadata": {
      "tags": []
     },
     "output_type": "execute_result"
    },
    {
     "data": {
      "image/png": "[encoded data removed]",
      "text/plain": [
       "<Figure size 432x288 with 1 Axes>"
      ]
     },
     "metadata": {
      "needs_background": "light",
      "tags": []
     },
     "output_type": "display_data"
    }
   ],
   "source": [
    "sns.distplot(df['body_unique_words'])\n",
    "df['body_unique_words'].describe()"
   ]
  },
  {
   "cell_type": "markdown",
   "metadata": {
    "id": "MaXzOqs3GdXL"
   },
   "source": [
    "These two plots give us a good idea of the content we are dealing with. Most papers are about 5000 words in length. The long tails in both plots are caused by outliers. In fact, ~98% of the papers are under 20,000 words in length while a select few are over 200,000! <br><br>"
   ]
  },
  {
   "cell_type": "markdown",
   "metadata": {
    "id": "dUv4qKBuGdXM"
   },
   "source": [
    "# Vectorization\n",
    "\n",
    "Now that we have pre-processed the data, it is time to convert it into a format that can be handled by our algorithms. For this purpose we will be using tf-idf. This will convert our string formatted data into a measure of how important each word is to the instance out of the literature as a whole."
   ]
  },
  {
   "cell_type": "code",
   "execution_count": null,
   "metadata": {
    "id": "4pwPl6xfGdXM"
   },
   "outputs": [],
   "source": [
    "from sklearn.feature_extraction.text import TfidfVectorizer\n",
    "def vectorize(text, maxx_features):\n",
    "    \n",
    "    global vectorizer \n",
    "    X = vectorizer.fit_transform(text)\n",
    "    return X"
   ]
  },
  {
   "cell_type": "markdown",
   "metadata": {
    "id": "A3bxyiTZGdXM"
   },
   "source": [
    "Vectorize our data. We will be clustering based off the content of the body text. The maximum number of features will be limited. Only the top 2 ** 12 features will be used, eseentially acting as a noise filter. Additionally, more features cause painfully long runtimes."
   ]
  },
  {
   "cell_type": "code",
   "execution_count": null,
   "metadata": {
    "id": "GtfWSBp7GdXM"
   },
   "outputs": [],
   "source": [
    "text = df['text_lemmatized_url_html'].values\n",
    "vectorizer = TfidfVectorizer(max_features= 2 ** 12)\n",
    "X = vectorize(text, 2 ** 12)\n",
    "X.shape\n",
    "print(X)"
   ]
  },
  {
   "cell_type": "markdown",
   "metadata": {
    "id": "S3WWtZKZGdXV"
   },
   "source": [
    "# PCA  & Clustering\n",
    "\n",
    "Let's see how much we can reduce the dimensions while still keeping 95% variance. We will apply Principle Component Analysis (PCA) to our vectorized data. The reason for this is that by keeping a large number of dimensions with PCA, you don’t destroy much of the information, but hopefully will remove some noise/outliers from the data, and make the clustering problem easier for k-means. Note that X_reduced will only be used for k-means, t-SNE will still use the original feature vector X that was generated through tf-idf on the NLP processed text.\n",
    "\n",
    "(Thank you Dr. Edward Raff for the suggestion)"
   ]
  },
  {
   "cell_type": "code",
   "execution_count": null,
   "metadata": {
    "id": "JjItIrzqGdXV"
   },
   "outputs": [],
   "source": [
    "from sklearn.decomposition import PCA\n",
    "\n",
    "pca = PCA(n_components=0.95, random_state=42)\n",
    "X_reduced= pca.fit_transform(X.toarray())\n",
    "X_reduced.shape"
   ]
  },
  {
   "cell_type": "markdown",
   "metadata": {
    "id": "h1zncLGKGdXW"
   },
   "source": [
    "To separate the literature, k-means will be run on the vectorized text. Given the number of clusters, k, k-means will categorize each vector by taking the mean distance to a randomly initialized centroid. The centroids are updated iteratively."
   ]
  },
  {
   "cell_type": "code",
   "execution_count": null,
   "metadata": {
    "id": "JqhRR064GdXW"
   },
   "outputs": [],
   "source": [
    "from sklearn.cluster import KMeans"
   ]
  },
  {
   "cell_type": "markdown",
   "metadata": {
    "id": "nfzxgKSbGdXW"
   },
   "source": [
    "### How many clusters? \n",
    "\n",
    "To find the best k value for k-means we'll look at the distortion at different k values. Distortion computes the sum of squared distances from each point to its assigned center. When distortion is plotted against k there will be a k value after which decreases in distortion are minimal. This is the desired number of clusters."
   ]
  },
  {
   "cell_type": "code",
   "execution_count": null,
   "metadata": {
    "id": "dQtFIem3GdXW"
   },
   "outputs": [],
   "source": [
    "from sklearn import metrics\n",
    "from scipy.spatial.distance import cdist\n",
    "\n",
    "# run kmeans with many different k\n",
    "distortions = []\n",
    "K = range(2, 10)\n",
    "for k in K:\n",
    "    k_means = KMeans(n_clusters=k, random_state=42).fit(X_reduced)\n",
    "    k_means.fit(X_reduced)\n",
    "    distortions.append(sum(np.min(cdist(X_reduced, k_means.cluster_centers_, 'euclidean'), axis=1)) / X.shape[0])\n",
    "    #print('Found distortion for {} clusters'.format(k))"
   ]
  },
  {
   "cell_type": "code",
   "execution_count": null,
   "metadata": {
    "id": "NlIZDecZGdXX"
   },
   "outputs": [],
   "source": [
    "X_line = [K[0], K[-1]]\n",
    "Y_line = [distortions[0], distortions[-1]]\n",
    "\n",
    "# Plot the elbow\n",
    "plt.plot(K, distortions, 'b-')\n",
    "plt.plot(X_line, Y_line, 'r')\n",
    "plt.xlabel('k')\n",
    "plt.ylabel('Distortion')\n",
    "plt.title('The Elbow Method showing the optimal k')\n",
    "plt.show()"
   ]
  },
  {
   "cell_type": "markdown",
   "metadata": {
    "id": "oEReELpFGdXX"
   },
   "source": [
    "In this plot we can see that the better k values are between 18-25. After that, the decrease in distortion is not as significant. For simplicity, we will use k=20"
   ]
  },
  {
   "cell_type": "markdown",
   "metadata": {
    "id": "FmwV8zp9GdXX"
   },
   "source": [
    "### Run k-means"
   ]
  },
  {
   "cell_type": "markdown",
   "metadata": {
    "id": "WAJHJvcJGdXX"
   },
   "source": [
    "Now that we have an appropriate k value, we can run k-means on the PCA-processed feature vector (X_reduced). "
   ]
  },
  {
   "cell_type": "code",
   "execution_count": null,
   "metadata": {
    "id": "z57mgFgyGdXY"
   },
   "outputs": [],
   "source": [
    "k = 5\n",
    "kmeans = KMeans(n_clusters=k, random_state=42)\n",
    "y_pred = kmeans.fit_predict(X_reduced)\n",
    "df['y'] = y_pred\n",
    "df['y']"
   ]
  },
  {
   "cell_type": "markdown",
   "metadata": {
    "id": "ELUJxg91GdXY"
   },
   "source": [
    "# Dimensionality Reduction with t-SNE"
   ]
  },
  {
   "cell_type": "code",
   "execution_count": null,
   "metadata": {
    "id": "d7viOoUkGdXY"
   },
   "outputs": [],
   "source": [
    "from sklearn.manifold import TSNE\n",
    "\n",
    "tsne = TSNE(verbose=1, perplexity=100, random_state=42)\n",
    "X_embedded = tsne.fit_transform(X.toarray())"
   ]
  },
  {
   "cell_type": "markdown",
   "metadata": {
    "id": "oSPlTLQ_GdXY"
   },
   "source": [
    "So that step took a while! Let's take a look at what our data looks like when compressed to 2 dimensions. "
   ]
  },
  {
   "cell_type": "code",
   "execution_count": null,
   "metadata": {
    "id": "TRXeDaCTGdXZ"
   },
   "outputs": [],
   "source": [
    "from matplotlib import pyplot as plt\n",
    "import seaborn as sns\n",
    "\n",
    "# sns settings\n",
    "sns.set(rc={'figure.figsize':(15,15)})\n",
    "\n",
    "# colors\n",
    "palette = sns.color_palette(\"bright\", 1)\n",
    "\n",
    "# plot\n",
    "sns.scatterplot(X_embedded[:,0], X_embedded[:,1], palette=palette)\n",
    "plt.title('t-SNE with no Labels')\n",
    "plt.savefig(\"t-sne_covid19.png\")\n",
    "plt.show()"
   ]
  },
  {
   "cell_type": "markdown",
   "metadata": {
    "id": "RuG7CYq1GdXZ"
   },
   "source": [
    "This looks pretty bland. There are some clusters we can immediately detect, but the many instances closer to the center are harder to separate. t-SNE did a good job at reducing the dimensionality, but now we need some labels. Let's use the clusters found by k-means as labels. This will help visually separate different concentrations of topics."
   ]
  },
  {
   "cell_type": "code",
   "execution_count": null,
   "metadata": {
    "id": "4Va-oH-KGdXZ"
   },
   "outputs": [],
   "source": [
    "%matplotlib inline\n",
    "from matplotlib import pyplot as plt\n",
    "import seaborn as sns\n",
    "\n",
    "# sns settings\n",
    "sns.set(rc={'figure.figsize':(15,15)})\n",
    "\n",
    "# colors\n",
    "palette = sns.hls_palette(5, l=.4, s=.9)\n",
    "\n",
    "# plot\n",
    "sns.scatterplot(X_embedded[:,0], X_embedded[:,1], hue=y_pred, legend='full', palette=palette)\n",
    "plt.title('t-SNE with Kmeans Labels')\n",
    "plt.savefig(\"improved_cluster_tsne.png\")\n",
    "plt.show()"
   ]
  },
  {
   "cell_type": "markdown",
   "metadata": {
    "id": "G0_CsDsTGdXZ"
   },
   "source": [
    "The labeled plot gives better insight into how the papers are grouped. It is interesting that both k-means and t-SNE are able to agree on certain clusters even though they were ran independetly. The location of each paper on the plot was determined by t-SNE while the label (color) was determined by k-means. If we look at a particular part of the plot where t-SNE has grouped many articles forming a cluster, it is likely that k-means is uniform in the labeling of this cluster (most of the cluster is the same color). This behavior shows that structure within the literature can be observed and measured to some extent. \n",
    "\n",
    "Now there are other cases where the colored labels (k-means) are spread out on the plot (t-SNE). This is a result of t-SNE and k-means finding different connections in the higher dimensional data. The topics of these papers often intersect so it hard to cleanly separate them. This effect can be observed in the formation of subclusters on the plot. These subclusters are a conglomeration of different k-means labels but may share some connection determined by t-SNE.\n",
    "\n",
    "This organization of the data does not act as a simple search engine. The clustering + dimensionality reduction is performed on the mathematical similarities of the publications. As an unsupervised approach, the algorithms may even find connections that were unnaparent to humans. This may highlight hidden shared information and advance further research.\n"
   ]
  },
  {
   "cell_type": "markdown",
   "metadata": {
    "id": "IlQ1QWQ3GdXa"
   },
   "source": [
    "# NMF"
   ]
  },
  {
   "cell_type": "code",
   "execution_count": null,
   "metadata": {
    "id": "s-b9yEPeGdXa"
   },
   "outputs": [],
   "source": [
    "!pip install https://s3-us-west-2.amazonaws.com/ai2-s2-scispacy/releases/v0.4.0/en_ner_bc5cdr_md-0.4.0.tar.gz\n",
    "import en_ner_bc5cdr_md\n",
    "nlp = spacy.load(\"en_ner_bc5cdr_md\")"
   ]
  },
  {
   "cell_type": "code",
   "execution_count": null,
   "metadata": {
    "id": "9uT5XlpxGdXa"
   },
   "outputs": [],
   "source": [
    "from sklearn.decomposition import NMF, LatentDirichletAllocation\n",
    "nmf = NMF(n_components=20, random_state=1,\n",
    "          alpha=.1, l1_ratio=.5).fit(X)"
   ]
  },
  {
   "cell_type": "code",
   "execution_count": null,
   "metadata": {
    "id": "Cv3zcGECGdXa"
   },
   "outputs": [],
   "source": [
    "def plot_top_words(model, feature_names, n_top_words, title):\n",
    "    fig, axes = plt.subplots(5, 4, figsize=(30, 60), sharex=True)\n",
    "    axes = axes.flatten()\n",
    "    for topic_idx, topic in enumerate(model.components_):\n",
    "        top_features_ind = topic.argsort()[:-n_top_words - 1:-1]\n",
    "        top_features = [feature_names[i] for i in top_features_ind]\n",
    "        weights = topic[top_features_ind]\n",
    "\n",
    "        ax = axes[topic_idx]\n",
    "        ax.barh(top_features, weights, height=0.7)\n",
    "        ax.set_title(f'Topic {topic_idx +1}',\n",
    "                     fontdict={'fontsize': 30})\n",
    "        ax.invert_yaxis()\n",
    "        ax.tick_params(axis='both', which='major', labelsize=20)\n",
    "        for i in 'top right left'.split():\n",
    "            ax.spines[i].set_visible(False)\n",
    "        fig.suptitle(title, fontsize=40)\n",
    "\n",
    "    plt.subplots_adjust(top=0.90, bottom=0.05, wspace=0.90, hspace=0.3)\n",
    "    plt.show()"
   ]
  },
  {
   "cell_type": "code",
   "execution_count": null,
   "metadata": {
    "id": "WTdCJFkpGdXb"
   },
   "outputs": [],
   "source": [
    "#vectorizer = TfidfVectorizer(max_features= 2 ** 12)\n"
   ]
  },
  {
   "cell_type": "code",
   "execution_count": null,
   "metadata": {
    "id": "zYgUClytGdXb"
   },
   "outputs": [],
   "source": [
    "tfidf_feature_names = vectorizer.get_feature_names()\n",
    "plot_top_words(nmf, tfidf_feature_names, 40,\n",
    "               'Topics in NMF model')"
   ]
  },
  {
   "cell_type": "code",
   "execution_count": null,
   "metadata": {
    "id": "bmd86A4KGdXb"
   },
   "outputs": [],
   "source": [
    "all_keywords = []\n",
    "for topic_idx, topic in enumerate(nmf.components_):\n",
    "    #top words = 100\n",
    "    top_features_ind = topic.argsort()[:-40 - 1:-1]\n",
    "    top_features = [tfidf_feature_names[i] for i in top_features_ind]\n",
    "    all_keywords.append(top_features)"
   ]
  },
  {
   "cell_type": "code",
   "execution_count": null,
   "metadata": {
    "id": "AjR4CdXRGdXb"
   },
   "outputs": [],
   "source": [
    "for num_clus in range(0,20):\n",
    "    print(\"*************Cluster \",num_clus,\"*********************\")\n",
    "    str1 = ','.join(all_keywords[num_clus])\n",
    "    doc = nlp(str1)\n",
    "    print(str1)\n",
    "    print(\"-------------------------------------------\")\n",
    "    TERM_LIST = [e.text for e in doc.ents if (e.label_ == \"DISEASE\")]\n",
    "    print(\"TERM_LIST : \" ,TERM_LIST )\n",
    "    print(\"\")"
   ]
  },
  {
   "cell_type": "markdown",
   "metadata": {
    "id": "3ZgQfDUdGdXc"
   },
   "source": [
    "# Word's Similarity"
   ]
  },
  {
   "cell_type": "code",
   "execution_count": null,
   "metadata": {
    "id": "fwT8KzhtGdXc"
   },
   "outputs": [],
   "source": [
    "! python3 -m spacy download en_core_web_md\n",
    "import spacy\n",
    "nlp = spacy.load('en_core_web_md')\n",
    "cov_word =nlp(\"coronavirus\")\n",
    "for num_clus in range(0,20):\n",
    "    print(\"*************Cluster \",num_clus,\"*********************\")\n",
    "    str1 = ' '.join(all_keywords[num_clus])\n",
    "    doc = nlp(str1)\n",
    "    print(str1)\n",
    "    print(\"-------------------------------------------\")\n",
    "    words = [e.text for e in doc.ents if (e.label_ == \"DISEASE\")]\n",
    "    print(\"TERM_LIST : \" ,words)\n",
    "    print(\"\")\n",
    "    for token in doc:\n",
    "        #print(token.text, token.has_vector, token.vector_norm, token.is_oov) \n",
    "        if cov_word.similarity(token) > 0.5 :\n",
    "            print(\"Similarity Between {\",cov_word,\"} and {\",token,\"} is :   \",cov_word.similarity(token))\n",
    "    print(\"__________________________________________________________________\")\n"
   ]
  },
  {
   "cell_type": "code",
   "execution_count": null,
   "metadata": {
    "id": "5My4g8nmGdXc"
   },
   "outputs": [],
   "source": [
    "import spacy\n",
    "nlp = spacy.load('en_core_web_md')\n",
    "cov_word =nlp(\"coronavirus\")\n",
    "top_similar = []\n",
    "for num_clus in range(0,20):\n",
    "    str1 = ' '.join(all_keywords[num_clus])\n",
    "    doc = nlp(str1)\n",
    "    words = [e.text for e in doc.ents if (e.label_ == \"DISEASE\")]\n",
    "    for token in doc:\n",
    "        if cov_word.similarity(token) > 0.5 :\n",
    "            top_similar.append((token.text , cov_word.similarity(token)))\n",
    "LL = top_similar\n",
    "top_similar_sorted = []\n",
    "for a in top_similar :\n",
    "    if a not in top_similar_sorted:\n",
    "        top_similar_sorted.append(a)\n",
    "top_similar_sorted = sorted(top_similar_sorted, key=lambda tup: tup[1],reverse=True)\n",
    "top_similar_sorted"
   ]
  },
  {
   "cell_type": "code",
   "execution_count": null,
   "metadata": {
    "id": "QJygphmLGdXc"
   },
   "outputs": [],
   "source": [
    "li = top_similar_sorted[0:10]"
   ]
  },
  {
   "cell_type": "code",
   "execution_count": null,
   "metadata": {
    "id": "5mPLisYIGdXd"
   },
   "outputs": [],
   "source": [
    "nlp = spacy.load('en_core_web_md')\n",
    "lii = []\n",
    "for tup in li:\n",
    "    cov_word =nlp(tup[0])\n",
    "    top_similar = []\n",
    "    for num_clus in range(0,20):\n",
    "        str1 = ' '.join(all_keywords[num_clus])\n",
    "        doc = nlp(str1)\n",
    "        words = [e.text for e in doc.ents if (e.label_ == \"DISEASE\")]\n",
    "        for token in doc:\n",
    "            if cov_word.similarity(token) > 0.5 :\n",
    "                top_similar.append((token.text , cov_word.similarity(token)))\n",
    "    top_similar_sorted = []\n",
    "    for a in top_similar :\n",
    "        if a not in top_similar_sorted:\n",
    "            top_similar_sorted.append(a)\n",
    "    top_similar_sorted = sorted(top_similar_sorted, key=lambda tup: tup[1],reverse=True)\n",
    "    top_similar_sorted = top_similar_sorted[0:10]\n",
    "    lii.append((tup[0],top_similar_sorted))\n",
    "# LL = top_similar\n",
    "# top_similar_sorted = []\n",
    "# for a in top_similar :\n",
    "#     if a not in top_similar_sorted:\n",
    "#         top_similar_sorted.append(a)\n",
    "# top_similar_sorted = sorted(top_similar_sorted, key=lambda tup: tup[1],reverse=True)\n",
    "# top_similar_sorted\n",
    "top_ten_of_ten = lii\n",
    "top_ten_of_ten"
   ]
  },
  {
   "cell_type": "code",
   "execution_count": null,
   "metadata": {
    "id": "YwuyS2zdGdXd"
   },
   "outputs": [],
   "source": [
    "\n",
    "ten_diseases = []\n",
    "for i,mots in top_similar_sorted :\n",
    "    if mots not in ten_diseases:\n",
    "        ten_diseases.append(i)\n",
    "ten_diseases"
   ]
  },
  {
   "cell_type": "code",
   "execution_count": null,
   "metadata": {
    "id": "JlwGYOpTGdXe"
   },
   "outputs": [],
   "source": [
    "hundred_diseases = []\n",
    "for i,mots in top_ten_of_ten :\n",
    "    for mot,val in mots:\n",
    "        if mot not in hundred_diseases:\n",
    "            hundred_diseases.append(mot)\n",
    "hundred_diseases\n"
   ]
  },
  {
   "cell_type": "code",
   "execution_count": null,
   "metadata": {
    "id": "whrbctpAGdXe"
   },
   "outputs": [],
   "source": [
    "print(lemmatizer.lemmatize(\"diabete\"))\n",
    "print(lemmatizer.lemmatize(\"diabetes\"))\n",
    "print(lemmatizer.lemmatize(\"diabetic\"))\n",
    "\n",
    "print(lemmatizer.lemmatize(\"feet\"))\n",
    "\n",
    "print(lemmatizer.lemmatize(\"vaccinations\"))\n",
    "print(lemmatizer.lemmatize(\"vaccination\"))\n",
    "print(lemmatizer.lemmatize(\"vaccinated\"))\n",
    "\n",
    "print(lemmatizer.lemmatize(\"speaking\"))\n",
    "print(lemmatizer.lemmatize(\"speaks\"))\n",
    "print(lemmatizer.lemmatize(\"spoken\"))\n",
    "\n"
   ]
  },
  {
   "cell_type": "markdown",
   "metadata": {
    "id": "lFtc50BvGdXf"
   },
   "source": [
    "# LDA"
   ]
  },
  {
   "cell_type": "code",
   "execution_count": null,
   "metadata": {
    "id": "nKg6ZvBJGdXg"
   },
   "outputs": [],
   "source": [
    "nlp = spacy.load(\"en_ner_bc5cdr_md\")"
   ]
  },
  {
   "cell_type": "code",
   "execution_count": null,
   "metadata": {
    "id": "Vcy4mJ2NGdXh"
   },
   "outputs": [],
   "source": [
    "from sklearn.decomposition import LatentDirichletAllocation\n",
    "from sklearn.feature_extraction.text import CountVectorizer\n",
    "\n",
    "tf = CountVectorizer(max_df=0.9, min_df=5, stop_words='english')\n",
    "tff = tf.fit_transform(text)\n",
    "lda = LatentDirichletAllocation(n_components=20, max_iter=10, learning_method='online', random_state=42)\n",
    "lda.fit(tff)\n"
   ]
  },
  {
   "cell_type": "code",
   "execution_count": null,
   "metadata": {
    "id": "Hi1R3ksKGdXi"
   },
   "outputs": [],
   "source": [
    "tf_feature_names = tf.get_feature_names()\n",
    "plot_top_words(lda, tf_feature_names, 40, 'Topics in LDA model')"
   ]
  },
  {
   "cell_type": "code",
   "execution_count": null,
   "metadata": {
    "id": "_rLQ6z1OGdXj"
   },
   "outputs": [],
   "source": [
    "all_keywords = []\n",
    "for topic_idx, topic in enumerate(lda.components_):\n",
    "    #top words = 100\n",
    "    top_features_ind = topic.argsort()[:-100 - 1:-1]\n",
    "    top_features = [tfidf_feature_names[i] for i in top_features_ind]\n",
    "    all_keywords.append(top_features)"
   ]
  },
  {
   "cell_type": "code",
   "execution_count": null,
   "metadata": {
    "id": "VC911PdEGdXj"
   },
   "outputs": [],
   "source": [
    "for num_clus in range(0,20):\n",
    "    print(\"*************Cluster \",num_clus,\"*********************\")\n",
    "    str1 = ','.join(all_keywords[num_clus])\n",
    "    doc = nlp(str1)\n",
    "    print(str1)\n",
    "    print(\"-------------------------------------------\")\n",
    "    TERM_LIST = [e.text for e in doc.ents if (e.label_ == \"DISEASE\")]\n",
    "    print(\"TERM_LIST : \" ,TERM_LIST)\n",
    "    print(\"\")"
   ]
  },
  {
   "cell_type": "markdown",
   "metadata": {
    "id": "wJ23mdGJGdXj"
   },
   "source": [
    "# LSA"
   ]
  },
  {
   "cell_type": "code",
   "execution_count": null,
   "metadata": {
    "id": "O4SplcohGdXj"
   },
   "outputs": [],
   "source": [
    "nlp = spacy.load(\"en_ner_bc5cdr_md\")"
   ]
  },
  {
   "cell_type": "code",
   "execution_count": null,
   "metadata": {
    "id": "vMJi5v-eGdXk"
   },
   "outputs": [],
   "source": [
    "from sklearn.decomposition import TruncatedSVD\n",
    "\n",
    "# SVD represent documents and terms in vectors \n",
    "svd_model = TruncatedSVD(n_components=20, algorithm='randomized', n_iter=100, random_state=122)\n",
    "\n",
    "svd_model.fit(X)\n",
    "\n",
    "len(svd_model.components_)"
   ]
  },
  {
   "cell_type": "code",
   "execution_count": null,
   "metadata": {
    "id": "twjr_ruVGdXk",
    "scrolled": false
   },
   "outputs": [],
   "source": [
    "terms = vectorizer.get_feature_names()\n",
    "\n",
    "for i, comp in enumerate(svd_model.components_):\n",
    "    terms_comp = zip(terms, comp)\n",
    "    sorted_terms = sorted(terms_comp, key= lambda x:x[1], reverse=True)[:7]\n",
    "    print(\"Topic \"+str(i)+\": \")\n",
    "    for t in sorted_terms:\n",
    "        print(t[0] ,\" \",end='')\n",
    "    print(\" \")"
   ]
  },
  {
   "cell_type": "code",
   "execution_count": null,
   "metadata": {
    "id": "opHly9WoGdXk"
   },
   "outputs": [],
   "source": [
    "all_keywords = []\n",
    "for topic_idx, topic in enumerate(svd_model.components_):\n",
    "    #top words = 100\n",
    "    top_features_ind = topic.argsort()[:-40 - 1:-1]\n",
    "    top_features = [tfidf_feature_names[i] for i in top_features_ind]\n",
    "    all_keywords.append(top_features)\n"
   ]
  },
  {
   "cell_type": "code",
   "execution_count": null,
   "metadata": {
    "id": "Xh9_N_sQGdXk"
   },
   "outputs": [],
   "source": [
    "for num_clus in range(0,19):\n",
    "    print(\"*************Cluster \",num_clus,\"*********************\")\n",
    "    str1 = ','.join(all_keywords[num_clus])\n",
    "    doc = nlp(str1)\n",
    "    print(str1)\n",
    "    print(\"-------------------------------------------\")\n",
    "    TERM_LIST = [e.text for e in doc.ents if (e.label_ == \"DISEASE\")]\n",
    "    print(\"TERM_LIST : \" ,TERM_LIST )\n",
    "    print(\"\")"
   ]
  },
  {
   "cell_type": "markdown",
   "metadata": {
    "id": "6xLP_e6OGdXl"
   },
   "source": [
    "# Topic Modeling on Each Cluster\n",
    "\n",
    "Now we will attempt to find the most significant words in each clusters. K-means clustered the articles but did not label the topics. Through topic modeling we will find out what the most important terms for each cluster are. This will add more meaning to the cluster by giving keywords to quickly identify the themes of the cluster."
   ]
  },
  {
   "cell_type": "markdown",
   "metadata": {
    "id": "NIYgILD4GdXl"
   },
   "source": [
    "For topic modeling, we will use LDA (Latent Dirichlet Allocation). In LDA, each document can be described by a distribution of topics and each topic can be described by a distribution of words[.](https://towardsdatascience.com/light-on-math-machine-learning-intuitive-guide-to-latent-dirichlet-allocation-437c81220158)"
   ]
  },
  {
   "cell_type": "code",
   "execution_count": null,
   "metadata": {
    "id": "bhRnfxi3GdXl"
   },
   "outputs": [],
   "source": [
    "from sklearn.decomposition import LatentDirichletAllocation\n",
    "from sklearn.feature_extraction.text import CountVectorizer"
   ]
  },
  {
   "cell_type": "markdown",
   "metadata": {
    "id": "2ImkN2FzGdXl"
   },
   "source": [
    "First we will create 20 vectorizers, one for each of our cluster labels"
   ]
  },
  {
   "cell_type": "code",
   "execution_count": null,
   "metadata": {
    "id": "4reePRHjGdXm"
   },
   "outputs": [],
   "source": [
    "vectorizers = []\n",
    "    \n",
    "for ii in range(0, 5):\n",
    "    # Creating a vectorizer\n",
    "    vectorizers.append(CountVectorizer(min_df=5, max_df=0.9, stop_words='english', lowercase=True, token_pattern='[a-zA-Z\\-][a-zA-Z\\-]{2,}'))"
   ]
  },
  {
   "cell_type": "markdown",
   "metadata": {
    "id": "o0ehZYYDGdXm"
   },
   "source": [
    "Now we will vectorize the data from each of our clusters"
   ]
  },
  {
   "cell_type": "code",
   "execution_count": null,
   "metadata": {
    "id": "KqeWNw16GdXm"
   },
   "outputs": [],
   "source": [
    "vectorized_data = []\n",
    "\n",
    "for current_cluster, cvec in enumerate(vectorizers):\n",
    "    try:\n",
    "        vectorized_data.append(cvec.fit_transform(df.loc[df['y'] == current_cluster, 'text_lemmatized_url_html']))\n",
    "        #d'ou vient df['y'] =   y_pred = kmeans.fit_predict(X_reduced)      df['y'] = y_pred       df['y']\n",
    "    except Exception as e:\n",
    "        print(\"Not enough instances in cluster: \" + str(current_cluster))\n",
    "        vectorized_data.append(None)"
   ]
  },
  {
   "cell_type": "code",
   "execution_count": null,
   "metadata": {
    "id": "mrLjsueEGdXm"
   },
   "outputs": [],
   "source": [
    "len(vectorized_data)"
   ]
  },
  {
   "cell_type": "markdown",
   "metadata": {
    "id": "qCbIuEnTGdXn"
   },
   "source": [
    "Topic modeling will be performed through the use of Latent Dirichlet Allocation (LDA). This is a generative statistical model that allows sets of words to be explained by a shared topic"
   ]
  },
  {
   "cell_type": "markdown",
   "metadata": {
    "id": "CjjMs_KiGdXn"
   },
   "source": [
    "# Topic modeling on each cluster using LDA : "
   ]
  },
  {
   "cell_type": "code",
   "execution_count": null,
   "metadata": {
    "id": "tjxM-t3oGdXn"
   },
   "outputs": [],
   "source": [
    "nlp = spacy.load(\"en_ner_bc5cdr_md\")"
   ]
  },
  {
   "cell_type": "code",
   "execution_count": null,
   "metadata": {
    "id": "8iadtccWGdXn"
   },
   "outputs": [],
   "source": [
    "# number of topics per cluster\n",
    "NUM_TOPICS_PER_CLUSTER = 6\n",
    "\n",
    "lda_models = []\n",
    "for ii in range(0, 5):\n",
    "    # Latent Dirichlet Allocation Model\n",
    "    lda = LatentDirichletAllocation(n_components=NUM_TOPICS_PER_CLUSTER, max_iter=10, learning_method='online',verbose=False, random_state=42)\n",
    "    lda_models.append(lda)\n",
    "    "
   ]
  },
  {
   "cell_type": "markdown",
   "metadata": {
    "id": "zKOAm3CQGdXo"
   },
   "source": [
    "For each cluster, we had created a correspoding LDA model in the previous step. We will now fit_transform all the LDA models on their respective cluster vectors"
   ]
  },
  {
   "cell_type": "code",
   "execution_count": null,
   "metadata": {
    "id": "9YMlSzi5GdXo"
   },
   "outputs": [],
   "source": [
    "clusters_lda_data = []\n",
    "\n",
    "for current_cluster, lda in enumerate(lda_models):\n",
    "    # print(\"Current Cluster: \" + str(current_cluster))\n",
    "    \n",
    "    if vectorized_data[current_cluster] != None:\n",
    "        clusters_lda_data.append((lda.fit_transform(vectorized_data[current_cluster])))"
   ]
  },
  {
   "cell_type": "markdown",
   "metadata": {
    "id": "hElpEbxcGdXo"
   },
   "source": [
    "Extracts the keywords from each cluster"
   ]
  },
  {
   "cell_type": "code",
   "execution_count": null,
   "metadata": {
    "id": "BQtSif0LGdXo"
   },
   "outputs": [],
   "source": [
    "# Functions for printing keywords for each topic\n",
    "def selected_topics(model, vectorizer, top_n=20):\n",
    "    current_words = []\n",
    "    keywords = []\n",
    "    \n",
    "    for idx, topic in enumerate(model.components_):\n",
    "        words = [(vectorizer.get_feature_names()[i], topic[i]) for i in topic.argsort()[:-top_n - 1:-1]]\n",
    "        for word in words:\n",
    "            if word[0] not in current_words:\n",
    "                keywords.append(word)\n",
    "                current_words.append(word[0])\n",
    "                \n",
    "    keywords.sort(key = lambda x: x[1])  \n",
    "    keywords.reverse()\n",
    "    return_values = []\n",
    "    for ii in keywords:\n",
    "        return_values.append(ii[0])\n",
    "    return return_values"
   ]
  },
  {
   "cell_type": "markdown",
   "metadata": {
    "id": "ZO42LqrQGdXo"
   },
   "source": [
    "Append list of keywords for a single cluster to 2D list of length NUM_TOPICS_PER_CLUSTER"
   ]
  },
  {
   "cell_type": "code",
   "execution_count": null,
   "metadata": {
    "id": "U1kCDB0iGdXp"
   },
   "outputs": [],
   "source": [
    "all_keywords = []\n",
    "for current_vectorizer, lda in enumerate(lda_models):\n",
    "    # print(\"Current Cluster: \" + str(current_vectorizer))\n",
    "\n",
    "    if vectorized_data[current_vectorizer] != None:\n",
    "        all_keywords.append(selected_topics(lda, vectorizers[current_vectorizer]))"
   ]
  },
  {
   "cell_type": "code",
   "execution_count": null,
   "metadata": {
    "id": "8vsPJpVNGdXp",
    "scrolled": false
   },
   "outputs": [],
   "source": [
    "for i in range(0,5):\n",
    "    print(all_keywords[i])"
   ]
  },
  {
   "cell_type": "code",
   "execution_count": null,
   "metadata": {
    "id": "rxvVBe0uGdXp"
   },
   "outputs": [],
   "source": [
    "for num_clus in range(0,5):\n",
    "    print(\"*************Cluster \",num_clus,\"*********************\")\n",
    "    str1 = ','.join(all_keywords[num_clus])\n",
    "    doc = nlp(str1)\n",
    "    print(str1)\n",
    "    print(\"-------------------------------------------\")\n",
    "    TERM_LIST = [e.text for e in doc.ents if (e.label_ == \"DISEASE\")]\n",
    "    print(\"TERM_LIST : \" ,TERM_LIST )\n",
    "    print(\"\")"
   ]
  },
  {
   "cell_type": "markdown",
   "metadata": {
    "id": "expLMIYXGdXq"
   },
   "source": [
    "# Topic modeling on each cluster using NMF : "
   ]
  },
  {
   "cell_type": "code",
   "execution_count": null,
   "metadata": {
    "id": "zDvtJo89GdXq"
   },
   "outputs": [],
   "source": [
    "nlp = spacy.load(\"en_ner_bc5cdr_md\")"
   ]
  },
  {
   "cell_type": "code",
   "execution_count": null,
   "metadata": {
    "id": "XqOid8w1GdXq"
   },
   "outputs": [],
   "source": [
    "# number of topics per cluster\n",
    "NUM_TOPICS_PER_CLUSTER = 6\n",
    "\n",
    "nmf_models = []\n",
    "for ii in range(0, 5):\n",
    "    # nmf\n",
    "    nmf = NMF(n_components=NUM_TOPICS_PER_CLUSTER, random_state=1,alpha=.1, l1_ratio=.5)\n",
    "    nmf_models.append(nmf)\n",
    "    \n",
    "nmf_models[0]"
   ]
  },
  {
   "cell_type": "code",
   "execution_count": null,
   "metadata": {
    "id": "8kSWIhkVGdXq"
   },
   "outputs": [],
   "source": [
    "clusters_nmf_data = []\n",
    "\n",
    "for current_cluster, nmf in enumerate(nmf_models):\n",
    "    print(\"Current Cluster: \" + str(current_cluster))\n",
    "    if vectorized_data[current_cluster] != None:\n",
    "        clusters_nmf_data.append((nmf.fit_transform(vectorized_data[current_cluster])))"
   ]
  },
  {
   "cell_type": "code",
   "execution_count": null,
   "metadata": {
    "id": "Eoa7zpV9GdXr"
   },
   "outputs": [],
   "source": [
    "# Functions for printing keywords for each topic\n",
    "def selected_topics(model, vectorizer, top_n=20):\n",
    "    current_words = []\n",
    "    keywords = []\n",
    "    \n",
    "    for idx, topic in enumerate(model.components_):\n",
    "        words = [(vectorizer.get_feature_names()[i], topic[i]) for i in topic.argsort()[:-top_n - 1:-1]]\n",
    "        for word in words:\n",
    "            if word[0] not in current_words:\n",
    "                keywords.append(word)\n",
    "                current_words.append(word[0])\n",
    "                \n",
    "    keywords.sort(key = lambda x: x[1])  \n",
    "    keywords.reverse()\n",
    "    return_values = []\n",
    "    for ii in keywords:\n",
    "        return_values.append(ii[0])\n",
    "    return return_values"
   ]
  },
  {
   "cell_type": "code",
   "execution_count": null,
   "metadata": {
    "id": "vxWyYVYIGdXr"
   },
   "outputs": [],
   "source": [
    "all_keywords = []\n",
    "for current_vectorizer, nmf in enumerate(nmf_models):\n",
    "    # print(\"Current Cluster: \" + str(current_vectorizer))\n",
    "    if vectorized_data[current_vectorizer] != None:\n",
    "        all_keywords.append(selected_topics(nmf, vectorizers[current_vectorizer]))"
   ]
  },
  {
   "cell_type": "code",
   "execution_count": null,
   "metadata": {
    "id": "NnQnh6yJGdXr"
   },
   "outputs": [],
   "source": [
    "for i in range(0,5):\n",
    "    print(all_keywords[i])"
   ]
  },
  {
   "cell_type": "markdown",
   "metadata": {
    "id": "bbCDnySBGdXs"
   },
   "source": [
    "## travail realisé :\n",
    " - detection automatique des noms de maladies\n",
    " - construction d'un corpus en utilisant les noms des maladies detectés"
   ]
  },
  {
   "cell_type": "code",
   "execution_count": null,
   "metadata": {
    "id": "anlH_PPwGdXs"
   },
   "outputs": [],
   "source": [
    "for num_clus in range(0,5):\n",
    "    print(\"*************Cluster \",num_clus,\"*********************\")\n",
    "    str1 = ','.join(all_keywords[num_clus])\n",
    "    doc = nlp(str1)\n",
    "    print(str1)\n",
    "    print(\"-------------------------------------------\")\n",
    "    TERM_LIST = [e.text for e in doc.ents if (e.label_ == \"DISEASE\")]\n",
    "    print(\"TERM_LIST : \" ,TERM_LIST )\n",
    "    print(\"\")\n"
   ]
  },
  {
   "cell_type": "code",
   "execution_count": null,
   "metadata": {
    "id": "P1wFmFYcGdXs"
   },
   "outputs": [],
   "source": [
    "from Bio import Entrez\n",
    "from Bio import Medline\n",
    "import json\n",
    "\n",
    "\n",
    "MAX_COUNT = 3\n",
    "for TERM in ten_diseases:\n",
    "    Entrez.email = 'A.N.Other@example.com'\n",
    "    h = Entrez.esearch(db='pubmed', retmax=MAX_COUNT, term=TERM)\n",
    "    result = Entrez.read(h)\n",
    "    ids = result['IdList']\n",
    "    h = Entrez.efetch(db='pubmed', id=ids, rettype='medline', retmode='json')\n",
    "    records = Medline.parse(h)\n",
    "    i=0\n",
    "    for record in records:\n",
    "        filename=\"fichier_\"+TERM+str(i)+\".json\"\n",
    "        json.dump(record, open(\".\\\\new_corpus\\\\\"+filename, 'w'))\n",
    "        data = json.load(open(\".\\\\new_corpus\\\\\"+filename))\n",
    "        i=i+1\n",
    "[(e.text, e.start_char, e.end_char, e.label_) for e in doc.ents]"
   ]
  },
  {
   "cell_type": "code",
   "execution_count": null,
   "metadata": {
    "id": "O3HSAiA5GdXs"
   },
   "outputs": [],
   "source": [
    "len(all_keywords)"
   ]
  }
 ],
 "metadata": {
  "accelerator": "GPU",
  "colab": {
   "name": "covid-19-literature-clustering.ipynb",
   "provenance": []
  },
  "kernelspec": {
   "display_name": "Python 3",
   "language": "python",
   "name": "python3"
  },
  "language_info": {
   "codemirror_mode": {
    "name": "ipython",
    "version": 3
   },
   "file_extension": ".py",
   "mimetype": "text/x-python",
   "name": "python",
   "nbconvert_exporter": "python",
   "pygments_lexer": "ipython3",
   "version": "3.8.5"
  }
 },
 "nbformat": 4,
 "nbformat_minor": 1
}
